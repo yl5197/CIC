{
 "cells": [
  {
   "cell_type": "markdown",
   "id": "9eb9e2c6-a455-4a6e-9b98-2d55d2507092",
   "metadata": {},
   "source": [
    "# STATEMENT OF PURPOSE\n",
    "## 1. The Topic of this project\n",
    "This project will try to understand the relationship between population and hate crime occurances in New York City.\n",
    "\n",
    "## 2. The data of this project\n",
    "The data would contains the following:\n",
    "\n",
    "NYPD Hate Crimes：https://data.cityofnewyork.us/Public-Safety/NYPD-Hate-Crimes/bqiq-cu78/about_data\n",
    "New York City Population by Borough, 1950 - 2040：https://data.cityofnewyork.us/City-Government/New-York-City-Population-by-Borough-1950-2040/xywu-7bv9/data_preview\n",
    "The time period of these two dataset would be year 2020.\n",
    "I filtered the NYPD Hate Crimes datasets to year 2020 when downloading.\n",
    "\n",
    "## 3. Data source\n",
    "The data is from the suggest open date portal: NYC Open Data\n",
    "\n",
    "## 4. Data Requirements\n",
    "The two sets of data are from credible sites\n",
    "I will clean and process the data as necessary within the program\n",
    "Finally, this is the data I am unfamiliar with. \n"
   ]
  },
  {
   "cell_type": "markdown",
   "id": "bfd5ca92-3c98-4f5e-a025-c3b74030b787",
   "metadata": {},
   "source": [
    "# Coding Zone\n",
    "\n",
    "## STEP 1: Import the necessary packages"
   ]
  },
  {
   "cell_type": "code",
   "execution_count": 28,
   "id": "1862c7ec-3451-485f-919c-746682c4af2b",
   "metadata": {},
   "outputs": [],
   "source": [
    "import plotly.io as pio\n",
    "\n",
    "pio.renderers.default = \"vscode+jupyterlab+notebook_connected\""
   ]
  },
  {
   "cell_type": "code",
   "execution_count": 29,
   "id": "d861c92a-326b-4aa1-ac28-f4c0cd0e780f",
   "metadata": {},
   "outputs": [],
   "source": [
    "import pandas as pd\n",
    "import plotly.express as px\n",
    "import matplotlib.pyplot as plt"
   ]
  },
  {
   "cell_type": "markdown",
   "id": "e99219c2-ef18-4751-ac83-e0b321029dce",
   "metadata": {},
   "source": [
    "## STEP 2: Import and clean the data as necessary"
   ]
  },
  {
   "cell_type": "code",
   "execution_count": 31,
   "id": "0deaf39e-57f6-41a6-ae4d-8924c8150e88",
   "metadata": {},
   "outputs": [
    {
     "name": "stdout",
     "output_type": "stream",
     "text": [
      "<class 'pandas.core.frame.DataFrame'>\n",
      "RangeIndex: 6 entries, 0 to 5\n",
      "Data columns (total 22 columns):\n",
      " #   Column                          Non-Null Count  Dtype  \n",
      "---  ------                          --------------  -----  \n",
      " 0   Age Group                       6 non-null      object \n",
      " 1   County                          6 non-null      object \n",
      " 2   1950                            6 non-null      int64  \n",
      " 3   1950 - Boro share of NYC total  6 non-null      float64\n",
      " 4   1960                            6 non-null      int64  \n",
      " 5   1960 - Boro share of NYC total  6 non-null      float64\n",
      " 6   1970                            6 non-null      int64  \n",
      " 7   1970 - Boro share of NYC total  6 non-null      float64\n",
      " 8   1980                            6 non-null      int64  \n",
      " 9   1980 - Boro share of NYC total  6 non-null      float64\n",
      " 10  1990                            6 non-null      int64  \n",
      " 11  1990 - Boro share of NYC total  6 non-null      float64\n",
      " 12  2000                            6 non-null      int64  \n",
      " 13  2000 - Boro share of NYC total  6 non-null      float64\n",
      " 14  2010                            6 non-null      int64  \n",
      " 15  2010 - Boro share of NYC total  6 non-null      float64\n",
      " 16  2020                            6 non-null      int64  \n",
      " 17  2020 - Boro share of NYC total  6 non-null      float64\n",
      " 18  2030                            6 non-null      int64  \n",
      " 19  2030 - Boro share of NYC total  6 non-null      float64\n",
      " 20  2040                            6 non-null      int64  \n",
      " 21  2040 - Boro share of NYC total  6 non-null      float64\n",
      "dtypes: float64(10), int64(10), object(2)\n",
      "memory usage: 1.2+ KB\n"
     ]
    }
   ],
   "source": [
    "# importing data\n",
    "population = pd.read_csv(\"New_York_City_Population_by_Borough.csv\")\n",
    "population.info()"
   ]
  },
  {
   "cell_type": "code",
   "execution_count": 32,
   "id": "a7868405-dbf2-4402-806c-471cbbbc97f0",
   "metadata": {},
   "outputs": [
    {
     "data": {
      "text/html": [
       "<div>\n",
       "<style scoped>\n",
       "    .dataframe tbody tr th:only-of-type {\n",
       "        vertical-align: middle;\n",
       "    }\n",
       "\n",
       "    .dataframe tbody tr th {\n",
       "        vertical-align: top;\n",
       "    }\n",
       "\n",
       "    .dataframe thead th {\n",
       "        text-align: right;\n",
       "    }\n",
       "</style>\n",
       "<table border=\"1\" class=\"dataframe\">\n",
       "  <thead>\n",
       "    <tr style=\"text-align: right;\">\n",
       "      <th></th>\n",
       "      <th>Age Group</th>\n",
       "      <th>County</th>\n",
       "      <th>1950</th>\n",
       "      <th>1950 - Boro share of NYC total</th>\n",
       "      <th>1960</th>\n",
       "      <th>1960 - Boro share of NYC total</th>\n",
       "      <th>1970</th>\n",
       "      <th>1970 - Boro share of NYC total</th>\n",
       "      <th>1980</th>\n",
       "      <th>1980 - Boro share of NYC total</th>\n",
       "      <th>...</th>\n",
       "      <th>2000</th>\n",
       "      <th>2000 - Boro share of NYC total</th>\n",
       "      <th>2010</th>\n",
       "      <th>2010 - Boro share of NYC total</th>\n",
       "      <th>2020</th>\n",
       "      <th>2020 - Boro share of NYC total</th>\n",
       "      <th>2030</th>\n",
       "      <th>2030 - Boro share of NYC total</th>\n",
       "      <th>2040</th>\n",
       "      <th>2040 - Boro share of NYC total</th>\n",
       "    </tr>\n",
       "  </thead>\n",
       "  <tbody>\n",
       "    <tr>\n",
       "      <th>0</th>\n",
       "      <td>Total Population</td>\n",
       "      <td>NYC Total</td>\n",
       "      <td>7891957</td>\n",
       "      <td>100.00</td>\n",
       "      <td>7781984</td>\n",
       "      <td>100.00</td>\n",
       "      <td>7894862</td>\n",
       "      <td>100.00</td>\n",
       "      <td>7071639</td>\n",
       "      <td>100.00</td>\n",
       "      <td>...</td>\n",
       "      <td>8008278</td>\n",
       "      <td>100.00</td>\n",
       "      <td>8242624</td>\n",
       "      <td>100.00</td>\n",
       "      <td>8550971</td>\n",
       "      <td>100.00</td>\n",
       "      <td>8821027</td>\n",
       "      <td>100.00</td>\n",
       "      <td>9025145</td>\n",
       "      <td>100.00</td>\n",
       "    </tr>\n",
       "    <tr>\n",
       "      <th>1</th>\n",
       "      <td>Total Population</td>\n",
       "      <td>BRONX</td>\n",
       "      <td>1451277</td>\n",
       "      <td>18.39</td>\n",
       "      <td>1424815</td>\n",
       "      <td>18.31</td>\n",
       "      <td>1471701</td>\n",
       "      <td>18.64</td>\n",
       "      <td>1168972</td>\n",
       "      <td>16.53</td>\n",
       "      <td>...</td>\n",
       "      <td>1332650</td>\n",
       "      <td>16.64</td>\n",
       "      <td>1385108</td>\n",
       "      <td>16.80</td>\n",
       "      <td>1446788</td>\n",
       "      <td>16.92</td>\n",
       "      <td>1518998</td>\n",
       "      <td>17.22</td>\n",
       "      <td>1579245</td>\n",
       "      <td>17.50</td>\n",
       "    </tr>\n",
       "    <tr>\n",
       "      <th>2</th>\n",
       "      <td>Total Population</td>\n",
       "      <td>KINGS</td>\n",
       "      <td>2738175</td>\n",
       "      <td>34.70</td>\n",
       "      <td>2627319</td>\n",
       "      <td>33.76</td>\n",
       "      <td>2602012</td>\n",
       "      <td>32.96</td>\n",
       "      <td>2230936</td>\n",
       "      <td>31.55</td>\n",
       "      <td>...</td>\n",
       "      <td>2465326</td>\n",
       "      <td>30.78</td>\n",
       "      <td>2552911</td>\n",
       "      <td>30.97</td>\n",
       "      <td>2648452</td>\n",
       "      <td>30.97</td>\n",
       "      <td>2754009</td>\n",
       "      <td>31.22</td>\n",
       "      <td>2840525</td>\n",
       "      <td>31.47</td>\n",
       "    </tr>\n",
       "    <tr>\n",
       "      <th>3</th>\n",
       "      <td>Total Population</td>\n",
       "      <td>NEW YORK</td>\n",
       "      <td>1960101</td>\n",
       "      <td>24.84</td>\n",
       "      <td>1698281</td>\n",
       "      <td>21.82</td>\n",
       "      <td>1539233</td>\n",
       "      <td>19.50</td>\n",
       "      <td>1428285</td>\n",
       "      <td>20.20</td>\n",
       "      <td>...</td>\n",
       "      <td>1537195</td>\n",
       "      <td>19.20</td>\n",
       "      <td>1585873</td>\n",
       "      <td>19.24</td>\n",
       "      <td>1638281</td>\n",
       "      <td>19.16</td>\n",
       "      <td>1676720</td>\n",
       "      <td>19.01</td>\n",
       "      <td>1691617</td>\n",
       "      <td>18.74</td>\n",
       "    </tr>\n",
       "    <tr>\n",
       "      <th>4</th>\n",
       "      <td>Total Population</td>\n",
       "      <td>QUEENS</td>\n",
       "      <td>1550849</td>\n",
       "      <td>19.65</td>\n",
       "      <td>1809578</td>\n",
       "      <td>23.25</td>\n",
       "      <td>1986473</td>\n",
       "      <td>25.16</td>\n",
       "      <td>1891325</td>\n",
       "      <td>26.75</td>\n",
       "      <td>...</td>\n",
       "      <td>2229379</td>\n",
       "      <td>27.84</td>\n",
       "      <td>2250002</td>\n",
       "      <td>27.30</td>\n",
       "      <td>2330295</td>\n",
       "      <td>27.25</td>\n",
       "      <td>2373551</td>\n",
       "      <td>26.91</td>\n",
       "      <td>2412649</td>\n",
       "      <td>26.73</td>\n",
       "    </tr>\n",
       "  </tbody>\n",
       "</table>\n",
       "<p>5 rows × 22 columns</p>\n",
       "</div>"
      ],
      "text/plain": [
       "          Age Group     County     1950  1950 - Boro share of NYC total  \\\n",
       "0  Total Population  NYC Total  7891957                          100.00   \n",
       "1  Total Population      BRONX  1451277                           18.39   \n",
       "2  Total Population      KINGS  2738175                           34.70   \n",
       "3  Total Population   NEW YORK  1960101                           24.84   \n",
       "4  Total Population     QUEENS  1550849                           19.65   \n",
       "\n",
       "      1960  1960 - Boro share of NYC total     1970  \\\n",
       "0  7781984                          100.00  7894862   \n",
       "1  1424815                           18.31  1471701   \n",
       "2  2627319                           33.76  2602012   \n",
       "3  1698281                           21.82  1539233   \n",
       "4  1809578                           23.25  1986473   \n",
       "\n",
       "   1970 - Boro share of NYC total     1980  1980 - Boro share of NYC total  \\\n",
       "0                          100.00  7071639                          100.00   \n",
       "1                           18.64  1168972                           16.53   \n",
       "2                           32.96  2230936                           31.55   \n",
       "3                           19.50  1428285                           20.20   \n",
       "4                           25.16  1891325                           26.75   \n",
       "\n",
       "   ...     2000  2000 - Boro share of NYC total     2010  \\\n",
       "0  ...  8008278                          100.00  8242624   \n",
       "1  ...  1332650                           16.64  1385108   \n",
       "2  ...  2465326                           30.78  2552911   \n",
       "3  ...  1537195                           19.20  1585873   \n",
       "4  ...  2229379                           27.84  2250002   \n",
       "\n",
       "   2010 - Boro share of NYC total     2020  2020 - Boro share of NYC total  \\\n",
       "0                          100.00  8550971                          100.00   \n",
       "1                           16.80  1446788                           16.92   \n",
       "2                           30.97  2648452                           30.97   \n",
       "3                           19.24  1638281                           19.16   \n",
       "4                           27.30  2330295                           27.25   \n",
       "\n",
       "      2030  2030 - Boro share of NYC total     2040  \\\n",
       "0  8821027                          100.00  9025145   \n",
       "1  1518998                           17.22  1579245   \n",
       "2  2754009                           31.22  2840525   \n",
       "3  1676720                           19.01  1691617   \n",
       "4  2373551                           26.91  2412649   \n",
       "\n",
       "   2040 - Boro share of NYC total  \n",
       "0                          100.00  \n",
       "1                           17.50  \n",
       "2                           31.47  \n",
       "3                           18.74  \n",
       "4                           26.73  \n",
       "\n",
       "[5 rows x 22 columns]"
      ]
     },
     "execution_count": 32,
     "metadata": {},
     "output_type": "execute_result"
    }
   ],
   "source": [
    "population.head()"
   ]
  },
  {
   "cell_type": "code",
   "execution_count": 33,
   "id": "f59bcbc7-af97-48c8-8335-4ec4a19be3f8",
   "metadata": {},
   "outputs": [
    {
     "name": "stdout",
     "output_type": "stream",
     "text": [
      "<class 'pandas.core.frame.DataFrame'>\n",
      "RangeIndex: 284 entries, 0 to 283\n",
      "Data columns (total 14 columns):\n",
      " #   Column                         Non-Null Count  Dtype \n",
      "---  ------                         --------------  ----- \n",
      " 0   Full Complaint ID              284 non-null    int64 \n",
      " 1   Complaint Year Number          284 non-null    int64 \n",
      " 2   Month Number                   284 non-null    int64 \n",
      " 3   Record Create Date             284 non-null    object\n",
      " 4   Complaint Precinct Code        284 non-null    int64 \n",
      " 5   Patrol Borough Name            284 non-null    object\n",
      " 6   County                         284 non-null    object\n",
      " 7   Law Code Category Description  284 non-null    object\n",
      " 8   Offense Description            284 non-null    object\n",
      " 9   PD Code Description            284 non-null    object\n",
      " 10  Bias Motive Description        284 non-null    object\n",
      " 11  Offense Category               284 non-null    object\n",
      " 12  Arrest Date                    103 non-null    object\n",
      " 13  Arrest Id                      103 non-null    object\n",
      "dtypes: int64(4), object(10)\n",
      "memory usage: 31.2+ KB\n"
     ]
    }
   ],
   "source": [
    "# importing data\n",
    "hate_crime = pd.read_csv(\"NYPD_Hate_Crimes.csv\")\n",
    "hate_crime.info()"
   ]
  },
  {
   "cell_type": "code",
   "execution_count": 34,
   "id": "23b42299-d03e-461f-97b7-a096dd2b2b9c",
   "metadata": {},
   "outputs": [
    {
     "data": {
      "text/html": [
       "<div>\n",
       "<style scoped>\n",
       "    .dataframe tbody tr th:only-of-type {\n",
       "        vertical-align: middle;\n",
       "    }\n",
       "\n",
       "    .dataframe tbody tr th {\n",
       "        vertical-align: top;\n",
       "    }\n",
       "\n",
       "    .dataframe thead th {\n",
       "        text-align: right;\n",
       "    }\n",
       "</style>\n",
       "<table border=\"1\" class=\"dataframe\">\n",
       "  <thead>\n",
       "    <tr style=\"text-align: right;\">\n",
       "      <th></th>\n",
       "      <th>Full Complaint ID</th>\n",
       "      <th>Complaint Year Number</th>\n",
       "      <th>Month Number</th>\n",
       "      <th>Record Create Date</th>\n",
       "      <th>Complaint Precinct Code</th>\n",
       "      <th>Patrol Borough Name</th>\n",
       "      <th>County</th>\n",
       "      <th>Law Code Category Description</th>\n",
       "      <th>Offense Description</th>\n",
       "      <th>PD Code Description</th>\n",
       "      <th>Bias Motive Description</th>\n",
       "      <th>Offense Category</th>\n",
       "      <th>Arrest Date</th>\n",
       "      <th>Arrest Id</th>\n",
       "    </tr>\n",
       "  </thead>\n",
       "  <tbody>\n",
       "    <tr>\n",
       "      <th>0</th>\n",
       "      <td>202007012371917</td>\n",
       "      <td>2020</td>\n",
       "      <td>5</td>\n",
       "      <td>05/12/2020</td>\n",
       "      <td>70</td>\n",
       "      <td>PATROL BORO BKLYN SOUTH</td>\n",
       "      <td>KINGS</td>\n",
       "      <td>FELONY</td>\n",
       "      <td>MISCELLANEOUS PENAL LAW</td>\n",
       "      <td>AGGRAVATED HARASSMENT 1</td>\n",
       "      <td>ANTI-JEWISH</td>\n",
       "      <td>Religion/Religious Practice</td>\n",
       "      <td>05/12/2020</td>\n",
       "      <td>K32688959</td>\n",
       "    </tr>\n",
       "    <tr>\n",
       "      <th>1</th>\n",
       "      <td>202008812373017</td>\n",
       "      <td>2020</td>\n",
       "      <td>8</td>\n",
       "      <td>08/21/2020</td>\n",
       "      <td>88</td>\n",
       "      <td>PATROL BORO BKLYN NORTH</td>\n",
       "      <td>KINGS</td>\n",
       "      <td>MISDEMEANOR</td>\n",
       "      <td>CRIMINAL MISCHIEF &amp; RELATED OF</td>\n",
       "      <td>CRIMINAL MISCHIEF 4TH, GRAFFIT</td>\n",
       "      <td>ANTI-JEWISH</td>\n",
       "      <td>Religion/Religious Practice</td>\n",
       "      <td>08/21/2020</td>\n",
       "      <td>K32697729</td>\n",
       "    </tr>\n",
       "    <tr>\n",
       "      <th>2</th>\n",
       "      <td>202006112636617</td>\n",
       "      <td>2020</td>\n",
       "      <td>11</td>\n",
       "      <td>11/28/2020</td>\n",
       "      <td>61</td>\n",
       "      <td>PATROL BORO BKLYN SOUTH</td>\n",
       "      <td>KINGS</td>\n",
       "      <td>FELONY</td>\n",
       "      <td>MISCELLANEOUS PENAL LAW</td>\n",
       "      <td>AGGRAVATED HARASSMENT 1</td>\n",
       "      <td>ANTI-JEWISH</td>\n",
       "      <td>Religion/Religious Practice</td>\n",
       "      <td>11/28/2020</td>\n",
       "      <td>K32709542</td>\n",
       "    </tr>\n",
       "    <tr>\n",
       "      <th>3</th>\n",
       "      <td>202007012887617</td>\n",
       "      <td>2020</td>\n",
       "      <td>12</td>\n",
       "      <td>12/26/2020</td>\n",
       "      <td>70</td>\n",
       "      <td>PATROL BORO BKLYN SOUTH</td>\n",
       "      <td>KINGS</td>\n",
       "      <td>FELONY</td>\n",
       "      <td>MISCELLANEOUS PENAL LAW</td>\n",
       "      <td>AGGRAVATED HARASSMENT 1</td>\n",
       "      <td>ANTI-JEWISH</td>\n",
       "      <td>Religion/Religious Practice</td>\n",
       "      <td>12/31/2020</td>\n",
       "      <td>K32713379</td>\n",
       "    </tr>\n",
       "    <tr>\n",
       "      <th>4</th>\n",
       "      <td>202004412397317</td>\n",
       "      <td>2020</td>\n",
       "      <td>3</td>\n",
       "      <td>03/28/2020</td>\n",
       "      <td>44</td>\n",
       "      <td>PATROL BORO BRONX</td>\n",
       "      <td>BRONX</td>\n",
       "      <td>FELONY</td>\n",
       "      <td>FELONY ASSAULT</td>\n",
       "      <td>ASSAULT 2,1,UNCLASSIFIED</td>\n",
       "      <td>ANTI-ASIAN</td>\n",
       "      <td>Race/Color</td>\n",
       "      <td>03/28/2020</td>\n",
       "      <td>B32682490</td>\n",
       "    </tr>\n",
       "  </tbody>\n",
       "</table>\n",
       "</div>"
      ],
      "text/plain": [
       "   Full Complaint ID  Complaint Year Number  Month Number Record Create Date  \\\n",
       "0    202007012371917                   2020             5         05/12/2020   \n",
       "1    202008812373017                   2020             8         08/21/2020   \n",
       "2    202006112636617                   2020            11         11/28/2020   \n",
       "3    202007012887617                   2020            12         12/26/2020   \n",
       "4    202004412397317                   2020             3         03/28/2020   \n",
       "\n",
       "   Complaint Precinct Code      Patrol Borough Name County  \\\n",
       "0                       70  PATROL BORO BKLYN SOUTH  KINGS   \n",
       "1                       88  PATROL BORO BKLYN NORTH  KINGS   \n",
       "2                       61  PATROL BORO BKLYN SOUTH  KINGS   \n",
       "3                       70  PATROL BORO BKLYN SOUTH  KINGS   \n",
       "4                       44        PATROL BORO BRONX  BRONX   \n",
       "\n",
       "  Law Code Category Description             Offense Description  \\\n",
       "0                        FELONY         MISCELLANEOUS PENAL LAW   \n",
       "1                   MISDEMEANOR  CRIMINAL MISCHIEF & RELATED OF   \n",
       "2                        FELONY         MISCELLANEOUS PENAL LAW   \n",
       "3                        FELONY         MISCELLANEOUS PENAL LAW   \n",
       "4                        FELONY                  FELONY ASSAULT   \n",
       "\n",
       "              PD Code Description Bias Motive Description  \\\n",
       "0         AGGRAVATED HARASSMENT 1             ANTI-JEWISH   \n",
       "1  CRIMINAL MISCHIEF 4TH, GRAFFIT             ANTI-JEWISH   \n",
       "2         AGGRAVATED HARASSMENT 1             ANTI-JEWISH   \n",
       "3         AGGRAVATED HARASSMENT 1             ANTI-JEWISH   \n",
       "4        ASSAULT 2,1,UNCLASSIFIED              ANTI-ASIAN   \n",
       "\n",
       "              Offense Category Arrest Date  Arrest Id  \n",
       "0  Religion/Religious Practice  05/12/2020  K32688959  \n",
       "1  Religion/Religious Practice  08/21/2020  K32697729  \n",
       "2  Religion/Religious Practice  11/28/2020  K32709542  \n",
       "3  Religion/Religious Practice  12/31/2020  K32713379  \n",
       "4                   Race/Color  03/28/2020  B32682490  "
      ]
     },
     "execution_count": 34,
     "metadata": {},
     "output_type": "execute_result"
    }
   ],
   "source": [
    "hate_crime.head()"
   ]
  },
  {
   "cell_type": "code",
   "execution_count": 35,
   "id": "c8a38cfa-629b-4dda-a519-37788b85efee",
   "metadata": {},
   "outputs": [
    {
     "name": "stderr",
     "output_type": "stream",
     "text": [
      "/var/folders/gr/j4_l_y157053xtxqwwtpyhb40000gn/T/ipykernel_80501/2110186595.py:3: SettingWithCopyWarning:\n",
      "\n",
      "\n",
      "A value is trying to be set on a copy of a slice from a DataFrame.\n",
      "Try using .loc[row_indexer,col_indexer] = value instead\n",
      "\n",
      "See the caveats in the documentation: https://pandas.pydata.org/pandas-docs/stable/user_guide/indexing.html#returning-a-view-versus-a-copy\n",
      "\n"
     ]
    },
    {
     "data": {
      "text/html": [
       "<div>\n",
       "<style scoped>\n",
       "    .dataframe tbody tr th:only-of-type {\n",
       "        vertical-align: middle;\n",
       "    }\n",
       "\n",
       "    .dataframe tbody tr th {\n",
       "        vertical-align: top;\n",
       "    }\n",
       "\n",
       "    .dataframe thead th {\n",
       "        text-align: right;\n",
       "    }\n",
       "</style>\n",
       "<table border=\"1\" class=\"dataframe\">\n",
       "  <thead>\n",
       "    <tr style=\"text-align: right;\">\n",
       "      <th></th>\n",
       "      <th>County</th>\n",
       "      <th>2020</th>\n",
       "      <th>2000 - Boro share of NYC total</th>\n",
       "    </tr>\n",
       "  </thead>\n",
       "  <tbody>\n",
       "    <tr>\n",
       "      <th>0</th>\n",
       "      <td>NYC Total</td>\n",
       "      <td>8550.971</td>\n",
       "      <td>100.00</td>\n",
       "    </tr>\n",
       "    <tr>\n",
       "      <th>1</th>\n",
       "      <td>BRONX</td>\n",
       "      <td>1446.788</td>\n",
       "      <td>16.64</td>\n",
       "    </tr>\n",
       "    <tr>\n",
       "      <th>2</th>\n",
       "      <td>KINGS</td>\n",
       "      <td>2648.452</td>\n",
       "      <td>30.78</td>\n",
       "    </tr>\n",
       "    <tr>\n",
       "      <th>3</th>\n",
       "      <td>NEW YORK</td>\n",
       "      <td>1638.281</td>\n",
       "      <td>19.20</td>\n",
       "    </tr>\n",
       "    <tr>\n",
       "      <th>4</th>\n",
       "      <td>QUEENS</td>\n",
       "      <td>2330.295</td>\n",
       "      <td>27.84</td>\n",
       "    </tr>\n",
       "  </tbody>\n",
       "</table>\n",
       "</div>"
      ],
      "text/plain": [
       "      County      2020  2000 - Boro share of NYC total\n",
       "0  NYC Total  8550.971                          100.00\n",
       "1      BRONX  1446.788                           16.64\n",
       "2      KINGS  2648.452                           30.78\n",
       "3   NEW YORK  1638.281                           19.20\n",
       "4     QUEENS  2330.295                           27.84"
      ]
     },
     "execution_count": 35,
     "metadata": {},
     "output_type": "execute_result"
    }
   ],
   "source": [
    "#filter data to year 2020 and count population in thousands for ease of calculation\n",
    "population_2020 = population[['County','2020','2000 - Boro share of NYC total']]\n",
    "population_2020['2020'] = population_2020['2020']/1000\n",
    "population_2020.head()"
   ]
  },
  {
   "cell_type": "code",
   "execution_count": 36,
   "id": "4d8dbb5f-4f32-478d-a599-3781dfdff222",
   "metadata": {},
   "outputs": [
    {
     "data": {
      "text/html": [
       "<div>\n",
       "<style scoped>\n",
       "    .dataframe tbody tr th:only-of-type {\n",
       "        vertical-align: middle;\n",
       "    }\n",
       "\n",
       "    .dataframe tbody tr th {\n",
       "        vertical-align: top;\n",
       "    }\n",
       "\n",
       "    .dataframe thead th {\n",
       "        text-align: right;\n",
       "    }\n",
       "</style>\n",
       "<table border=\"1\" class=\"dataframe\">\n",
       "  <thead>\n",
       "    <tr style=\"text-align: right;\">\n",
       "      <th></th>\n",
       "      <th>County</th>\n",
       "      <th>Offense Description</th>\n",
       "      <th>Count</th>\n",
       "    </tr>\n",
       "  </thead>\n",
       "  <tbody>\n",
       "    <tr>\n",
       "      <th>0</th>\n",
       "      <td>BRONX</td>\n",
       "      <td>ASSAULT 3 &amp; RELATED OFFENSES</td>\n",
       "      <td>5</td>\n",
       "    </tr>\n",
       "    <tr>\n",
       "      <th>1</th>\n",
       "      <td>BRONX</td>\n",
       "      <td>CRIMINAL MISCHIEF &amp; RELATED OF</td>\n",
       "      <td>4</td>\n",
       "    </tr>\n",
       "    <tr>\n",
       "      <th>2</th>\n",
       "      <td>BRONX</td>\n",
       "      <td>FELONY ASSAULT</td>\n",
       "      <td>6</td>\n",
       "    </tr>\n",
       "    <tr>\n",
       "      <th>3</th>\n",
       "      <td>BRONX</td>\n",
       "      <td>MISCELLANEOUS PENAL LAW</td>\n",
       "      <td>8</td>\n",
       "    </tr>\n",
       "    <tr>\n",
       "      <th>4</th>\n",
       "      <td>BRONX</td>\n",
       "      <td>OFF. AGNST PUB ORD SENSBLTY &amp;</td>\n",
       "      <td>1</td>\n",
       "    </tr>\n",
       "    <tr>\n",
       "      <th>5</th>\n",
       "      <td>BRONX</td>\n",
       "      <td>ROBBERY</td>\n",
       "      <td>2</td>\n",
       "    </tr>\n",
       "    <tr>\n",
       "      <th>6</th>\n",
       "      <td>KINGS</td>\n",
       "      <td>ASSAULT 3 &amp; RELATED OFFENSES</td>\n",
       "      <td>19</td>\n",
       "    </tr>\n",
       "    <tr>\n",
       "      <th>7</th>\n",
       "      <td>KINGS</td>\n",
       "      <td>BURGLARY</td>\n",
       "      <td>4</td>\n",
       "    </tr>\n",
       "    <tr>\n",
       "      <th>8</th>\n",
       "      <td>KINGS</td>\n",
       "      <td>CRIMINAL MISCHIEF &amp; RELATED OF</td>\n",
       "      <td>18</td>\n",
       "    </tr>\n",
       "    <tr>\n",
       "      <th>9</th>\n",
       "      <td>KINGS</td>\n",
       "      <td>FELONY ASSAULT</td>\n",
       "      <td>10</td>\n",
       "    </tr>\n",
       "    <tr>\n",
       "      <th>10</th>\n",
       "      <td>KINGS</td>\n",
       "      <td>GRAND LARCENY</td>\n",
       "      <td>3</td>\n",
       "    </tr>\n",
       "    <tr>\n",
       "      <th>11</th>\n",
       "      <td>KINGS</td>\n",
       "      <td>MISCELLANEOUS PENAL LAW</td>\n",
       "      <td>34</td>\n",
       "    </tr>\n",
       "    <tr>\n",
       "      <th>12</th>\n",
       "      <td>KINGS</td>\n",
       "      <td>OFF. AGNST PUB ORD SENSBLTY &amp;</td>\n",
       "      <td>17</td>\n",
       "    </tr>\n",
       "    <tr>\n",
       "      <th>13</th>\n",
       "      <td>NEW YORK</td>\n",
       "      <td>ASSAULT 3 &amp; RELATED OFFENSES</td>\n",
       "      <td>10</td>\n",
       "    </tr>\n",
       "    <tr>\n",
       "      <th>14</th>\n",
       "      <td>NEW YORK</td>\n",
       "      <td>CRIMINAL MISCHIEF &amp; RELATED OF</td>\n",
       "      <td>27</td>\n",
       "    </tr>\n",
       "    <tr>\n",
       "      <th>15</th>\n",
       "      <td>NEW YORK</td>\n",
       "      <td>FELONY ASSAULT</td>\n",
       "      <td>6</td>\n",
       "    </tr>\n",
       "    <tr>\n",
       "      <th>16</th>\n",
       "      <td>NEW YORK</td>\n",
       "      <td>MISCELLANEOUS PENAL LAW</td>\n",
       "      <td>23</td>\n",
       "    </tr>\n",
       "    <tr>\n",
       "      <th>17</th>\n",
       "      <td>NEW YORK</td>\n",
       "      <td>OFF. AGNST PUB ORD SENSBLTY &amp;</td>\n",
       "      <td>12</td>\n",
       "    </tr>\n",
       "    <tr>\n",
       "      <th>18</th>\n",
       "      <td>NEW YORK</td>\n",
       "      <td>PETIT LARCENY</td>\n",
       "      <td>2</td>\n",
       "    </tr>\n",
       "    <tr>\n",
       "      <th>19</th>\n",
       "      <td>NEW YORK</td>\n",
       "      <td>ROBBERY</td>\n",
       "      <td>5</td>\n",
       "    </tr>\n",
       "    <tr>\n",
       "      <th>20</th>\n",
       "      <td>NEW YORK</td>\n",
       "      <td>SEX CRIMES</td>\n",
       "      <td>1</td>\n",
       "    </tr>\n",
       "    <tr>\n",
       "      <th>21</th>\n",
       "      <td>QUEENS</td>\n",
       "      <td>ASSAULT 3 &amp; RELATED OFFENSES</td>\n",
       "      <td>4</td>\n",
       "    </tr>\n",
       "    <tr>\n",
       "      <th>22</th>\n",
       "      <td>QUEENS</td>\n",
       "      <td>CRIMINAL MISCHIEF &amp; RELATED OF</td>\n",
       "      <td>18</td>\n",
       "    </tr>\n",
       "    <tr>\n",
       "      <th>23</th>\n",
       "      <td>QUEENS</td>\n",
       "      <td>FELONY ASSAULT</td>\n",
       "      <td>5</td>\n",
       "    </tr>\n",
       "    <tr>\n",
       "      <th>24</th>\n",
       "      <td>QUEENS</td>\n",
       "      <td>GRAND LARCENY</td>\n",
       "      <td>1</td>\n",
       "    </tr>\n",
       "    <tr>\n",
       "      <th>25</th>\n",
       "      <td>QUEENS</td>\n",
       "      <td>HARRASSMENT 2</td>\n",
       "      <td>3</td>\n",
       "    </tr>\n",
       "    <tr>\n",
       "      <th>26</th>\n",
       "      <td>QUEENS</td>\n",
       "      <td>MISCELLANEOUS PENAL LAW</td>\n",
       "      <td>13</td>\n",
       "    </tr>\n",
       "    <tr>\n",
       "      <th>27</th>\n",
       "      <td>QUEENS</td>\n",
       "      <td>MURDER &amp; NON-NEGL. MANSLAUGHTE</td>\n",
       "      <td>1</td>\n",
       "    </tr>\n",
       "    <tr>\n",
       "      <th>28</th>\n",
       "      <td>QUEENS</td>\n",
       "      <td>OFF. AGNST PUB ORD SENSBLTY &amp;</td>\n",
       "      <td>4</td>\n",
       "    </tr>\n",
       "    <tr>\n",
       "      <th>29</th>\n",
       "      <td>RICHMOND</td>\n",
       "      <td>ASSAULT 3 &amp; RELATED OFFENSES</td>\n",
       "      <td>5</td>\n",
       "    </tr>\n",
       "    <tr>\n",
       "      <th>30</th>\n",
       "      <td>RICHMOND</td>\n",
       "      <td>CRIMINAL MISCHIEF &amp; RELATED OF</td>\n",
       "      <td>6</td>\n",
       "    </tr>\n",
       "    <tr>\n",
       "      <th>31</th>\n",
       "      <td>RICHMOND</td>\n",
       "      <td>MISCELLANEOUS PENAL LAW</td>\n",
       "      <td>5</td>\n",
       "    </tr>\n",
       "    <tr>\n",
       "      <th>32</th>\n",
       "      <td>RICHMOND</td>\n",
       "      <td>OFF. AGNST PUB ORD SENSBLTY &amp;</td>\n",
       "      <td>1</td>\n",
       "    </tr>\n",
       "    <tr>\n",
       "      <th>33</th>\n",
       "      <td>RICHMOND</td>\n",
       "      <td>ROBBERY</td>\n",
       "      <td>1</td>\n",
       "    </tr>\n",
       "  </tbody>\n",
       "</table>\n",
       "</div>"
      ],
      "text/plain": [
       "      County             Offense Description  Count\n",
       "0      BRONX    ASSAULT 3 & RELATED OFFENSES      5\n",
       "1      BRONX  CRIMINAL MISCHIEF & RELATED OF      4\n",
       "2      BRONX                  FELONY ASSAULT      6\n",
       "3      BRONX         MISCELLANEOUS PENAL LAW      8\n",
       "4      BRONX   OFF. AGNST PUB ORD SENSBLTY &      1\n",
       "5      BRONX                         ROBBERY      2\n",
       "6      KINGS    ASSAULT 3 & RELATED OFFENSES     19\n",
       "7      KINGS                        BURGLARY      4\n",
       "8      KINGS  CRIMINAL MISCHIEF & RELATED OF     18\n",
       "9      KINGS                  FELONY ASSAULT     10\n",
       "10     KINGS                   GRAND LARCENY      3\n",
       "11     KINGS         MISCELLANEOUS PENAL LAW     34\n",
       "12     KINGS   OFF. AGNST PUB ORD SENSBLTY &     17\n",
       "13  NEW YORK    ASSAULT 3 & RELATED OFFENSES     10\n",
       "14  NEW YORK  CRIMINAL MISCHIEF & RELATED OF     27\n",
       "15  NEW YORK                  FELONY ASSAULT      6\n",
       "16  NEW YORK         MISCELLANEOUS PENAL LAW     23\n",
       "17  NEW YORK   OFF. AGNST PUB ORD SENSBLTY &     12\n",
       "18  NEW YORK                   PETIT LARCENY      2\n",
       "19  NEW YORK                         ROBBERY      5\n",
       "20  NEW YORK                      SEX CRIMES      1\n",
       "21    QUEENS    ASSAULT 3 & RELATED OFFENSES      4\n",
       "22    QUEENS  CRIMINAL MISCHIEF & RELATED OF     18\n",
       "23    QUEENS                  FELONY ASSAULT      5\n",
       "24    QUEENS                   GRAND LARCENY      1\n",
       "25    QUEENS                   HARRASSMENT 2      3\n",
       "26    QUEENS         MISCELLANEOUS PENAL LAW     13\n",
       "27    QUEENS  MURDER & NON-NEGL. MANSLAUGHTE      1\n",
       "28    QUEENS   OFF. AGNST PUB ORD SENSBLTY &      4\n",
       "29  RICHMOND    ASSAULT 3 & RELATED OFFENSES      5\n",
       "30  RICHMOND  CRIMINAL MISCHIEF & RELATED OF      6\n",
       "31  RICHMOND         MISCELLANEOUS PENAL LAW      5\n",
       "32  RICHMOND   OFF. AGNST PUB ORD SENSBLTY &      1\n",
       "33  RICHMOND                         ROBBERY      1"
      ]
     },
     "execution_count": 36,
     "metadata": {},
     "output_type": "execute_result"
    }
   ],
   "source": [
    "#Cleaning the data\n",
    "#Summerize counts of crimes according to offense description and county\n",
    "hate_crime_combined = hate_crime.groupby(['County', 'Offense Description']).size().reset_index(name='Count')\n",
    "hate_crime_combined.head(100)"
   ]
  },
  {
   "cell_type": "code",
   "execution_count": 37,
   "id": "7f875449-4e5b-4918-b084-d57c9e3f4b84",
   "metadata": {},
   "outputs": [
    {
     "data": {
      "text/html": [
       "<div>\n",
       "<style scoped>\n",
       "    .dataframe tbody tr th:only-of-type {\n",
       "        vertical-align: middle;\n",
       "    }\n",
       "\n",
       "    .dataframe tbody tr th {\n",
       "        vertical-align: top;\n",
       "    }\n",
       "\n",
       "    .dataframe thead th {\n",
       "        text-align: right;\n",
       "    }\n",
       "</style>\n",
       "<table border=\"1\" class=\"dataframe\">\n",
       "  <thead>\n",
       "    <tr style=\"text-align: right;\">\n",
       "      <th></th>\n",
       "      <th>County</th>\n",
       "      <th>Offense Description</th>\n",
       "      <th>Count</th>\n",
       "      <th>Crime_Type_Proportion</th>\n",
       "    </tr>\n",
       "  </thead>\n",
       "  <tbody>\n",
       "    <tr>\n",
       "      <th>0</th>\n",
       "      <td>BRONX</td>\n",
       "      <td>ASSAULT 3 &amp; RELATED OFFENSES</td>\n",
       "      <td>5</td>\n",
       "      <td>0.192308</td>\n",
       "    </tr>\n",
       "    <tr>\n",
       "      <th>1</th>\n",
       "      <td>BRONX</td>\n",
       "      <td>CRIMINAL MISCHIEF &amp; RELATED OF</td>\n",
       "      <td>4</td>\n",
       "      <td>0.153846</td>\n",
       "    </tr>\n",
       "    <tr>\n",
       "      <th>2</th>\n",
       "      <td>BRONX</td>\n",
       "      <td>FELONY ASSAULT</td>\n",
       "      <td>6</td>\n",
       "      <td>0.230769</td>\n",
       "    </tr>\n",
       "    <tr>\n",
       "      <th>3</th>\n",
       "      <td>BRONX</td>\n",
       "      <td>MISCELLANEOUS PENAL LAW</td>\n",
       "      <td>8</td>\n",
       "      <td>0.307692</td>\n",
       "    </tr>\n",
       "    <tr>\n",
       "      <th>4</th>\n",
       "      <td>BRONX</td>\n",
       "      <td>OFF. AGNST PUB ORD SENSBLTY &amp;</td>\n",
       "      <td>1</td>\n",
       "      <td>0.038462</td>\n",
       "    </tr>\n",
       "    <tr>\n",
       "      <th>5</th>\n",
       "      <td>BRONX</td>\n",
       "      <td>ROBBERY</td>\n",
       "      <td>2</td>\n",
       "      <td>0.076923</td>\n",
       "    </tr>\n",
       "    <tr>\n",
       "      <th>6</th>\n",
       "      <td>KINGS</td>\n",
       "      <td>ASSAULT 3 &amp; RELATED OFFENSES</td>\n",
       "      <td>19</td>\n",
       "      <td>0.180952</td>\n",
       "    </tr>\n",
       "    <tr>\n",
       "      <th>7</th>\n",
       "      <td>KINGS</td>\n",
       "      <td>BURGLARY</td>\n",
       "      <td>4</td>\n",
       "      <td>0.038095</td>\n",
       "    </tr>\n",
       "    <tr>\n",
       "      <th>8</th>\n",
       "      <td>KINGS</td>\n",
       "      <td>CRIMINAL MISCHIEF &amp; RELATED OF</td>\n",
       "      <td>18</td>\n",
       "      <td>0.171429</td>\n",
       "    </tr>\n",
       "    <tr>\n",
       "      <th>9</th>\n",
       "      <td>KINGS</td>\n",
       "      <td>FELONY ASSAULT</td>\n",
       "      <td>10</td>\n",
       "      <td>0.095238</td>\n",
       "    </tr>\n",
       "    <tr>\n",
       "      <th>10</th>\n",
       "      <td>KINGS</td>\n",
       "      <td>GRAND LARCENY</td>\n",
       "      <td>3</td>\n",
       "      <td>0.028571</td>\n",
       "    </tr>\n",
       "    <tr>\n",
       "      <th>11</th>\n",
       "      <td>KINGS</td>\n",
       "      <td>MISCELLANEOUS PENAL LAW</td>\n",
       "      <td>34</td>\n",
       "      <td>0.323810</td>\n",
       "    </tr>\n",
       "    <tr>\n",
       "      <th>12</th>\n",
       "      <td>KINGS</td>\n",
       "      <td>OFF. AGNST PUB ORD SENSBLTY &amp;</td>\n",
       "      <td>17</td>\n",
       "      <td>0.161905</td>\n",
       "    </tr>\n",
       "    <tr>\n",
       "      <th>13</th>\n",
       "      <td>NEW YORK</td>\n",
       "      <td>ASSAULT 3 &amp; RELATED OFFENSES</td>\n",
       "      <td>10</td>\n",
       "      <td>0.116279</td>\n",
       "    </tr>\n",
       "    <tr>\n",
       "      <th>14</th>\n",
       "      <td>NEW YORK</td>\n",
       "      <td>CRIMINAL MISCHIEF &amp; RELATED OF</td>\n",
       "      <td>27</td>\n",
       "      <td>0.313953</td>\n",
       "    </tr>\n",
       "    <tr>\n",
       "      <th>15</th>\n",
       "      <td>NEW YORK</td>\n",
       "      <td>FELONY ASSAULT</td>\n",
       "      <td>6</td>\n",
       "      <td>0.069767</td>\n",
       "    </tr>\n",
       "    <tr>\n",
       "      <th>16</th>\n",
       "      <td>NEW YORK</td>\n",
       "      <td>MISCELLANEOUS PENAL LAW</td>\n",
       "      <td>23</td>\n",
       "      <td>0.267442</td>\n",
       "    </tr>\n",
       "    <tr>\n",
       "      <th>17</th>\n",
       "      <td>NEW YORK</td>\n",
       "      <td>OFF. AGNST PUB ORD SENSBLTY &amp;</td>\n",
       "      <td>12</td>\n",
       "      <td>0.139535</td>\n",
       "    </tr>\n",
       "    <tr>\n",
       "      <th>18</th>\n",
       "      <td>NEW YORK</td>\n",
       "      <td>PETIT LARCENY</td>\n",
       "      <td>2</td>\n",
       "      <td>0.023256</td>\n",
       "    </tr>\n",
       "    <tr>\n",
       "      <th>19</th>\n",
       "      <td>NEW YORK</td>\n",
       "      <td>ROBBERY</td>\n",
       "      <td>5</td>\n",
       "      <td>0.058140</td>\n",
       "    </tr>\n",
       "    <tr>\n",
       "      <th>20</th>\n",
       "      <td>NEW YORK</td>\n",
       "      <td>SEX CRIMES</td>\n",
       "      <td>1</td>\n",
       "      <td>0.011628</td>\n",
       "    </tr>\n",
       "    <tr>\n",
       "      <th>21</th>\n",
       "      <td>QUEENS</td>\n",
       "      <td>ASSAULT 3 &amp; RELATED OFFENSES</td>\n",
       "      <td>4</td>\n",
       "      <td>0.081633</td>\n",
       "    </tr>\n",
       "    <tr>\n",
       "      <th>22</th>\n",
       "      <td>QUEENS</td>\n",
       "      <td>CRIMINAL MISCHIEF &amp; RELATED OF</td>\n",
       "      <td>18</td>\n",
       "      <td>0.367347</td>\n",
       "    </tr>\n",
       "    <tr>\n",
       "      <th>23</th>\n",
       "      <td>QUEENS</td>\n",
       "      <td>FELONY ASSAULT</td>\n",
       "      <td>5</td>\n",
       "      <td>0.102041</td>\n",
       "    </tr>\n",
       "    <tr>\n",
       "      <th>24</th>\n",
       "      <td>QUEENS</td>\n",
       "      <td>GRAND LARCENY</td>\n",
       "      <td>1</td>\n",
       "      <td>0.020408</td>\n",
       "    </tr>\n",
       "    <tr>\n",
       "      <th>25</th>\n",
       "      <td>QUEENS</td>\n",
       "      <td>HARRASSMENT 2</td>\n",
       "      <td>3</td>\n",
       "      <td>0.061224</td>\n",
       "    </tr>\n",
       "    <tr>\n",
       "      <th>26</th>\n",
       "      <td>QUEENS</td>\n",
       "      <td>MISCELLANEOUS PENAL LAW</td>\n",
       "      <td>13</td>\n",
       "      <td>0.265306</td>\n",
       "    </tr>\n",
       "    <tr>\n",
       "      <th>27</th>\n",
       "      <td>QUEENS</td>\n",
       "      <td>MURDER &amp; NON-NEGL. MANSLAUGHTE</td>\n",
       "      <td>1</td>\n",
       "      <td>0.020408</td>\n",
       "    </tr>\n",
       "    <tr>\n",
       "      <th>28</th>\n",
       "      <td>QUEENS</td>\n",
       "      <td>OFF. AGNST PUB ORD SENSBLTY &amp;</td>\n",
       "      <td>4</td>\n",
       "      <td>0.081633</td>\n",
       "    </tr>\n",
       "    <tr>\n",
       "      <th>29</th>\n",
       "      <td>RICHMOND</td>\n",
       "      <td>ASSAULT 3 &amp; RELATED OFFENSES</td>\n",
       "      <td>5</td>\n",
       "      <td>0.277778</td>\n",
       "    </tr>\n",
       "    <tr>\n",
       "      <th>30</th>\n",
       "      <td>RICHMOND</td>\n",
       "      <td>CRIMINAL MISCHIEF &amp; RELATED OF</td>\n",
       "      <td>6</td>\n",
       "      <td>0.333333</td>\n",
       "    </tr>\n",
       "    <tr>\n",
       "      <th>31</th>\n",
       "      <td>RICHMOND</td>\n",
       "      <td>MISCELLANEOUS PENAL LAW</td>\n",
       "      <td>5</td>\n",
       "      <td>0.277778</td>\n",
       "    </tr>\n",
       "    <tr>\n",
       "      <th>32</th>\n",
       "      <td>RICHMOND</td>\n",
       "      <td>OFF. AGNST PUB ORD SENSBLTY &amp;</td>\n",
       "      <td>1</td>\n",
       "      <td>0.055556</td>\n",
       "    </tr>\n",
       "    <tr>\n",
       "      <th>33</th>\n",
       "      <td>RICHMOND</td>\n",
       "      <td>ROBBERY</td>\n",
       "      <td>1</td>\n",
       "      <td>0.055556</td>\n",
       "    </tr>\n",
       "  </tbody>\n",
       "</table>\n",
       "</div>"
      ],
      "text/plain": [
       "      County             Offense Description  Count  Crime_Type_Proportion\n",
       "0      BRONX    ASSAULT 3 & RELATED OFFENSES      5               0.192308\n",
       "1      BRONX  CRIMINAL MISCHIEF & RELATED OF      4               0.153846\n",
       "2      BRONX                  FELONY ASSAULT      6               0.230769\n",
       "3      BRONX         MISCELLANEOUS PENAL LAW      8               0.307692\n",
       "4      BRONX   OFF. AGNST PUB ORD SENSBLTY &      1               0.038462\n",
       "5      BRONX                         ROBBERY      2               0.076923\n",
       "6      KINGS    ASSAULT 3 & RELATED OFFENSES     19               0.180952\n",
       "7      KINGS                        BURGLARY      4               0.038095\n",
       "8      KINGS  CRIMINAL MISCHIEF & RELATED OF     18               0.171429\n",
       "9      KINGS                  FELONY ASSAULT     10               0.095238\n",
       "10     KINGS                   GRAND LARCENY      3               0.028571\n",
       "11     KINGS         MISCELLANEOUS PENAL LAW     34               0.323810\n",
       "12     KINGS   OFF. AGNST PUB ORD SENSBLTY &     17               0.161905\n",
       "13  NEW YORK    ASSAULT 3 & RELATED OFFENSES     10               0.116279\n",
       "14  NEW YORK  CRIMINAL MISCHIEF & RELATED OF     27               0.313953\n",
       "15  NEW YORK                  FELONY ASSAULT      6               0.069767\n",
       "16  NEW YORK         MISCELLANEOUS PENAL LAW     23               0.267442\n",
       "17  NEW YORK   OFF. AGNST PUB ORD SENSBLTY &     12               0.139535\n",
       "18  NEW YORK                   PETIT LARCENY      2               0.023256\n",
       "19  NEW YORK                         ROBBERY      5               0.058140\n",
       "20  NEW YORK                      SEX CRIMES      1               0.011628\n",
       "21    QUEENS    ASSAULT 3 & RELATED OFFENSES      4               0.081633\n",
       "22    QUEENS  CRIMINAL MISCHIEF & RELATED OF     18               0.367347\n",
       "23    QUEENS                  FELONY ASSAULT      5               0.102041\n",
       "24    QUEENS                   GRAND LARCENY      1               0.020408\n",
       "25    QUEENS                   HARRASSMENT 2      3               0.061224\n",
       "26    QUEENS         MISCELLANEOUS PENAL LAW     13               0.265306\n",
       "27    QUEENS  MURDER & NON-NEGL. MANSLAUGHTE      1               0.020408\n",
       "28    QUEENS   OFF. AGNST PUB ORD SENSBLTY &      4               0.081633\n",
       "29  RICHMOND    ASSAULT 3 & RELATED OFFENSES      5               0.277778\n",
       "30  RICHMOND  CRIMINAL MISCHIEF & RELATED OF      6               0.333333\n",
       "31  RICHMOND         MISCELLANEOUS PENAL LAW      5               0.277778\n",
       "32  RICHMOND   OFF. AGNST PUB ORD SENSBLTY &      1               0.055556\n",
       "33  RICHMOND                         ROBBERY      1               0.055556"
      ]
     },
     "execution_count": 37,
     "metadata": {},
     "output_type": "execute_result"
    }
   ],
   "source": [
    "# # Calculate the total number of crimes for each County\n",
    "county_totals = hate_crime_combined.groupby('County')['Count'].sum().reset_index(name='Total_Count')\n",
    "\n",
    "# Merge the total counts back into the original data\n",
    "hate_crime_combined = hate_crime_combined.merge(county_totals, on='County')\n",
    "\n",
    "# Add a new column to calculate the proportion of each crime type within the County\n",
    "hate_crime_combined['Crime_Type_Proportion'] = hate_crime_combined['Count'] / hate_crime_combined['Total_Count']\n",
    "\n",
    "# Optionally, drop the 'Total_Count' column as it's no longer needed\n",
    "hate_crime_combined.drop(columns=['Total_Count'], inplace=True)\n",
    "\n",
    "# Display the first 100 rows of the resulting data\n",
    "hate_crime_combined.head(100)\n",
    "\n"
   ]
  },
  {
   "cell_type": "markdown",
   "id": "08c0c0ac-3b86-4655-9d4e-83876a220cf7",
   "metadata": {},
   "source": [
    "# STEP 3: Showing the data separately\n",
    "\n",
    "## New York City Population\n"
   ]
  },
  {
   "cell_type": "code",
   "execution_count": 39,
   "id": "6d28ea8b-a18b-49f5-bdad-fdd76523ed1e",
   "metadata": {},
   "outputs": [
    {
     "data": {
      "text/html": [
       "        <script type=\"text/javascript\">\n",
       "        window.PlotlyConfig = {MathJaxConfig: 'local'};\n",
       "        if (window.MathJax && window.MathJax.Hub && window.MathJax.Hub.Config) {window.MathJax.Hub.Config({SVG: {font: \"STIX-Web\"}});}\n",
       "        if (typeof require !== 'undefined') {\n",
       "        require.undef(\"plotly\");\n",
       "        requirejs.config({\n",
       "            paths: {\n",
       "                'plotly': ['https://cdn.plot.ly/plotly-2.32.0.min']\n",
       "            }\n",
       "        });\n",
       "        require(['plotly'], function(Plotly) {\n",
       "            window._Plotly = Plotly;\n",
       "        });\n",
       "        }\n",
       "        </script>\n",
       "        "
      ]
     },
     "metadata": {},
     "output_type": "display_data"
    },
    {
     "data": {
      "application/vnd.plotly.v1+json": {
       "config": {
        "plotlyServerURL": "https://plot.ly"
       },
       "data": [
        {
         "hovertemplate": "County=%{x}<br>2020=%{y}<extra></extra>",
         "legendgroup": "",
         "line": {
          "color": "#636efa",
          "dash": "solid"
         },
         "marker": {
          "symbol": "circle"
         },
         "mode": "lines",
         "name": "",
         "orientation": "v",
         "showlegend": false,
         "type": "scatter",
         "x": [
          "NYC Total",
          "BRONX",
          "KINGS",
          "NEW YORK",
          "QUEENS",
          "RICHMOND"
         ],
         "xaxis": "x",
         "y": [
          8550.971,
          1446.788,
          2648.452,
          1638.281,
          2330.295,
          487.155
         ],
         "yaxis": "y"
        }
       ],
       "layout": {
        "autosize": true,
        "legend": {
         "tracegroupgap": 0
        },
        "template": {
         "data": {
          "bar": [
           {
            "error_x": {
             "color": "#2a3f5f"
            },
            "error_y": {
             "color": "#2a3f5f"
            },
            "marker": {
             "line": {
              "color": "#E5ECF6",
              "width": 0.5
             },
             "pattern": {
              "fillmode": "overlay",
              "size": 10,
              "solidity": 0.2
             }
            },
            "type": "bar"
           }
          ],
          "barpolar": [
           {
            "marker": {
             "line": {
              "color": "#E5ECF6",
              "width": 0.5
             },
             "pattern": {
              "fillmode": "overlay",
              "size": 10,
              "solidity": 0.2
             }
            },
            "type": "barpolar"
           }
          ],
          "carpet": [
           {
            "aaxis": {
             "endlinecolor": "#2a3f5f",
             "gridcolor": "white",
             "linecolor": "white",
             "minorgridcolor": "white",
             "startlinecolor": "#2a3f5f"
            },
            "baxis": {
             "endlinecolor": "#2a3f5f",
             "gridcolor": "white",
             "linecolor": "white",
             "minorgridcolor": "white",
             "startlinecolor": "#2a3f5f"
            },
            "type": "carpet"
           }
          ],
          "choropleth": [
           {
            "colorbar": {
             "outlinewidth": 0,
             "ticks": ""
            },
            "type": "choropleth"
           }
          ],
          "contour": [
           {
            "colorbar": {
             "outlinewidth": 0,
             "ticks": ""
            },
            "colorscale": [
             [
              0,
              "#0d0887"
             ],
             [
              0.1111111111111111,
              "#46039f"
             ],
             [
              0.2222222222222222,
              "#7201a8"
             ],
             [
              0.3333333333333333,
              "#9c179e"
             ],
             [
              0.4444444444444444,
              "#bd3786"
             ],
             [
              0.5555555555555556,
              "#d8576b"
             ],
             [
              0.6666666666666666,
              "#ed7953"
             ],
             [
              0.7777777777777778,
              "#fb9f3a"
             ],
             [
              0.8888888888888888,
              "#fdca26"
             ],
             [
              1,
              "#f0f921"
             ]
            ],
            "type": "contour"
           }
          ],
          "contourcarpet": [
           {
            "colorbar": {
             "outlinewidth": 0,
             "ticks": ""
            },
            "type": "contourcarpet"
           }
          ],
          "heatmap": [
           {
            "colorbar": {
             "outlinewidth": 0,
             "ticks": ""
            },
            "colorscale": [
             [
              0,
              "#0d0887"
             ],
             [
              0.1111111111111111,
              "#46039f"
             ],
             [
              0.2222222222222222,
              "#7201a8"
             ],
             [
              0.3333333333333333,
              "#9c179e"
             ],
             [
              0.4444444444444444,
              "#bd3786"
             ],
             [
              0.5555555555555556,
              "#d8576b"
             ],
             [
              0.6666666666666666,
              "#ed7953"
             ],
             [
              0.7777777777777778,
              "#fb9f3a"
             ],
             [
              0.8888888888888888,
              "#fdca26"
             ],
             [
              1,
              "#f0f921"
             ]
            ],
            "type": "heatmap"
           }
          ],
          "heatmapgl": [
           {
            "colorbar": {
             "outlinewidth": 0,
             "ticks": ""
            },
            "colorscale": [
             [
              0,
              "#0d0887"
             ],
             [
              0.1111111111111111,
              "#46039f"
             ],
             [
              0.2222222222222222,
              "#7201a8"
             ],
             [
              0.3333333333333333,
              "#9c179e"
             ],
             [
              0.4444444444444444,
              "#bd3786"
             ],
             [
              0.5555555555555556,
              "#d8576b"
             ],
             [
              0.6666666666666666,
              "#ed7953"
             ],
             [
              0.7777777777777778,
              "#fb9f3a"
             ],
             [
              0.8888888888888888,
              "#fdca26"
             ],
             [
              1,
              "#f0f921"
             ]
            ],
            "type": "heatmapgl"
           }
          ],
          "histogram": [
           {
            "marker": {
             "pattern": {
              "fillmode": "overlay",
              "size": 10,
              "solidity": 0.2
             }
            },
            "type": "histogram"
           }
          ],
          "histogram2d": [
           {
            "colorbar": {
             "outlinewidth": 0,
             "ticks": ""
            },
            "colorscale": [
             [
              0,
              "#0d0887"
             ],
             [
              0.1111111111111111,
              "#46039f"
             ],
             [
              0.2222222222222222,
              "#7201a8"
             ],
             [
              0.3333333333333333,
              "#9c179e"
             ],
             [
              0.4444444444444444,
              "#bd3786"
             ],
             [
              0.5555555555555556,
              "#d8576b"
             ],
             [
              0.6666666666666666,
              "#ed7953"
             ],
             [
              0.7777777777777778,
              "#fb9f3a"
             ],
             [
              0.8888888888888888,
              "#fdca26"
             ],
             [
              1,
              "#f0f921"
             ]
            ],
            "type": "histogram2d"
           }
          ],
          "histogram2dcontour": [
           {
            "colorbar": {
             "outlinewidth": 0,
             "ticks": ""
            },
            "colorscale": [
             [
              0,
              "#0d0887"
             ],
             [
              0.1111111111111111,
              "#46039f"
             ],
             [
              0.2222222222222222,
              "#7201a8"
             ],
             [
              0.3333333333333333,
              "#9c179e"
             ],
             [
              0.4444444444444444,
              "#bd3786"
             ],
             [
              0.5555555555555556,
              "#d8576b"
             ],
             [
              0.6666666666666666,
              "#ed7953"
             ],
             [
              0.7777777777777778,
              "#fb9f3a"
             ],
             [
              0.8888888888888888,
              "#fdca26"
             ],
             [
              1,
              "#f0f921"
             ]
            ],
            "type": "histogram2dcontour"
           }
          ],
          "mesh3d": [
           {
            "colorbar": {
             "outlinewidth": 0,
             "ticks": ""
            },
            "type": "mesh3d"
           }
          ],
          "parcoords": [
           {
            "line": {
             "colorbar": {
              "outlinewidth": 0,
              "ticks": ""
             }
            },
            "type": "parcoords"
           }
          ],
          "pie": [
           {
            "automargin": true,
            "type": "pie"
           }
          ],
          "scatter": [
           {
            "fillpattern": {
             "fillmode": "overlay",
             "size": 10,
             "solidity": 0.2
            },
            "type": "scatter"
           }
          ],
          "scatter3d": [
           {
            "line": {
             "colorbar": {
              "outlinewidth": 0,
              "ticks": ""
             }
            },
            "marker": {
             "colorbar": {
              "outlinewidth": 0,
              "ticks": ""
             }
            },
            "type": "scatter3d"
           }
          ],
          "scattercarpet": [
           {
            "marker": {
             "colorbar": {
              "outlinewidth": 0,
              "ticks": ""
             }
            },
            "type": "scattercarpet"
           }
          ],
          "scattergeo": [
           {
            "marker": {
             "colorbar": {
              "outlinewidth": 0,
              "ticks": ""
             }
            },
            "type": "scattergeo"
           }
          ],
          "scattergl": [
           {
            "marker": {
             "colorbar": {
              "outlinewidth": 0,
              "ticks": ""
             }
            },
            "type": "scattergl"
           }
          ],
          "scattermapbox": [
           {
            "marker": {
             "colorbar": {
              "outlinewidth": 0,
              "ticks": ""
             }
            },
            "type": "scattermapbox"
           }
          ],
          "scatterpolar": [
           {
            "marker": {
             "colorbar": {
              "outlinewidth": 0,
              "ticks": ""
             }
            },
            "type": "scatterpolar"
           }
          ],
          "scatterpolargl": [
           {
            "marker": {
             "colorbar": {
              "outlinewidth": 0,
              "ticks": ""
             }
            },
            "type": "scatterpolargl"
           }
          ],
          "scatterternary": [
           {
            "marker": {
             "colorbar": {
              "outlinewidth": 0,
              "ticks": ""
             }
            },
            "type": "scatterternary"
           }
          ],
          "surface": [
           {
            "colorbar": {
             "outlinewidth": 0,
             "ticks": ""
            },
            "colorscale": [
             [
              0,
              "#0d0887"
             ],
             [
              0.1111111111111111,
              "#46039f"
             ],
             [
              0.2222222222222222,
              "#7201a8"
             ],
             [
              0.3333333333333333,
              "#9c179e"
             ],
             [
              0.4444444444444444,
              "#bd3786"
             ],
             [
              0.5555555555555556,
              "#d8576b"
             ],
             [
              0.6666666666666666,
              "#ed7953"
             ],
             [
              0.7777777777777778,
              "#fb9f3a"
             ],
             [
              0.8888888888888888,
              "#fdca26"
             ],
             [
              1,
              "#f0f921"
             ]
            ],
            "type": "surface"
           }
          ],
          "table": [
           {
            "cells": {
             "fill": {
              "color": "#EBF0F8"
             },
             "line": {
              "color": "white"
             }
            },
            "header": {
             "fill": {
              "color": "#C8D4E3"
             },
             "line": {
              "color": "white"
             }
            },
            "type": "table"
           }
          ]
         },
         "layout": {
          "annotationdefaults": {
           "arrowcolor": "#2a3f5f",
           "arrowhead": 0,
           "arrowwidth": 1
          },
          "autotypenumbers": "strict",
          "coloraxis": {
           "colorbar": {
            "outlinewidth": 0,
            "ticks": ""
           }
          },
          "colorscale": {
           "diverging": [
            [
             0,
             "#8e0152"
            ],
            [
             0.1,
             "#c51b7d"
            ],
            [
             0.2,
             "#de77ae"
            ],
            [
             0.3,
             "#f1b6da"
            ],
            [
             0.4,
             "#fde0ef"
            ],
            [
             0.5,
             "#f7f7f7"
            ],
            [
             0.6,
             "#e6f5d0"
            ],
            [
             0.7,
             "#b8e186"
            ],
            [
             0.8,
             "#7fbc41"
            ],
            [
             0.9,
             "#4d9221"
            ],
            [
             1,
             "#276419"
            ]
           ],
           "sequential": [
            [
             0,
             "#0d0887"
            ],
            [
             0.1111111111111111,
             "#46039f"
            ],
            [
             0.2222222222222222,
             "#7201a8"
            ],
            [
             0.3333333333333333,
             "#9c179e"
            ],
            [
             0.4444444444444444,
             "#bd3786"
            ],
            [
             0.5555555555555556,
             "#d8576b"
            ],
            [
             0.6666666666666666,
             "#ed7953"
            ],
            [
             0.7777777777777778,
             "#fb9f3a"
            ],
            [
             0.8888888888888888,
             "#fdca26"
            ],
            [
             1,
             "#f0f921"
            ]
           ],
           "sequentialminus": [
            [
             0,
             "#0d0887"
            ],
            [
             0.1111111111111111,
             "#46039f"
            ],
            [
             0.2222222222222222,
             "#7201a8"
            ],
            [
             0.3333333333333333,
             "#9c179e"
            ],
            [
             0.4444444444444444,
             "#bd3786"
            ],
            [
             0.5555555555555556,
             "#d8576b"
            ],
            [
             0.6666666666666666,
             "#ed7953"
            ],
            [
             0.7777777777777778,
             "#fb9f3a"
            ],
            [
             0.8888888888888888,
             "#fdca26"
            ],
            [
             1,
             "#f0f921"
            ]
           ]
          },
          "colorway": [
           "#636efa",
           "#EF553B",
           "#00cc96",
           "#ab63fa",
           "#FFA15A",
           "#19d3f3",
           "#FF6692",
           "#B6E880",
           "#FF97FF",
           "#FECB52"
          ],
          "font": {
           "color": "#2a3f5f"
          },
          "geo": {
           "bgcolor": "white",
           "lakecolor": "white",
           "landcolor": "#E5ECF6",
           "showlakes": true,
           "showland": true,
           "subunitcolor": "white"
          },
          "hoverlabel": {
           "align": "left"
          },
          "hovermode": "closest",
          "mapbox": {
           "style": "light"
          },
          "paper_bgcolor": "white",
          "plot_bgcolor": "#E5ECF6",
          "polar": {
           "angularaxis": {
            "gridcolor": "white",
            "linecolor": "white",
            "ticks": ""
           },
           "bgcolor": "#E5ECF6",
           "radialaxis": {
            "gridcolor": "white",
            "linecolor": "white",
            "ticks": ""
           }
          },
          "scene": {
           "xaxis": {
            "backgroundcolor": "#E5ECF6",
            "gridcolor": "white",
            "gridwidth": 2,
            "linecolor": "white",
            "showbackground": true,
            "ticks": "",
            "zerolinecolor": "white"
           },
           "yaxis": {
            "backgroundcolor": "#E5ECF6",
            "gridcolor": "white",
            "gridwidth": 2,
            "linecolor": "white",
            "showbackground": true,
            "ticks": "",
            "zerolinecolor": "white"
           },
           "zaxis": {
            "backgroundcolor": "#E5ECF6",
            "gridcolor": "white",
            "gridwidth": 2,
            "linecolor": "white",
            "showbackground": true,
            "ticks": "",
            "zerolinecolor": "white"
           }
          },
          "shapedefaults": {
           "line": {
            "color": "#2a3f5f"
           }
          },
          "ternary": {
           "aaxis": {
            "gridcolor": "white",
            "linecolor": "white",
            "ticks": ""
           },
           "baxis": {
            "gridcolor": "white",
            "linecolor": "white",
            "ticks": ""
           },
           "bgcolor": "#E5ECF6",
           "caxis": {
            "gridcolor": "white",
            "linecolor": "white",
            "ticks": ""
           }
          },
          "title": {
           "x": 0.05
          },
          "xaxis": {
           "automargin": true,
           "gridcolor": "white",
           "linecolor": "white",
           "ticks": "",
           "title": {
            "standoff": 15
           },
           "zerolinecolor": "white",
           "zerolinewidth": 2
          },
          "yaxis": {
           "automargin": true,
           "gridcolor": "white",
           "linecolor": "white",
           "ticks": "",
           "title": {
            "standoff": 15
           },
           "zerolinecolor": "white",
           "zerolinewidth": 2
          }
         }
        },
        "title": {
         "text": "New York City Population by County"
        },
        "xaxis": {
         "anchor": "y",
         "autorange": true,
         "domain": [
          0,
          1
         ],
         "range": [
          0,
          5
         ],
         "title": {
          "text": "County"
         },
         "type": "category"
        },
        "yaxis": {
         "anchor": "x",
         "autorange": true,
         "domain": [
          0,
          1
         ],
         "range": [
          39.16522222222221,
          8998.960777777776
         ],
         "title": {
          "text": "2020"
         },
         "type": "linear"
        }
       }
      },
      "image/png": "[encoded data removed]",
      "text/html": [
       "<div>                            <div id=\"5d4f94b2-d84c-4750-9e06-3553e5d10727\" class=\"plotly-graph-div\" style=\"height:525px; width:100%;\"></div>            <script type=\"text/javascript\">                require([\"plotly\"], function(Plotly) {                    window.PLOTLYENV=window.PLOTLYENV || {};                                    if (document.getElementById(\"5d4f94b2-d84c-4750-9e06-3553e5d10727\")) {                    Plotly.newPlot(                        \"5d4f94b2-d84c-4750-9e06-3553e5d10727\",                        [{\"hovertemplate\":\"County=%{x}\\u003cbr\\u003e2020=%{y}\\u003cextra\\u003e\\u003c\\u002fextra\\u003e\",\"legendgroup\":\"\",\"line\":{\"color\":\"#636efa\",\"dash\":\"solid\"},\"marker\":{\"symbol\":\"circle\"},\"mode\":\"lines\",\"name\":\"\",\"orientation\":\"v\",\"showlegend\":false,\"x\":[\"NYC Total\",\"BRONX\",\"KINGS\",\"NEW YORK\",\"QUEENS\",\"RICHMOND\"],\"xaxis\":\"x\",\"y\":[8550.971,1446.788,2648.452,1638.281,2330.295,487.155],\"yaxis\":\"y\",\"type\":\"scatter\"}],                        {\"template\":{\"data\":{\"histogram2dcontour\":[{\"type\":\"histogram2dcontour\",\"colorbar\":{\"outlinewidth\":0,\"ticks\":\"\"},\"colorscale\":[[0.0,\"#0d0887\"],[0.1111111111111111,\"#46039f\"],[0.2222222222222222,\"#7201a8\"],[0.3333333333333333,\"#9c179e\"],[0.4444444444444444,\"#bd3786\"],[0.5555555555555556,\"#d8576b\"],[0.6666666666666666,\"#ed7953\"],[0.7777777777777778,\"#fb9f3a\"],[0.8888888888888888,\"#fdca26\"],[1.0,\"#f0f921\"]]}],\"choropleth\":[{\"type\":\"choropleth\",\"colorbar\":{\"outlinewidth\":0,\"ticks\":\"\"}}],\"histogram2d\":[{\"type\":\"histogram2d\",\"colorbar\":{\"outlinewidth\":0,\"ticks\":\"\"},\"colorscale\":[[0.0,\"#0d0887\"],[0.1111111111111111,\"#46039f\"],[0.2222222222222222,\"#7201a8\"],[0.3333333333333333,\"#9c179e\"],[0.4444444444444444,\"#bd3786\"],[0.5555555555555556,\"#d8576b\"],[0.6666666666666666,\"#ed7953\"],[0.7777777777777778,\"#fb9f3a\"],[0.8888888888888888,\"#fdca26\"],[1.0,\"#f0f921\"]]}],\"heatmap\":[{\"type\":\"heatmap\",\"colorbar\":{\"outlinewidth\":0,\"ticks\":\"\"},\"colorscale\":[[0.0,\"#0d0887\"],[0.1111111111111111,\"#46039f\"],[0.2222222222222222,\"#7201a8\"],[0.3333333333333333,\"#9c179e\"],[0.4444444444444444,\"#bd3786\"],[0.5555555555555556,\"#d8576b\"],[0.6666666666666666,\"#ed7953\"],[0.7777777777777778,\"#fb9f3a\"],[0.8888888888888888,\"#fdca26\"],[1.0,\"#f0f921\"]]}],\"heatmapgl\":[{\"type\":\"heatmapgl\",\"colorbar\":{\"outlinewidth\":0,\"ticks\":\"\"},\"colorscale\":[[0.0,\"#0d0887\"],[0.1111111111111111,\"#46039f\"],[0.2222222222222222,\"#7201a8\"],[0.3333333333333333,\"#9c179e\"],[0.4444444444444444,\"#bd3786\"],[0.5555555555555556,\"#d8576b\"],[0.6666666666666666,\"#ed7953\"],[0.7777777777777778,\"#fb9f3a\"],[0.8888888888888888,\"#fdca26\"],[1.0,\"#f0f921\"]]}],\"contourcarpet\":[{\"type\":\"contourcarpet\",\"colorbar\":{\"outlinewidth\":0,\"ticks\":\"\"}}],\"contour\":[{\"type\":\"contour\",\"colorbar\":{\"outlinewidth\":0,\"ticks\":\"\"},\"colorscale\":[[0.0,\"#0d0887\"],[0.1111111111111111,\"#46039f\"],[0.2222222222222222,\"#7201a8\"],[0.3333333333333333,\"#9c179e\"],[0.4444444444444444,\"#bd3786\"],[0.5555555555555556,\"#d8576b\"],[0.6666666666666666,\"#ed7953\"],[0.7777777777777778,\"#fb9f3a\"],[0.8888888888888888,\"#fdca26\"],[1.0,\"#f0f921\"]]}],\"surface\":[{\"type\":\"surface\",\"colorbar\":{\"outlinewidth\":0,\"ticks\":\"\"},\"colorscale\":[[0.0,\"#0d0887\"],[0.1111111111111111,\"#46039f\"],[0.2222222222222222,\"#7201a8\"],[0.3333333333333333,\"#9c179e\"],[0.4444444444444444,\"#bd3786\"],[0.5555555555555556,\"#d8576b\"],[0.6666666666666666,\"#ed7953\"],[0.7777777777777778,\"#fb9f3a\"],[0.8888888888888888,\"#fdca26\"],[1.0,\"#f0f921\"]]}],\"mesh3d\":[{\"type\":\"mesh3d\",\"colorbar\":{\"outlinewidth\":0,\"ticks\":\"\"}}],\"scatter\":[{\"fillpattern\":{\"fillmode\":\"overlay\",\"size\":10,\"solidity\":0.2},\"type\":\"scatter\"}],\"parcoords\":[{\"type\":\"parcoords\",\"line\":{\"colorbar\":{\"outlinewidth\":0,\"ticks\":\"\"}}}],\"scatterpolargl\":[{\"type\":\"scatterpolargl\",\"marker\":{\"colorbar\":{\"outlinewidth\":0,\"ticks\":\"\"}}}],\"bar\":[{\"error_x\":{\"color\":\"#2a3f5f\"},\"error_y\":{\"color\":\"#2a3f5f\"},\"marker\":{\"line\":{\"color\":\"#E5ECF6\",\"width\":0.5},\"pattern\":{\"fillmode\":\"overlay\",\"size\":10,\"solidity\":0.2}},\"type\":\"bar\"}],\"scattergeo\":[{\"type\":\"scattergeo\",\"marker\":{\"colorbar\":{\"outlinewidth\":0,\"ticks\":\"\"}}}],\"scatterpolar\":[{\"type\":\"scatterpolar\",\"marker\":{\"colorbar\":{\"outlinewidth\":0,\"ticks\":\"\"}}}],\"histogram\":[{\"marker\":{\"pattern\":{\"fillmode\":\"overlay\",\"size\":10,\"solidity\":0.2}},\"type\":\"histogram\"}],\"scattergl\":[{\"type\":\"scattergl\",\"marker\":{\"colorbar\":{\"outlinewidth\":0,\"ticks\":\"\"}}}],\"scatter3d\":[{\"type\":\"scatter3d\",\"line\":{\"colorbar\":{\"outlinewidth\":0,\"ticks\":\"\"}},\"marker\":{\"colorbar\":{\"outlinewidth\":0,\"ticks\":\"\"}}}],\"scattermapbox\":[{\"type\":\"scattermapbox\",\"marker\":{\"colorbar\":{\"outlinewidth\":0,\"ticks\":\"\"}}}],\"scatterternary\":[{\"type\":\"scatterternary\",\"marker\":{\"colorbar\":{\"outlinewidth\":0,\"ticks\":\"\"}}}],\"scattercarpet\":[{\"type\":\"scattercarpet\",\"marker\":{\"colorbar\":{\"outlinewidth\":0,\"ticks\":\"\"}}}],\"carpet\":[{\"aaxis\":{\"endlinecolor\":\"#2a3f5f\",\"gridcolor\":\"white\",\"linecolor\":\"white\",\"minorgridcolor\":\"white\",\"startlinecolor\":\"#2a3f5f\"},\"baxis\":{\"endlinecolor\":\"#2a3f5f\",\"gridcolor\":\"white\",\"linecolor\":\"white\",\"minorgridcolor\":\"white\",\"startlinecolor\":\"#2a3f5f\"},\"type\":\"carpet\"}],\"table\":[{\"cells\":{\"fill\":{\"color\":\"#EBF0F8\"},\"line\":{\"color\":\"white\"}},\"header\":{\"fill\":{\"color\":\"#C8D4E3\"},\"line\":{\"color\":\"white\"}},\"type\":\"table\"}],\"barpolar\":[{\"marker\":{\"line\":{\"color\":\"#E5ECF6\",\"width\":0.5},\"pattern\":{\"fillmode\":\"overlay\",\"size\":10,\"solidity\":0.2}},\"type\":\"barpolar\"}],\"pie\":[{\"automargin\":true,\"type\":\"pie\"}]},\"layout\":{\"autotypenumbers\":\"strict\",\"colorway\":[\"#636efa\",\"#EF553B\",\"#00cc96\",\"#ab63fa\",\"#FFA15A\",\"#19d3f3\",\"#FF6692\",\"#B6E880\",\"#FF97FF\",\"#FECB52\"],\"font\":{\"color\":\"#2a3f5f\"},\"hovermode\":\"closest\",\"hoverlabel\":{\"align\":\"left\"},\"paper_bgcolor\":\"white\",\"plot_bgcolor\":\"#E5ECF6\",\"polar\":{\"bgcolor\":\"#E5ECF6\",\"angularaxis\":{\"gridcolor\":\"white\",\"linecolor\":\"white\",\"ticks\":\"\"},\"radialaxis\":{\"gridcolor\":\"white\",\"linecolor\":\"white\",\"ticks\":\"\"}},\"ternary\":{\"bgcolor\":\"#E5ECF6\",\"aaxis\":{\"gridcolor\":\"white\",\"linecolor\":\"white\",\"ticks\":\"\"},\"baxis\":{\"gridcolor\":\"white\",\"linecolor\":\"white\",\"ticks\":\"\"},\"caxis\":{\"gridcolor\":\"white\",\"linecolor\":\"white\",\"ticks\":\"\"}},\"coloraxis\":{\"colorbar\":{\"outlinewidth\":0,\"ticks\":\"\"}},\"colorscale\":{\"sequential\":[[0.0,\"#0d0887\"],[0.1111111111111111,\"#46039f\"],[0.2222222222222222,\"#7201a8\"],[0.3333333333333333,\"#9c179e\"],[0.4444444444444444,\"#bd3786\"],[0.5555555555555556,\"#d8576b\"],[0.6666666666666666,\"#ed7953\"],[0.7777777777777778,\"#fb9f3a\"],[0.8888888888888888,\"#fdca26\"],[1.0,\"#f0f921\"]],\"sequentialminus\":[[0.0,\"#0d0887\"],[0.1111111111111111,\"#46039f\"],[0.2222222222222222,\"#7201a8\"],[0.3333333333333333,\"#9c179e\"],[0.4444444444444444,\"#bd3786\"],[0.5555555555555556,\"#d8576b\"],[0.6666666666666666,\"#ed7953\"],[0.7777777777777778,\"#fb9f3a\"],[0.8888888888888888,\"#fdca26\"],[1.0,\"#f0f921\"]],\"diverging\":[[0,\"#8e0152\"],[0.1,\"#c51b7d\"],[0.2,\"#de77ae\"],[0.3,\"#f1b6da\"],[0.4,\"#fde0ef\"],[0.5,\"#f7f7f7\"],[0.6,\"#e6f5d0\"],[0.7,\"#b8e186\"],[0.8,\"#7fbc41\"],[0.9,\"#4d9221\"],[1,\"#276419\"]]},\"xaxis\":{\"gridcolor\":\"white\",\"linecolor\":\"white\",\"ticks\":\"\",\"title\":{\"standoff\":15},\"zerolinecolor\":\"white\",\"automargin\":true,\"zerolinewidth\":2},\"yaxis\":{\"gridcolor\":\"white\",\"linecolor\":\"white\",\"ticks\":\"\",\"title\":{\"standoff\":15},\"zerolinecolor\":\"white\",\"automargin\":true,\"zerolinewidth\":2},\"scene\":{\"xaxis\":{\"backgroundcolor\":\"#E5ECF6\",\"gridcolor\":\"white\",\"linecolor\":\"white\",\"showbackground\":true,\"ticks\":\"\",\"zerolinecolor\":\"white\",\"gridwidth\":2},\"yaxis\":{\"backgroundcolor\":\"#E5ECF6\",\"gridcolor\":\"white\",\"linecolor\":\"white\",\"showbackground\":true,\"ticks\":\"\",\"zerolinecolor\":\"white\",\"gridwidth\":2},\"zaxis\":{\"backgroundcolor\":\"#E5ECF6\",\"gridcolor\":\"white\",\"linecolor\":\"white\",\"showbackground\":true,\"ticks\":\"\",\"zerolinecolor\":\"white\",\"gridwidth\":2}},\"shapedefaults\":{\"line\":{\"color\":\"#2a3f5f\"}},\"annotationdefaults\":{\"arrowcolor\":\"#2a3f5f\",\"arrowhead\":0,\"arrowwidth\":1},\"geo\":{\"bgcolor\":\"white\",\"landcolor\":\"#E5ECF6\",\"subunitcolor\":\"white\",\"showland\":true,\"showlakes\":true,\"lakecolor\":\"white\"},\"title\":{\"x\":0.05},\"mapbox\":{\"style\":\"light\"}}},\"xaxis\":{\"anchor\":\"y\",\"domain\":[0.0,1.0],\"title\":{\"text\":\"County\"}},\"yaxis\":{\"anchor\":\"x\",\"domain\":[0.0,1.0],\"title\":{\"text\":\"2020\"}},\"legend\":{\"tracegroupgap\":0},\"title\":{\"text\":\"New York City Population by County\"}},                        {\"responsive\": true}                    ).then(function(){\n",
       "                            \n",
       "var gd = document.getElementById('5d4f94b2-d84c-4750-9e06-3553e5d10727');\n",
       "var x = new MutationObserver(function (mutations, observer) {{\n",
       "        var display = window.getComputedStyle(gd).display;\n",
       "        if (!display || display === 'none') {{\n",
       "            console.log([gd, 'removed!']);\n",
       "            Plotly.purge(gd);\n",
       "            observer.disconnect();\n",
       "        }}\n",
       "}});\n",
       "\n",
       "// Listen for the removal of the full notebook cells\n",
       "var notebookContainer = gd.closest('#notebook-container');\n",
       "if (notebookContainer) {{\n",
       "    x.observe(notebookContainer, {childList: true});\n",
       "}}\n",
       "\n",
       "// Listen for the clearing of the current output cell\n",
       "var outputEl = gd.closest('.output');\n",
       "if (outputEl) {{\n",
       "    x.observe(outputEl, {childList: true});\n",
       "}}\n",
       "\n",
       "                        })                };                });            </script>        </div>"
      ]
     },
     "metadata": {},
     "output_type": "display_data"
    }
   ],
   "source": [
    "NYC_Population = px.line(\n",
    "    population_2020,\n",
    "    x='County',\n",
    "    y='2020',\n",
    "    title='New York City Population by County',)\n",
    "NYC_Population.show()"
   ]
  },
  {
   "cell_type": "markdown",
   "id": "ebd087f4-9637-4e17-a0b4-feee643e484c",
   "metadata": {},
   "source": [
    "## NYPD Hate Crime"
   ]
  },
  {
   "cell_type": "code",
   "execution_count": 41,
   "id": "9f56c011-7023-40ed-af5a-3a1e4538afc8",
   "metadata": {},
   "outputs": [
    {
     "data": {
      "application/vnd.plotly.v1+json": {
       "config": {
        "plotlyServerURL": "https://plot.ly"
       },
       "data": [
        {
         "hovertemplate": "Offense Description=ASSAULT 3 & RELATED OFFENSES<br>County=%{x}<br>Count=%{y}<extra></extra>",
         "legendgroup": "ASSAULT 3 & RELATED OFFENSES",
         "line": {
          "color": "#636efa",
          "dash": "solid"
         },
         "marker": {
          "symbol": "circle"
         },
         "mode": "lines",
         "name": "ASSAULT 3 & RELATED OFFENSES",
         "orientation": "v",
         "showlegend": true,
         "type": "scatter",
         "x": [
          "BRONX",
          "KINGS",
          "NEW YORK",
          "QUEENS",
          "RICHMOND"
         ],
         "xaxis": "x",
         "y": [
          5,
          19,
          10,
          4,
          5
         ],
         "yaxis": "y"
        },
        {
         "hovertemplate": "Offense Description=CRIMINAL MISCHIEF & RELATED OF<br>County=%{x}<br>Count=%{y}<extra></extra>",
         "legendgroup": "CRIMINAL MISCHIEF & RELATED OF",
         "line": {
          "color": "#EF553B",
          "dash": "solid"
         },
         "marker": {
          "symbol": "circle"
         },
         "mode": "lines",
         "name": "CRIMINAL MISCHIEF & RELATED OF",
         "orientation": "v",
         "showlegend": true,
         "type": "scatter",
         "x": [
          "BRONX",
          "KINGS",
          "NEW YORK",
          "QUEENS",
          "RICHMOND"
         ],
         "xaxis": "x",
         "y": [
          4,
          18,
          27,
          18,
          6
         ],
         "yaxis": "y"
        },
        {
         "hovertemplate": "Offense Description=FELONY ASSAULT<br>County=%{x}<br>Count=%{y}<extra></extra>",
         "legendgroup": "FELONY ASSAULT",
         "line": {
          "color": "#00cc96",
          "dash": "solid"
         },
         "marker": {
          "symbol": "circle"
         },
         "mode": "lines",
         "name": "FELONY ASSAULT",
         "orientation": "v",
         "showlegend": true,
         "type": "scatter",
         "x": [
          "BRONX",
          "KINGS",
          "NEW YORK",
          "QUEENS"
         ],
         "xaxis": "x",
         "y": [
          6,
          10,
          6,
          5
         ],
         "yaxis": "y"
        },
        {
         "hovertemplate": "Offense Description=MISCELLANEOUS PENAL LAW<br>County=%{x}<br>Count=%{y}<extra></extra>",
         "legendgroup": "MISCELLANEOUS PENAL LAW",
         "line": {
          "color": "#ab63fa",
          "dash": "solid"
         },
         "marker": {
          "symbol": "circle"
         },
         "mode": "lines",
         "name": "MISCELLANEOUS PENAL LAW",
         "orientation": "v",
         "showlegend": true,
         "type": "scatter",
         "x": [
          "BRONX",
          "KINGS",
          "NEW YORK",
          "QUEENS",
          "RICHMOND"
         ],
         "xaxis": "x",
         "y": [
          8,
          34,
          23,
          13,
          5
         ],
         "yaxis": "y"
        },
        {
         "hovertemplate": "Offense Description=OFF. AGNST PUB ORD SENSBLTY &<br>County=%{x}<br>Count=%{y}<extra></extra>",
         "legendgroup": "OFF. AGNST PUB ORD SENSBLTY &",
         "line": {
          "color": "#FFA15A",
          "dash": "solid"
         },
         "marker": {
          "symbol": "circle"
         },
         "mode": "lines",
         "name": "OFF. AGNST PUB ORD SENSBLTY &",
         "orientation": "v",
         "showlegend": true,
         "type": "scatter",
         "x": [
          "BRONX",
          "KINGS",
          "NEW YORK",
          "QUEENS",
          "RICHMOND"
         ],
         "xaxis": "x",
         "y": [
          1,
          17,
          12,
          4,
          1
         ],
         "yaxis": "y"
        },
        {
         "hovertemplate": "Offense Description=ROBBERY<br>County=%{x}<br>Count=%{y}<extra></extra>",
         "legendgroup": "ROBBERY",
         "line": {
          "color": "#19d3f3",
          "dash": "solid"
         },
         "marker": {
          "symbol": "circle"
         },
         "mode": "lines",
         "name": "ROBBERY",
         "orientation": "v",
         "showlegend": true,
         "type": "scatter",
         "x": [
          "BRONX",
          "NEW YORK",
          "RICHMOND"
         ],
         "xaxis": "x",
         "y": [
          2,
          5,
          1
         ],
         "yaxis": "y"
        },
        {
         "hovertemplate": "Offense Description=BURGLARY<br>County=%{x}<br>Count=%{y}<extra></extra>",
         "legendgroup": "BURGLARY",
         "line": {
          "color": "#FF6692",
          "dash": "solid"
         },
         "marker": {
          "symbol": "circle"
         },
         "mode": "lines",
         "name": "BURGLARY",
         "orientation": "v",
         "showlegend": true,
         "type": "scatter",
         "x": [
          "KINGS"
         ],
         "xaxis": "x",
         "y": [
          4
         ],
         "yaxis": "y"
        },
        {
         "hovertemplate": "Offense Description=GRAND LARCENY<br>County=%{x}<br>Count=%{y}<extra></extra>",
         "legendgroup": "GRAND LARCENY",
         "line": {
          "color": "#B6E880",
          "dash": "solid"
         },
         "marker": {
          "symbol": "circle"
         },
         "mode": "lines",
         "name": "GRAND LARCENY",
         "orientation": "v",
         "showlegend": true,
         "type": "scatter",
         "x": [
          "KINGS",
          "QUEENS"
         ],
         "xaxis": "x",
         "y": [
          3,
          1
         ],
         "yaxis": "y"
        },
        {
         "hovertemplate": "Offense Description=PETIT LARCENY<br>County=%{x}<br>Count=%{y}<extra></extra>",
         "legendgroup": "PETIT LARCENY",
         "line": {
          "color": "#FF97FF",
          "dash": "solid"
         },
         "marker": {
          "symbol": "circle"
         },
         "mode": "lines",
         "name": "PETIT LARCENY",
         "orientation": "v",
         "showlegend": true,
         "type": "scatter",
         "x": [
          "NEW YORK"
         ],
         "xaxis": "x",
         "y": [
          2
         ],
         "yaxis": "y"
        },
        {
         "hovertemplate": "Offense Description=SEX CRIMES<br>County=%{x}<br>Count=%{y}<extra></extra>",
         "legendgroup": "SEX CRIMES",
         "line": {
          "color": "#FECB52",
          "dash": "solid"
         },
         "marker": {
          "symbol": "circle"
         },
         "mode": "lines",
         "name": "SEX CRIMES",
         "orientation": "v",
         "showlegend": true,
         "type": "scatter",
         "x": [
          "NEW YORK"
         ],
         "xaxis": "x",
         "y": [
          1
         ],
         "yaxis": "y"
        },
        {
         "hovertemplate": "Offense Description=HARRASSMENT 2<br>County=%{x}<br>Count=%{y}<extra></extra>",
         "legendgroup": "HARRASSMENT 2",
         "line": {
          "color": "#636efa",
          "dash": "solid"
         },
         "marker": {
          "symbol": "circle"
         },
         "mode": "lines",
         "name": "HARRASSMENT 2",
         "orientation": "v",
         "showlegend": true,
         "type": "scatter",
         "x": [
          "QUEENS"
         ],
         "xaxis": "x",
         "y": [
          3
         ],
         "yaxis": "y"
        },
        {
         "hovertemplate": "Offense Description=MURDER & NON-NEGL. MANSLAUGHTE<br>County=%{x}<br>Count=%{y}<extra></extra>",
         "legendgroup": "MURDER & NON-NEGL. MANSLAUGHTE",
         "line": {
          "color": "#EF553B",
          "dash": "solid"
         },
         "marker": {
          "symbol": "circle"
         },
         "mode": "lines",
         "name": "MURDER & NON-NEGL. MANSLAUGHTE",
         "orientation": "v",
         "showlegend": true,
         "type": "scatter",
         "x": [
          "QUEENS"
         ],
         "xaxis": "x",
         "y": [
          1
         ],
         "yaxis": "y"
        }
       ],
       "layout": {
        "autosize": true,
        "legend": {
         "title": {
          "text": "Offense Description"
         },
         "tracegroupgap": 0
        },
        "template": {
         "data": {
          "bar": [
           {
            "error_x": {
             "color": "#2a3f5f"
            },
            "error_y": {
             "color": "#2a3f5f"
            },
            "marker": {
             "line": {
              "color": "#E5ECF6",
              "width": 0.5
             },
             "pattern": {
              "fillmode": "overlay",
              "size": 10,
              "solidity": 0.2
             }
            },
            "type": "bar"
           }
          ],
          "barpolar": [
           {
            "marker": {
             "line": {
              "color": "#E5ECF6",
              "width": 0.5
             },
             "pattern": {
              "fillmode": "overlay",
              "size": 10,
              "solidity": 0.2
             }
            },
            "type": "barpolar"
           }
          ],
          "carpet": [
           {
            "aaxis": {
             "endlinecolor": "#2a3f5f",
             "gridcolor": "white",
             "linecolor": "white",
             "minorgridcolor": "white",
             "startlinecolor": "#2a3f5f"
            },
            "baxis": {
             "endlinecolor": "#2a3f5f",
             "gridcolor": "white",
             "linecolor": "white",
             "minorgridcolor": "white",
             "startlinecolor": "#2a3f5f"
            },
            "type": "carpet"
           }
          ],
          "choropleth": [
           {
            "colorbar": {
             "outlinewidth": 0,
             "ticks": ""
            },
            "type": "choropleth"
           }
          ],
          "contour": [
           {
            "colorbar": {
             "outlinewidth": 0,
             "ticks": ""
            },
            "colorscale": [
             [
              0,
              "#0d0887"
             ],
             [
              0.1111111111111111,
              "#46039f"
             ],
             [
              0.2222222222222222,
              "#7201a8"
             ],
             [
              0.3333333333333333,
              "#9c179e"
             ],
             [
              0.4444444444444444,
              "#bd3786"
             ],
             [
              0.5555555555555556,
              "#d8576b"
             ],
             [
              0.6666666666666666,
              "#ed7953"
             ],
             [
              0.7777777777777778,
              "#fb9f3a"
             ],
             [
              0.8888888888888888,
              "#fdca26"
             ],
             [
              1,
              "#f0f921"
             ]
            ],
            "type": "contour"
           }
          ],
          "contourcarpet": [
           {
            "colorbar": {
             "outlinewidth": 0,
             "ticks": ""
            },
            "type": "contourcarpet"
           }
          ],
          "heatmap": [
           {
            "colorbar": {
             "outlinewidth": 0,
             "ticks": ""
            },
            "colorscale": [
             [
              0,
              "#0d0887"
             ],
             [
              0.1111111111111111,
              "#46039f"
             ],
             [
              0.2222222222222222,
              "#7201a8"
             ],
             [
              0.3333333333333333,
              "#9c179e"
             ],
             [
              0.4444444444444444,
              "#bd3786"
             ],
             [
              0.5555555555555556,
              "#d8576b"
             ],
             [
              0.6666666666666666,
              "#ed7953"
             ],
             [
              0.7777777777777778,
              "#fb9f3a"
             ],
             [
              0.8888888888888888,
              "#fdca26"
             ],
             [
              1,
              "#f0f921"
             ]
            ],
            "type": "heatmap"
           }
          ],
          "heatmapgl": [
           {
            "colorbar": {
             "outlinewidth": 0,
             "ticks": ""
            },
            "colorscale": [
             [
              0,
              "#0d0887"
             ],
             [
              0.1111111111111111,
              "#46039f"
             ],
             [
              0.2222222222222222,
              "#7201a8"
             ],
             [
              0.3333333333333333,
              "#9c179e"
             ],
             [
              0.4444444444444444,
              "#bd3786"
             ],
             [
              0.5555555555555556,
              "#d8576b"
             ],
             [
              0.6666666666666666,
              "#ed7953"
             ],
             [
              0.7777777777777778,
              "#fb9f3a"
             ],
             [
              0.8888888888888888,
              "#fdca26"
             ],
             [
              1,
              "#f0f921"
             ]
            ],
            "type": "heatmapgl"
           }
          ],
          "histogram": [
           {
            "marker": {
             "pattern": {
              "fillmode": "overlay",
              "size": 10,
              "solidity": 0.2
             }
            },
            "type": "histogram"
           }
          ],
          "histogram2d": [
           {
            "colorbar": {
             "outlinewidth": 0,
             "ticks": ""
            },
            "colorscale": [
             [
              0,
              "#0d0887"
             ],
             [
              0.1111111111111111,
              "#46039f"
             ],
             [
              0.2222222222222222,
              "#7201a8"
             ],
             [
              0.3333333333333333,
              "#9c179e"
             ],
             [
              0.4444444444444444,
              "#bd3786"
             ],
             [
              0.5555555555555556,
              "#d8576b"
             ],
             [
              0.6666666666666666,
              "#ed7953"
             ],
             [
              0.7777777777777778,
              "#fb9f3a"
             ],
             [
              0.8888888888888888,
              "#fdca26"
             ],
             [
              1,
              "#f0f921"
             ]
            ],
            "type": "histogram2d"
           }
          ],
          "histogram2dcontour": [
           {
            "colorbar": {
             "outlinewidth": 0,
             "ticks": ""
            },
            "colorscale": [
             [
              0,
              "#0d0887"
             ],
             [
              0.1111111111111111,
              "#46039f"
             ],
             [
              0.2222222222222222,
              "#7201a8"
             ],
             [
              0.3333333333333333,
              "#9c179e"
             ],
             [
              0.4444444444444444,
              "#bd3786"
             ],
             [
              0.5555555555555556,
              "#d8576b"
             ],
             [
              0.6666666666666666,
              "#ed7953"
             ],
             [
              0.7777777777777778,
              "#fb9f3a"
             ],
             [
              0.8888888888888888,
              "#fdca26"
             ],
             [
              1,
              "#f0f921"
             ]
            ],
            "type": "histogram2dcontour"
           }
          ],
          "mesh3d": [
           {
            "colorbar": {
             "outlinewidth": 0,
             "ticks": ""
            },
            "type": "mesh3d"
           }
          ],
          "parcoords": [
           {
            "line": {
             "colorbar": {
              "outlinewidth": 0,
              "ticks": ""
             }
            },
            "type": "parcoords"
           }
          ],
          "pie": [
           {
            "automargin": true,
            "type": "pie"
           }
          ],
          "scatter": [
           {
            "fillpattern": {
             "fillmode": "overlay",
             "size": 10,
             "solidity": 0.2
            },
            "type": "scatter"
           }
          ],
          "scatter3d": [
           {
            "line": {
             "colorbar": {
              "outlinewidth": 0,
              "ticks": ""
             }
            },
            "marker": {
             "colorbar": {
              "outlinewidth": 0,
              "ticks": ""
             }
            },
            "type": "scatter3d"
           }
          ],
          "scattercarpet": [
           {
            "marker": {
             "colorbar": {
              "outlinewidth": 0,
              "ticks": ""
             }
            },
            "type": "scattercarpet"
           }
          ],
          "scattergeo": [
           {
            "marker": {
             "colorbar": {
              "outlinewidth": 0,
              "ticks": ""
             }
            },
            "type": "scattergeo"
           }
          ],
          "scattergl": [
           {
            "marker": {
             "colorbar": {
              "outlinewidth": 0,
              "ticks": ""
             }
            },
            "type": "scattergl"
           }
          ],
          "scattermapbox": [
           {
            "marker": {
             "colorbar": {
              "outlinewidth": 0,
              "ticks": ""
             }
            },
            "type": "scattermapbox"
           }
          ],
          "scatterpolar": [
           {
            "marker": {
             "colorbar": {
              "outlinewidth": 0,
              "ticks": ""
             }
            },
            "type": "scatterpolar"
           }
          ],
          "scatterpolargl": [
           {
            "marker": {
             "colorbar": {
              "outlinewidth": 0,
              "ticks": ""
             }
            },
            "type": "scatterpolargl"
           }
          ],
          "scatterternary": [
           {
            "marker": {
             "colorbar": {
              "outlinewidth": 0,
              "ticks": ""
             }
            },
            "type": "scatterternary"
           }
          ],
          "surface": [
           {
            "colorbar": {
             "outlinewidth": 0,
             "ticks": ""
            },
            "colorscale": [
             [
              0,
              "#0d0887"
             ],
             [
              0.1111111111111111,
              "#46039f"
             ],
             [
              0.2222222222222222,
              "#7201a8"
             ],
             [
              0.3333333333333333,
              "#9c179e"
             ],
             [
              0.4444444444444444,
              "#bd3786"
             ],
             [
              0.5555555555555556,
              "#d8576b"
             ],
             [
              0.6666666666666666,
              "#ed7953"
             ],
             [
              0.7777777777777778,
              "#fb9f3a"
             ],
             [
              0.8888888888888888,
              "#fdca26"
             ],
             [
              1,
              "#f0f921"
             ]
            ],
            "type": "surface"
           }
          ],
          "table": [
           {
            "cells": {
             "fill": {
              "color": "#EBF0F8"
             },
             "line": {
              "color": "white"
             }
            },
            "header": {
             "fill": {
              "color": "#C8D4E3"
             },
             "line": {
              "color": "white"
             }
            },
            "type": "table"
           }
          ]
         },
         "layout": {
          "annotationdefaults": {
           "arrowcolor": "#2a3f5f",
           "arrowhead": 0,
           "arrowwidth": 1
          },
          "autotypenumbers": "strict",
          "coloraxis": {
           "colorbar": {
            "outlinewidth": 0,
            "ticks": ""
           }
          },
          "colorscale": {
           "diverging": [
            [
             0,
             "#8e0152"
            ],
            [
             0.1,
             "#c51b7d"
            ],
            [
             0.2,
             "#de77ae"
            ],
            [
             0.3,
             "#f1b6da"
            ],
            [
             0.4,
             "#fde0ef"
            ],
            [
             0.5,
             "#f7f7f7"
            ],
            [
             0.6,
             "#e6f5d0"
            ],
            [
             0.7,
             "#b8e186"
            ],
            [
             0.8,
             "#7fbc41"
            ],
            [
             0.9,
             "#4d9221"
            ],
            [
             1,
             "#276419"
            ]
           ],
           "sequential": [
            [
             0,
             "#0d0887"
            ],
            [
             0.1111111111111111,
             "#46039f"
            ],
            [
             0.2222222222222222,
             "#7201a8"
            ],
            [
             0.3333333333333333,
             "#9c179e"
            ],
            [
             0.4444444444444444,
             "#bd3786"
            ],
            [
             0.5555555555555556,
             "#d8576b"
            ],
            [
             0.6666666666666666,
             "#ed7953"
            ],
            [
             0.7777777777777778,
             "#fb9f3a"
            ],
            [
             0.8888888888888888,
             "#fdca26"
            ],
            [
             1,
             "#f0f921"
            ]
           ],
           "sequentialminus": [
            [
             0,
             "#0d0887"
            ],
            [
             0.1111111111111111,
             "#46039f"
            ],
            [
             0.2222222222222222,
             "#7201a8"
            ],
            [
             0.3333333333333333,
             "#9c179e"
            ],
            [
             0.4444444444444444,
             "#bd3786"
            ],
            [
             0.5555555555555556,
             "#d8576b"
            ],
            [
             0.6666666666666666,
             "#ed7953"
            ],
            [
             0.7777777777777778,
             "#fb9f3a"
            ],
            [
             0.8888888888888888,
             "#fdca26"
            ],
            [
             1,
             "#f0f921"
            ]
           ]
          },
          "colorway": [
           "#636efa",
           "#EF553B",
           "#00cc96",
           "#ab63fa",
           "#FFA15A",
           "#19d3f3",
           "#FF6692",
           "#B6E880",
           "#FF97FF",
           "#FECB52"
          ],
          "font": {
           "color": "#2a3f5f"
          },
          "geo": {
           "bgcolor": "white",
           "lakecolor": "white",
           "landcolor": "#E5ECF6",
           "showlakes": true,
           "showland": true,
           "subunitcolor": "white"
          },
          "hoverlabel": {
           "align": "left"
          },
          "hovermode": "closest",
          "mapbox": {
           "style": "light"
          },
          "paper_bgcolor": "white",
          "plot_bgcolor": "#E5ECF6",
          "polar": {
           "angularaxis": {
            "gridcolor": "white",
            "linecolor": "white",
            "ticks": ""
           },
           "bgcolor": "#E5ECF6",
           "radialaxis": {
            "gridcolor": "white",
            "linecolor": "white",
            "ticks": ""
           }
          },
          "scene": {
           "xaxis": {
            "backgroundcolor": "#E5ECF6",
            "gridcolor": "white",
            "gridwidth": 2,
            "linecolor": "white",
            "showbackground": true,
            "ticks": "",
            "zerolinecolor": "white"
           },
           "yaxis": {
            "backgroundcolor": "#E5ECF6",
            "gridcolor": "white",
            "gridwidth": 2,
            "linecolor": "white",
            "showbackground": true,
            "ticks": "",
            "zerolinecolor": "white"
           },
           "zaxis": {
            "backgroundcolor": "#E5ECF6",
            "gridcolor": "white",
            "gridwidth": 2,
            "linecolor": "white",
            "showbackground": true,
            "ticks": "",
            "zerolinecolor": "white"
           }
          },
          "shapedefaults": {
           "line": {
            "color": "#2a3f5f"
           }
          },
          "ternary": {
           "aaxis": {
            "gridcolor": "white",
            "linecolor": "white",
            "ticks": ""
           },
           "baxis": {
            "gridcolor": "white",
            "linecolor": "white",
            "ticks": ""
           },
           "bgcolor": "#E5ECF6",
           "caxis": {
            "gridcolor": "white",
            "linecolor": "white",
            "ticks": ""
           }
          },
          "title": {
           "x": 0.05
          },
          "xaxis": {
           "automargin": true,
           "gridcolor": "white",
           "linecolor": "white",
           "ticks": "",
           "title": {
            "standoff": 15
           },
           "zerolinecolor": "white",
           "zerolinewidth": 2
          },
          "yaxis": {
           "automargin": true,
           "gridcolor": "white",
           "linecolor": "white",
           "ticks": "",
           "title": {
            "standoff": 15
           },
           "zerolinecolor": "white",
           "zerolinewidth": 2
          }
         }
        },
        "title": {
         "text": "NYPD Hate Crime"
        },
        "xaxis": {
         "anchor": "y",
         "autorange": true,
         "domain": [
          0,
          1
         ],
         "range": [
          0,
          4
         ],
         "title": {
          "text": "County"
         },
         "type": "category"
        },
        "yaxis": {
         "anchor": "x",
         "autorange": true,
         "domain": [
          0,
          1
         ],
         "range": [
          -0.8333333333333333,
          35.833333333333336
         ],
         "title": {
          "text": "Count"
         },
         "type": "linear"
        }
       }
      },
      "image/png": "[encoded data removed]",
      "text/html": [
       "<div>                            <div id=\"78efbd24-68ae-44bf-9ebe-74a4ab5b60a7\" class=\"plotly-graph-div\" style=\"height:525px; width:100%;\"></div>            <script type=\"text/javascript\">                require([\"plotly\"], function(Plotly) {                    window.PLOTLYENV=window.PLOTLYENV || {};                                    if (document.getElementById(\"78efbd24-68ae-44bf-9ebe-74a4ab5b60a7\")) {                    Plotly.newPlot(                        \"78efbd24-68ae-44bf-9ebe-74a4ab5b60a7\",                        [{\"hovertemplate\":\"Offense Description=ASSAULT 3 & RELATED OFFENSES\\u003cbr\\u003eCounty=%{x}\\u003cbr\\u003eCount=%{y}\\u003cextra\\u003e\\u003c\\u002fextra\\u003e\",\"legendgroup\":\"ASSAULT 3 & RELATED OFFENSES\",\"line\":{\"color\":\"#636efa\",\"dash\":\"solid\"},\"marker\":{\"symbol\":\"circle\"},\"mode\":\"lines\",\"name\":\"ASSAULT 3 & RELATED OFFENSES\",\"orientation\":\"v\",\"showlegend\":true,\"x\":[\"BRONX\",\"KINGS\",\"NEW YORK\",\"QUEENS\",\"RICHMOND\"],\"xaxis\":\"x\",\"y\":[5,19,10,4,5],\"yaxis\":\"y\",\"type\":\"scatter\"},{\"hovertemplate\":\"Offense Description=CRIMINAL MISCHIEF & RELATED OF\\u003cbr\\u003eCounty=%{x}\\u003cbr\\u003eCount=%{y}\\u003cextra\\u003e\\u003c\\u002fextra\\u003e\",\"legendgroup\":\"CRIMINAL MISCHIEF & RELATED OF\",\"line\":{\"color\":\"#EF553B\",\"dash\":\"solid\"},\"marker\":{\"symbol\":\"circle\"},\"mode\":\"lines\",\"name\":\"CRIMINAL MISCHIEF & RELATED OF\",\"orientation\":\"v\",\"showlegend\":true,\"x\":[\"BRONX\",\"KINGS\",\"NEW YORK\",\"QUEENS\",\"RICHMOND\"],\"xaxis\":\"x\",\"y\":[4,18,27,18,6],\"yaxis\":\"y\",\"type\":\"scatter\"},{\"hovertemplate\":\"Offense Description=FELONY ASSAULT\\u003cbr\\u003eCounty=%{x}\\u003cbr\\u003eCount=%{y}\\u003cextra\\u003e\\u003c\\u002fextra\\u003e\",\"legendgroup\":\"FELONY ASSAULT\",\"line\":{\"color\":\"#00cc96\",\"dash\":\"solid\"},\"marker\":{\"symbol\":\"circle\"},\"mode\":\"lines\",\"name\":\"FELONY ASSAULT\",\"orientation\":\"v\",\"showlegend\":true,\"x\":[\"BRONX\",\"KINGS\",\"NEW YORK\",\"QUEENS\"],\"xaxis\":\"x\",\"y\":[6,10,6,5],\"yaxis\":\"y\",\"type\":\"scatter\"},{\"hovertemplate\":\"Offense Description=MISCELLANEOUS PENAL LAW\\u003cbr\\u003eCounty=%{x}\\u003cbr\\u003eCount=%{y}\\u003cextra\\u003e\\u003c\\u002fextra\\u003e\",\"legendgroup\":\"MISCELLANEOUS PENAL LAW\",\"line\":{\"color\":\"#ab63fa\",\"dash\":\"solid\"},\"marker\":{\"symbol\":\"circle\"},\"mode\":\"lines\",\"name\":\"MISCELLANEOUS PENAL LAW\",\"orientation\":\"v\",\"showlegend\":true,\"x\":[\"BRONX\",\"KINGS\",\"NEW YORK\",\"QUEENS\",\"RICHMOND\"],\"xaxis\":\"x\",\"y\":[8,34,23,13,5],\"yaxis\":\"y\",\"type\":\"scatter\"},{\"hovertemplate\":\"Offense Description=OFF. AGNST PUB ORD SENSBLTY &\\u003cbr\\u003eCounty=%{x}\\u003cbr\\u003eCount=%{y}\\u003cextra\\u003e\\u003c\\u002fextra\\u003e\",\"legendgroup\":\"OFF. AGNST PUB ORD SENSBLTY &\",\"line\":{\"color\":\"#FFA15A\",\"dash\":\"solid\"},\"marker\":{\"symbol\":\"circle\"},\"mode\":\"lines\",\"name\":\"OFF. AGNST PUB ORD SENSBLTY &\",\"orientation\":\"v\",\"showlegend\":true,\"x\":[\"BRONX\",\"KINGS\",\"NEW YORK\",\"QUEENS\",\"RICHMOND\"],\"xaxis\":\"x\",\"y\":[1,17,12,4,1],\"yaxis\":\"y\",\"type\":\"scatter\"},{\"hovertemplate\":\"Offense Description=ROBBERY\\u003cbr\\u003eCounty=%{x}\\u003cbr\\u003eCount=%{y}\\u003cextra\\u003e\\u003c\\u002fextra\\u003e\",\"legendgroup\":\"ROBBERY\",\"line\":{\"color\":\"#19d3f3\",\"dash\":\"solid\"},\"marker\":{\"symbol\":\"circle\"},\"mode\":\"lines\",\"name\":\"ROBBERY\",\"orientation\":\"v\",\"showlegend\":true,\"x\":[\"BRONX\",\"NEW YORK\",\"RICHMOND\"],\"xaxis\":\"x\",\"y\":[2,5,1],\"yaxis\":\"y\",\"type\":\"scatter\"},{\"hovertemplate\":\"Offense Description=BURGLARY\\u003cbr\\u003eCounty=%{x}\\u003cbr\\u003eCount=%{y}\\u003cextra\\u003e\\u003c\\u002fextra\\u003e\",\"legendgroup\":\"BURGLARY\",\"line\":{\"color\":\"#FF6692\",\"dash\":\"solid\"},\"marker\":{\"symbol\":\"circle\"},\"mode\":\"lines\",\"name\":\"BURGLARY\",\"orientation\":\"v\",\"showlegend\":true,\"x\":[\"KINGS\"],\"xaxis\":\"x\",\"y\":[4],\"yaxis\":\"y\",\"type\":\"scatter\"},{\"hovertemplate\":\"Offense Description=GRAND LARCENY\\u003cbr\\u003eCounty=%{x}\\u003cbr\\u003eCount=%{y}\\u003cextra\\u003e\\u003c\\u002fextra\\u003e\",\"legendgroup\":\"GRAND LARCENY\",\"line\":{\"color\":\"#B6E880\",\"dash\":\"solid\"},\"marker\":{\"symbol\":\"circle\"},\"mode\":\"lines\",\"name\":\"GRAND LARCENY\",\"orientation\":\"v\",\"showlegend\":true,\"x\":[\"KINGS\",\"QUEENS\"],\"xaxis\":\"x\",\"y\":[3,1],\"yaxis\":\"y\",\"type\":\"scatter\"},{\"hovertemplate\":\"Offense Description=PETIT LARCENY\\u003cbr\\u003eCounty=%{x}\\u003cbr\\u003eCount=%{y}\\u003cextra\\u003e\\u003c\\u002fextra\\u003e\",\"legendgroup\":\"PETIT LARCENY\",\"line\":{\"color\":\"#FF97FF\",\"dash\":\"solid\"},\"marker\":{\"symbol\":\"circle\"},\"mode\":\"lines\",\"name\":\"PETIT LARCENY\",\"orientation\":\"v\",\"showlegend\":true,\"x\":[\"NEW YORK\"],\"xaxis\":\"x\",\"y\":[2],\"yaxis\":\"y\",\"type\":\"scatter\"},{\"hovertemplate\":\"Offense Description=SEX CRIMES\\u003cbr\\u003eCounty=%{x}\\u003cbr\\u003eCount=%{y}\\u003cextra\\u003e\\u003c\\u002fextra\\u003e\",\"legendgroup\":\"SEX CRIMES\",\"line\":{\"color\":\"#FECB52\",\"dash\":\"solid\"},\"marker\":{\"symbol\":\"circle\"},\"mode\":\"lines\",\"name\":\"SEX CRIMES\",\"orientation\":\"v\",\"showlegend\":true,\"x\":[\"NEW YORK\"],\"xaxis\":\"x\",\"y\":[1],\"yaxis\":\"y\",\"type\":\"scatter\"},{\"hovertemplate\":\"Offense Description=HARRASSMENT 2\\u003cbr\\u003eCounty=%{x}\\u003cbr\\u003eCount=%{y}\\u003cextra\\u003e\\u003c\\u002fextra\\u003e\",\"legendgroup\":\"HARRASSMENT 2\",\"line\":{\"color\":\"#636efa\",\"dash\":\"solid\"},\"marker\":{\"symbol\":\"circle\"},\"mode\":\"lines\",\"name\":\"HARRASSMENT 2\",\"orientation\":\"v\",\"showlegend\":true,\"x\":[\"QUEENS\"],\"xaxis\":\"x\",\"y\":[3],\"yaxis\":\"y\",\"type\":\"scatter\"},{\"hovertemplate\":\"Offense Description=MURDER & NON-NEGL. MANSLAUGHTE\\u003cbr\\u003eCounty=%{x}\\u003cbr\\u003eCount=%{y}\\u003cextra\\u003e\\u003c\\u002fextra\\u003e\",\"legendgroup\":\"MURDER & NON-NEGL. MANSLAUGHTE\",\"line\":{\"color\":\"#EF553B\",\"dash\":\"solid\"},\"marker\":{\"symbol\":\"circle\"},\"mode\":\"lines\",\"name\":\"MURDER & NON-NEGL. MANSLAUGHTE\",\"orientation\":\"v\",\"showlegend\":true,\"x\":[\"QUEENS\"],\"xaxis\":\"x\",\"y\":[1],\"yaxis\":\"y\",\"type\":\"scatter\"}],                        {\"template\":{\"data\":{\"histogram2dcontour\":[{\"type\":\"histogram2dcontour\",\"colorbar\":{\"outlinewidth\":0,\"ticks\":\"\"},\"colorscale\":[[0.0,\"#0d0887\"],[0.1111111111111111,\"#46039f\"],[0.2222222222222222,\"#7201a8\"],[0.3333333333333333,\"#9c179e\"],[0.4444444444444444,\"#bd3786\"],[0.5555555555555556,\"#d8576b\"],[0.6666666666666666,\"#ed7953\"],[0.7777777777777778,\"#fb9f3a\"],[0.8888888888888888,\"#fdca26\"],[1.0,\"#f0f921\"]]}],\"choropleth\":[{\"type\":\"choropleth\",\"colorbar\":{\"outlinewidth\":0,\"ticks\":\"\"}}],\"histogram2d\":[{\"type\":\"histogram2d\",\"colorbar\":{\"outlinewidth\":0,\"ticks\":\"\"},\"colorscale\":[[0.0,\"#0d0887\"],[0.1111111111111111,\"#46039f\"],[0.2222222222222222,\"#7201a8\"],[0.3333333333333333,\"#9c179e\"],[0.4444444444444444,\"#bd3786\"],[0.5555555555555556,\"#d8576b\"],[0.6666666666666666,\"#ed7953\"],[0.7777777777777778,\"#fb9f3a\"],[0.8888888888888888,\"#fdca26\"],[1.0,\"#f0f921\"]]}],\"heatmap\":[{\"type\":\"heatmap\",\"colorbar\":{\"outlinewidth\":0,\"ticks\":\"\"},\"colorscale\":[[0.0,\"#0d0887\"],[0.1111111111111111,\"#46039f\"],[0.2222222222222222,\"#7201a8\"],[0.3333333333333333,\"#9c179e\"],[0.4444444444444444,\"#bd3786\"],[0.5555555555555556,\"#d8576b\"],[0.6666666666666666,\"#ed7953\"],[0.7777777777777778,\"#fb9f3a\"],[0.8888888888888888,\"#fdca26\"],[1.0,\"#f0f921\"]]}],\"heatmapgl\":[{\"type\":\"heatmapgl\",\"colorbar\":{\"outlinewidth\":0,\"ticks\":\"\"},\"colorscale\":[[0.0,\"#0d0887\"],[0.1111111111111111,\"#46039f\"],[0.2222222222222222,\"#7201a8\"],[0.3333333333333333,\"#9c179e\"],[0.4444444444444444,\"#bd3786\"],[0.5555555555555556,\"#d8576b\"],[0.6666666666666666,\"#ed7953\"],[0.7777777777777778,\"#fb9f3a\"],[0.8888888888888888,\"#fdca26\"],[1.0,\"#f0f921\"]]}],\"contourcarpet\":[{\"type\":\"contourcarpet\",\"colorbar\":{\"outlinewidth\":0,\"ticks\":\"\"}}],\"contour\":[{\"type\":\"contour\",\"colorbar\":{\"outlinewidth\":0,\"ticks\":\"\"},\"colorscale\":[[0.0,\"#0d0887\"],[0.1111111111111111,\"#46039f\"],[0.2222222222222222,\"#7201a8\"],[0.3333333333333333,\"#9c179e\"],[0.4444444444444444,\"#bd3786\"],[0.5555555555555556,\"#d8576b\"],[0.6666666666666666,\"#ed7953\"],[0.7777777777777778,\"#fb9f3a\"],[0.8888888888888888,\"#fdca26\"],[1.0,\"#f0f921\"]]}],\"surface\":[{\"type\":\"surface\",\"colorbar\":{\"outlinewidth\":0,\"ticks\":\"\"},\"colorscale\":[[0.0,\"#0d0887\"],[0.1111111111111111,\"#46039f\"],[0.2222222222222222,\"#7201a8\"],[0.3333333333333333,\"#9c179e\"],[0.4444444444444444,\"#bd3786\"],[0.5555555555555556,\"#d8576b\"],[0.6666666666666666,\"#ed7953\"],[0.7777777777777778,\"#fb9f3a\"],[0.8888888888888888,\"#fdca26\"],[1.0,\"#f0f921\"]]}],\"mesh3d\":[{\"type\":\"mesh3d\",\"colorbar\":{\"outlinewidth\":0,\"ticks\":\"\"}}],\"scatter\":[{\"fillpattern\":{\"fillmode\":\"overlay\",\"size\":10,\"solidity\":0.2},\"type\":\"scatter\"}],\"parcoords\":[{\"type\":\"parcoords\",\"line\":{\"colorbar\":{\"outlinewidth\":0,\"ticks\":\"\"}}}],\"scatterpolargl\":[{\"type\":\"scatterpolargl\",\"marker\":{\"colorbar\":{\"outlinewidth\":0,\"ticks\":\"\"}}}],\"bar\":[{\"error_x\":{\"color\":\"#2a3f5f\"},\"error_y\":{\"color\":\"#2a3f5f\"},\"marker\":{\"line\":{\"color\":\"#E5ECF6\",\"width\":0.5},\"pattern\":{\"fillmode\":\"overlay\",\"size\":10,\"solidity\":0.2}},\"type\":\"bar\"}],\"scattergeo\":[{\"type\":\"scattergeo\",\"marker\":{\"colorbar\":{\"outlinewidth\":0,\"ticks\":\"\"}}}],\"scatterpolar\":[{\"type\":\"scatterpolar\",\"marker\":{\"colorbar\":{\"outlinewidth\":0,\"ticks\":\"\"}}}],\"histogram\":[{\"marker\":{\"pattern\":{\"fillmode\":\"overlay\",\"size\":10,\"solidity\":0.2}},\"type\":\"histogram\"}],\"scattergl\":[{\"type\":\"scattergl\",\"marker\":{\"colorbar\":{\"outlinewidth\":0,\"ticks\":\"\"}}}],\"scatter3d\":[{\"type\":\"scatter3d\",\"line\":{\"colorbar\":{\"outlinewidth\":0,\"ticks\":\"\"}},\"marker\":{\"colorbar\":{\"outlinewidth\":0,\"ticks\":\"\"}}}],\"scattermapbox\":[{\"type\":\"scattermapbox\",\"marker\":{\"colorbar\":{\"outlinewidth\":0,\"ticks\":\"\"}}}],\"scatterternary\":[{\"type\":\"scatterternary\",\"marker\":{\"colorbar\":{\"outlinewidth\":0,\"ticks\":\"\"}}}],\"scattercarpet\":[{\"type\":\"scattercarpet\",\"marker\":{\"colorbar\":{\"outlinewidth\":0,\"ticks\":\"\"}}}],\"carpet\":[{\"aaxis\":{\"endlinecolor\":\"#2a3f5f\",\"gridcolor\":\"white\",\"linecolor\":\"white\",\"minorgridcolor\":\"white\",\"startlinecolor\":\"#2a3f5f\"},\"baxis\":{\"endlinecolor\":\"#2a3f5f\",\"gridcolor\":\"white\",\"linecolor\":\"white\",\"minorgridcolor\":\"white\",\"startlinecolor\":\"#2a3f5f\"},\"type\":\"carpet\"}],\"table\":[{\"cells\":{\"fill\":{\"color\":\"#EBF0F8\"},\"line\":{\"color\":\"white\"}},\"header\":{\"fill\":{\"color\":\"#C8D4E3\"},\"line\":{\"color\":\"white\"}},\"type\":\"table\"}],\"barpolar\":[{\"marker\":{\"line\":{\"color\":\"#E5ECF6\",\"width\":0.5},\"pattern\":{\"fillmode\":\"overlay\",\"size\":10,\"solidity\":0.2}},\"type\":\"barpolar\"}],\"pie\":[{\"automargin\":true,\"type\":\"pie\"}]},\"layout\":{\"autotypenumbers\":\"strict\",\"colorway\":[\"#636efa\",\"#EF553B\",\"#00cc96\",\"#ab63fa\",\"#FFA15A\",\"#19d3f3\",\"#FF6692\",\"#B6E880\",\"#FF97FF\",\"#FECB52\"],\"font\":{\"color\":\"#2a3f5f\"},\"hovermode\":\"closest\",\"hoverlabel\":{\"align\":\"left\"},\"paper_bgcolor\":\"white\",\"plot_bgcolor\":\"#E5ECF6\",\"polar\":{\"bgcolor\":\"#E5ECF6\",\"angularaxis\":{\"gridcolor\":\"white\",\"linecolor\":\"white\",\"ticks\":\"\"},\"radialaxis\":{\"gridcolor\":\"white\",\"linecolor\":\"white\",\"ticks\":\"\"}},\"ternary\":{\"bgcolor\":\"#E5ECF6\",\"aaxis\":{\"gridcolor\":\"white\",\"linecolor\":\"white\",\"ticks\":\"\"},\"baxis\":{\"gridcolor\":\"white\",\"linecolor\":\"white\",\"ticks\":\"\"},\"caxis\":{\"gridcolor\":\"white\",\"linecolor\":\"white\",\"ticks\":\"\"}},\"coloraxis\":{\"colorbar\":{\"outlinewidth\":0,\"ticks\":\"\"}},\"colorscale\":{\"sequential\":[[0.0,\"#0d0887\"],[0.1111111111111111,\"#46039f\"],[0.2222222222222222,\"#7201a8\"],[0.3333333333333333,\"#9c179e\"],[0.4444444444444444,\"#bd3786\"],[0.5555555555555556,\"#d8576b\"],[0.6666666666666666,\"#ed7953\"],[0.7777777777777778,\"#fb9f3a\"],[0.8888888888888888,\"#fdca26\"],[1.0,\"#f0f921\"]],\"sequentialminus\":[[0.0,\"#0d0887\"],[0.1111111111111111,\"#46039f\"],[0.2222222222222222,\"#7201a8\"],[0.3333333333333333,\"#9c179e\"],[0.4444444444444444,\"#bd3786\"],[0.5555555555555556,\"#d8576b\"],[0.6666666666666666,\"#ed7953\"],[0.7777777777777778,\"#fb9f3a\"],[0.8888888888888888,\"#fdca26\"],[1.0,\"#f0f921\"]],\"diverging\":[[0,\"#8e0152\"],[0.1,\"#c51b7d\"],[0.2,\"#de77ae\"],[0.3,\"#f1b6da\"],[0.4,\"#fde0ef\"],[0.5,\"#f7f7f7\"],[0.6,\"#e6f5d0\"],[0.7,\"#b8e186\"],[0.8,\"#7fbc41\"],[0.9,\"#4d9221\"],[1,\"#276419\"]]},\"xaxis\":{\"gridcolor\":\"white\",\"linecolor\":\"white\",\"ticks\":\"\",\"title\":{\"standoff\":15},\"zerolinecolor\":\"white\",\"automargin\":true,\"zerolinewidth\":2},\"yaxis\":{\"gridcolor\":\"white\",\"linecolor\":\"white\",\"ticks\":\"\",\"title\":{\"standoff\":15},\"zerolinecolor\":\"white\",\"automargin\":true,\"zerolinewidth\":2},\"scene\":{\"xaxis\":{\"backgroundcolor\":\"#E5ECF6\",\"gridcolor\":\"white\",\"linecolor\":\"white\",\"showbackground\":true,\"ticks\":\"\",\"zerolinecolor\":\"white\",\"gridwidth\":2},\"yaxis\":{\"backgroundcolor\":\"#E5ECF6\",\"gridcolor\":\"white\",\"linecolor\":\"white\",\"showbackground\":true,\"ticks\":\"\",\"zerolinecolor\":\"white\",\"gridwidth\":2},\"zaxis\":{\"backgroundcolor\":\"#E5ECF6\",\"gridcolor\":\"white\",\"linecolor\":\"white\",\"showbackground\":true,\"ticks\":\"\",\"zerolinecolor\":\"white\",\"gridwidth\":2}},\"shapedefaults\":{\"line\":{\"color\":\"#2a3f5f\"}},\"annotationdefaults\":{\"arrowcolor\":\"#2a3f5f\",\"arrowhead\":0,\"arrowwidth\":1},\"geo\":{\"bgcolor\":\"white\",\"landcolor\":\"#E5ECF6\",\"subunitcolor\":\"white\",\"showland\":true,\"showlakes\":true,\"lakecolor\":\"white\"},\"title\":{\"x\":0.05},\"mapbox\":{\"style\":\"light\"}}},\"xaxis\":{\"anchor\":\"y\",\"domain\":[0.0,1.0],\"title\":{\"text\":\"County\"}},\"yaxis\":{\"anchor\":\"x\",\"domain\":[0.0,1.0],\"title\":{\"text\":\"Count\"}},\"legend\":{\"title\":{\"text\":\"Offense Description\"},\"tracegroupgap\":0},\"title\":{\"text\":\"NYPD Hate Crime\"}},                        {\"responsive\": true}                    ).then(function(){\n",
       "                            \n",
       "var gd = document.getElementById('78efbd24-68ae-44bf-9ebe-74a4ab5b60a7');\n",
       "var x = new MutationObserver(function (mutations, observer) {{\n",
       "        var display = window.getComputedStyle(gd).display;\n",
       "        if (!display || display === 'none') {{\n",
       "            console.log([gd, 'removed!']);\n",
       "            Plotly.purge(gd);\n",
       "            observer.disconnect();\n",
       "        }}\n",
       "}});\n",
       "\n",
       "// Listen for the removal of the full notebook cells\n",
       "var notebookContainer = gd.closest('#notebook-container');\n",
       "if (notebookContainer) {{\n",
       "    x.observe(notebookContainer, {childList: true});\n",
       "}}\n",
       "\n",
       "// Listen for the clearing of the current output cell\n",
       "var outputEl = gd.closest('.output');\n",
       "if (outputEl) {{\n",
       "    x.observe(outputEl, {childList: true});\n",
       "}}\n",
       "\n",
       "                        })                };                });            </script>        </div>"
      ]
     },
     "metadata": {},
     "output_type": "display_data"
    }
   ],
   "source": [
    "NYC_Hate_Crime = px.line(\n",
    "    hate_crime_combined,\n",
    "    x='County',\n",
    "    y='Count',\n",
    "    color='Offense Description',\n",
    "    title='NYPD Hate Crime',)\n",
    "NYC_Hate_Crime.show()"
   ]
  },
  {
   "cell_type": "markdown",
   "id": "26164325-ffa2-48ae-95ae-c4d19c35c250",
   "metadata": {},
   "source": [
    "# STEP 4: Merge The Data"
   ]
  },
  {
   "cell_type": "code",
   "execution_count": 43,
   "id": "53dd17c1-7688-44cd-ab45-1c343f8c6889",
   "metadata": {},
   "outputs": [
    {
     "data": {
      "text/html": [
       "<div>\n",
       "<style scoped>\n",
       "    .dataframe tbody tr th:only-of-type {\n",
       "        vertical-align: middle;\n",
       "    }\n",
       "\n",
       "    .dataframe tbody tr th {\n",
       "        vertical-align: top;\n",
       "    }\n",
       "\n",
       "    .dataframe thead th {\n",
       "        text-align: right;\n",
       "    }\n",
       "</style>\n",
       "<table border=\"1\" class=\"dataframe\">\n",
       "  <thead>\n",
       "    <tr style=\"text-align: right;\">\n",
       "      <th></th>\n",
       "      <th>County</th>\n",
       "      <th>2020</th>\n",
       "      <th>2000 - Boro share of NYC total</th>\n",
       "      <th>Offense Description</th>\n",
       "      <th>Count</th>\n",
       "      <th>Crime_Type_Proportion</th>\n",
       "    </tr>\n",
       "  </thead>\n",
       "  <tbody>\n",
       "    <tr>\n",
       "      <th>0</th>\n",
       "      <td>BRONX</td>\n",
       "      <td>1446.788</td>\n",
       "      <td>16.64</td>\n",
       "      <td>ASSAULT 3 &amp; RELATED OFFENSES</td>\n",
       "      <td>5</td>\n",
       "      <td>0.192308</td>\n",
       "    </tr>\n",
       "    <tr>\n",
       "      <th>1</th>\n",
       "      <td>BRONX</td>\n",
       "      <td>1446.788</td>\n",
       "      <td>16.64</td>\n",
       "      <td>CRIMINAL MISCHIEF &amp; RELATED OF</td>\n",
       "      <td>4</td>\n",
       "      <td>0.153846</td>\n",
       "    </tr>\n",
       "    <tr>\n",
       "      <th>2</th>\n",
       "      <td>BRONX</td>\n",
       "      <td>1446.788</td>\n",
       "      <td>16.64</td>\n",
       "      <td>FELONY ASSAULT</td>\n",
       "      <td>6</td>\n",
       "      <td>0.230769</td>\n",
       "    </tr>\n",
       "    <tr>\n",
       "      <th>3</th>\n",
       "      <td>BRONX</td>\n",
       "      <td>1446.788</td>\n",
       "      <td>16.64</td>\n",
       "      <td>MISCELLANEOUS PENAL LAW</td>\n",
       "      <td>8</td>\n",
       "      <td>0.307692</td>\n",
       "    </tr>\n",
       "    <tr>\n",
       "      <th>4</th>\n",
       "      <td>BRONX</td>\n",
       "      <td>1446.788</td>\n",
       "      <td>16.64</td>\n",
       "      <td>OFF. AGNST PUB ORD SENSBLTY &amp;</td>\n",
       "      <td>1</td>\n",
       "      <td>0.038462</td>\n",
       "    </tr>\n",
       "    <tr>\n",
       "      <th>5</th>\n",
       "      <td>BRONX</td>\n",
       "      <td>1446.788</td>\n",
       "      <td>16.64</td>\n",
       "      <td>ROBBERY</td>\n",
       "      <td>2</td>\n",
       "      <td>0.076923</td>\n",
       "    </tr>\n",
       "    <tr>\n",
       "      <th>6</th>\n",
       "      <td>KINGS</td>\n",
       "      <td>2648.452</td>\n",
       "      <td>30.78</td>\n",
       "      <td>ASSAULT 3 &amp; RELATED OFFENSES</td>\n",
       "      <td>19</td>\n",
       "      <td>0.180952</td>\n",
       "    </tr>\n",
       "    <tr>\n",
       "      <th>7</th>\n",
       "      <td>KINGS</td>\n",
       "      <td>2648.452</td>\n",
       "      <td>30.78</td>\n",
       "      <td>BURGLARY</td>\n",
       "      <td>4</td>\n",
       "      <td>0.038095</td>\n",
       "    </tr>\n",
       "    <tr>\n",
       "      <th>8</th>\n",
       "      <td>KINGS</td>\n",
       "      <td>2648.452</td>\n",
       "      <td>30.78</td>\n",
       "      <td>CRIMINAL MISCHIEF &amp; RELATED OF</td>\n",
       "      <td>18</td>\n",
       "      <td>0.171429</td>\n",
       "    </tr>\n",
       "    <tr>\n",
       "      <th>9</th>\n",
       "      <td>KINGS</td>\n",
       "      <td>2648.452</td>\n",
       "      <td>30.78</td>\n",
       "      <td>FELONY ASSAULT</td>\n",
       "      <td>10</td>\n",
       "      <td>0.095238</td>\n",
       "    </tr>\n",
       "    <tr>\n",
       "      <th>10</th>\n",
       "      <td>KINGS</td>\n",
       "      <td>2648.452</td>\n",
       "      <td>30.78</td>\n",
       "      <td>GRAND LARCENY</td>\n",
       "      <td>3</td>\n",
       "      <td>0.028571</td>\n",
       "    </tr>\n",
       "    <tr>\n",
       "      <th>11</th>\n",
       "      <td>KINGS</td>\n",
       "      <td>2648.452</td>\n",
       "      <td>30.78</td>\n",
       "      <td>MISCELLANEOUS PENAL LAW</td>\n",
       "      <td>34</td>\n",
       "      <td>0.323810</td>\n",
       "    </tr>\n",
       "    <tr>\n",
       "      <th>12</th>\n",
       "      <td>KINGS</td>\n",
       "      <td>2648.452</td>\n",
       "      <td>30.78</td>\n",
       "      <td>OFF. AGNST PUB ORD SENSBLTY &amp;</td>\n",
       "      <td>17</td>\n",
       "      <td>0.161905</td>\n",
       "    </tr>\n",
       "    <tr>\n",
       "      <th>13</th>\n",
       "      <td>NEW YORK</td>\n",
       "      <td>1638.281</td>\n",
       "      <td>19.20</td>\n",
       "      <td>ASSAULT 3 &amp; RELATED OFFENSES</td>\n",
       "      <td>10</td>\n",
       "      <td>0.116279</td>\n",
       "    </tr>\n",
       "    <tr>\n",
       "      <th>14</th>\n",
       "      <td>NEW YORK</td>\n",
       "      <td>1638.281</td>\n",
       "      <td>19.20</td>\n",
       "      <td>CRIMINAL MISCHIEF &amp; RELATED OF</td>\n",
       "      <td>27</td>\n",
       "      <td>0.313953</td>\n",
       "    </tr>\n",
       "    <tr>\n",
       "      <th>15</th>\n",
       "      <td>NEW YORK</td>\n",
       "      <td>1638.281</td>\n",
       "      <td>19.20</td>\n",
       "      <td>FELONY ASSAULT</td>\n",
       "      <td>6</td>\n",
       "      <td>0.069767</td>\n",
       "    </tr>\n",
       "    <tr>\n",
       "      <th>16</th>\n",
       "      <td>NEW YORK</td>\n",
       "      <td>1638.281</td>\n",
       "      <td>19.20</td>\n",
       "      <td>MISCELLANEOUS PENAL LAW</td>\n",
       "      <td>23</td>\n",
       "      <td>0.267442</td>\n",
       "    </tr>\n",
       "    <tr>\n",
       "      <th>17</th>\n",
       "      <td>NEW YORK</td>\n",
       "      <td>1638.281</td>\n",
       "      <td>19.20</td>\n",
       "      <td>OFF. AGNST PUB ORD SENSBLTY &amp;</td>\n",
       "      <td>12</td>\n",
       "      <td>0.139535</td>\n",
       "    </tr>\n",
       "    <tr>\n",
       "      <th>18</th>\n",
       "      <td>NEW YORK</td>\n",
       "      <td>1638.281</td>\n",
       "      <td>19.20</td>\n",
       "      <td>PETIT LARCENY</td>\n",
       "      <td>2</td>\n",
       "      <td>0.023256</td>\n",
       "    </tr>\n",
       "    <tr>\n",
       "      <th>19</th>\n",
       "      <td>NEW YORK</td>\n",
       "      <td>1638.281</td>\n",
       "      <td>19.20</td>\n",
       "      <td>ROBBERY</td>\n",
       "      <td>5</td>\n",
       "      <td>0.058140</td>\n",
       "    </tr>\n",
       "    <tr>\n",
       "      <th>20</th>\n",
       "      <td>NEW YORK</td>\n",
       "      <td>1638.281</td>\n",
       "      <td>19.20</td>\n",
       "      <td>SEX CRIMES</td>\n",
       "      <td>1</td>\n",
       "      <td>0.011628</td>\n",
       "    </tr>\n",
       "    <tr>\n",
       "      <th>21</th>\n",
       "      <td>QUEENS</td>\n",
       "      <td>2330.295</td>\n",
       "      <td>27.84</td>\n",
       "      <td>ASSAULT 3 &amp; RELATED OFFENSES</td>\n",
       "      <td>4</td>\n",
       "      <td>0.081633</td>\n",
       "    </tr>\n",
       "    <tr>\n",
       "      <th>22</th>\n",
       "      <td>QUEENS</td>\n",
       "      <td>2330.295</td>\n",
       "      <td>27.84</td>\n",
       "      <td>CRIMINAL MISCHIEF &amp; RELATED OF</td>\n",
       "      <td>18</td>\n",
       "      <td>0.367347</td>\n",
       "    </tr>\n",
       "    <tr>\n",
       "      <th>23</th>\n",
       "      <td>QUEENS</td>\n",
       "      <td>2330.295</td>\n",
       "      <td>27.84</td>\n",
       "      <td>FELONY ASSAULT</td>\n",
       "      <td>5</td>\n",
       "      <td>0.102041</td>\n",
       "    </tr>\n",
       "    <tr>\n",
       "      <th>24</th>\n",
       "      <td>QUEENS</td>\n",
       "      <td>2330.295</td>\n",
       "      <td>27.84</td>\n",
       "      <td>GRAND LARCENY</td>\n",
       "      <td>1</td>\n",
       "      <td>0.020408</td>\n",
       "    </tr>\n",
       "    <tr>\n",
       "      <th>25</th>\n",
       "      <td>QUEENS</td>\n",
       "      <td>2330.295</td>\n",
       "      <td>27.84</td>\n",
       "      <td>HARRASSMENT 2</td>\n",
       "      <td>3</td>\n",
       "      <td>0.061224</td>\n",
       "    </tr>\n",
       "    <tr>\n",
       "      <th>26</th>\n",
       "      <td>QUEENS</td>\n",
       "      <td>2330.295</td>\n",
       "      <td>27.84</td>\n",
       "      <td>MISCELLANEOUS PENAL LAW</td>\n",
       "      <td>13</td>\n",
       "      <td>0.265306</td>\n",
       "    </tr>\n",
       "    <tr>\n",
       "      <th>27</th>\n",
       "      <td>QUEENS</td>\n",
       "      <td>2330.295</td>\n",
       "      <td>27.84</td>\n",
       "      <td>MURDER &amp; NON-NEGL. MANSLAUGHTE</td>\n",
       "      <td>1</td>\n",
       "      <td>0.020408</td>\n",
       "    </tr>\n",
       "    <tr>\n",
       "      <th>28</th>\n",
       "      <td>QUEENS</td>\n",
       "      <td>2330.295</td>\n",
       "      <td>27.84</td>\n",
       "      <td>OFF. AGNST PUB ORD SENSBLTY &amp;</td>\n",
       "      <td>4</td>\n",
       "      <td>0.081633</td>\n",
       "    </tr>\n",
       "    <tr>\n",
       "      <th>29</th>\n",
       "      <td>RICHMOND</td>\n",
       "      <td>487.155</td>\n",
       "      <td>5.54</td>\n",
       "      <td>ASSAULT 3 &amp; RELATED OFFENSES</td>\n",
       "      <td>5</td>\n",
       "      <td>0.277778</td>\n",
       "    </tr>\n",
       "    <tr>\n",
       "      <th>30</th>\n",
       "      <td>RICHMOND</td>\n",
       "      <td>487.155</td>\n",
       "      <td>5.54</td>\n",
       "      <td>CRIMINAL MISCHIEF &amp; RELATED OF</td>\n",
       "      <td>6</td>\n",
       "      <td>0.333333</td>\n",
       "    </tr>\n",
       "    <tr>\n",
       "      <th>31</th>\n",
       "      <td>RICHMOND</td>\n",
       "      <td>487.155</td>\n",
       "      <td>5.54</td>\n",
       "      <td>MISCELLANEOUS PENAL LAW</td>\n",
       "      <td>5</td>\n",
       "      <td>0.277778</td>\n",
       "    </tr>\n",
       "    <tr>\n",
       "      <th>32</th>\n",
       "      <td>RICHMOND</td>\n",
       "      <td>487.155</td>\n",
       "      <td>5.54</td>\n",
       "      <td>OFF. AGNST PUB ORD SENSBLTY &amp;</td>\n",
       "      <td>1</td>\n",
       "      <td>0.055556</td>\n",
       "    </tr>\n",
       "    <tr>\n",
       "      <th>33</th>\n",
       "      <td>RICHMOND</td>\n",
       "      <td>487.155</td>\n",
       "      <td>5.54</td>\n",
       "      <td>ROBBERY</td>\n",
       "      <td>1</td>\n",
       "      <td>0.055556</td>\n",
       "    </tr>\n",
       "  </tbody>\n",
       "</table>\n",
       "</div>"
      ],
      "text/plain": [
       "      County      2020  2000 - Boro share of NYC total  \\\n",
       "0      BRONX  1446.788                           16.64   \n",
       "1      BRONX  1446.788                           16.64   \n",
       "2      BRONX  1446.788                           16.64   \n",
       "3      BRONX  1446.788                           16.64   \n",
       "4      BRONX  1446.788                           16.64   \n",
       "5      BRONX  1446.788                           16.64   \n",
       "6      KINGS  2648.452                           30.78   \n",
       "7      KINGS  2648.452                           30.78   \n",
       "8      KINGS  2648.452                           30.78   \n",
       "9      KINGS  2648.452                           30.78   \n",
       "10     KINGS  2648.452                           30.78   \n",
       "11     KINGS  2648.452                           30.78   \n",
       "12     KINGS  2648.452                           30.78   \n",
       "13  NEW YORK  1638.281                           19.20   \n",
       "14  NEW YORK  1638.281                           19.20   \n",
       "15  NEW YORK  1638.281                           19.20   \n",
       "16  NEW YORK  1638.281                           19.20   \n",
       "17  NEW YORK  1638.281                           19.20   \n",
       "18  NEW YORK  1638.281                           19.20   \n",
       "19  NEW YORK  1638.281                           19.20   \n",
       "20  NEW YORK  1638.281                           19.20   \n",
       "21    QUEENS  2330.295                           27.84   \n",
       "22    QUEENS  2330.295                           27.84   \n",
       "23    QUEENS  2330.295                           27.84   \n",
       "24    QUEENS  2330.295                           27.84   \n",
       "25    QUEENS  2330.295                           27.84   \n",
       "26    QUEENS  2330.295                           27.84   \n",
       "27    QUEENS  2330.295                           27.84   \n",
       "28    QUEENS  2330.295                           27.84   \n",
       "29  RICHMOND   487.155                            5.54   \n",
       "30  RICHMOND   487.155                            5.54   \n",
       "31  RICHMOND   487.155                            5.54   \n",
       "32  RICHMOND   487.155                            5.54   \n",
       "33  RICHMOND   487.155                            5.54   \n",
       "\n",
       "               Offense Description  Count  Crime_Type_Proportion  \n",
       "0     ASSAULT 3 & RELATED OFFENSES      5               0.192308  \n",
       "1   CRIMINAL MISCHIEF & RELATED OF      4               0.153846  \n",
       "2                   FELONY ASSAULT      6               0.230769  \n",
       "3          MISCELLANEOUS PENAL LAW      8               0.307692  \n",
       "4    OFF. AGNST PUB ORD SENSBLTY &      1               0.038462  \n",
       "5                          ROBBERY      2               0.076923  \n",
       "6     ASSAULT 3 & RELATED OFFENSES     19               0.180952  \n",
       "7                         BURGLARY      4               0.038095  \n",
       "8   CRIMINAL MISCHIEF & RELATED OF     18               0.171429  \n",
       "9                   FELONY ASSAULT     10               0.095238  \n",
       "10                   GRAND LARCENY      3               0.028571  \n",
       "11         MISCELLANEOUS PENAL LAW     34               0.323810  \n",
       "12   OFF. AGNST PUB ORD SENSBLTY &     17               0.161905  \n",
       "13    ASSAULT 3 & RELATED OFFENSES     10               0.116279  \n",
       "14  CRIMINAL MISCHIEF & RELATED OF     27               0.313953  \n",
       "15                  FELONY ASSAULT      6               0.069767  \n",
       "16         MISCELLANEOUS PENAL LAW     23               0.267442  \n",
       "17   OFF. AGNST PUB ORD SENSBLTY &     12               0.139535  \n",
       "18                   PETIT LARCENY      2               0.023256  \n",
       "19                         ROBBERY      5               0.058140  \n",
       "20                      SEX CRIMES      1               0.011628  \n",
       "21    ASSAULT 3 & RELATED OFFENSES      4               0.081633  \n",
       "22  CRIMINAL MISCHIEF & RELATED OF     18               0.367347  \n",
       "23                  FELONY ASSAULT      5               0.102041  \n",
       "24                   GRAND LARCENY      1               0.020408  \n",
       "25                   HARRASSMENT 2      3               0.061224  \n",
       "26         MISCELLANEOUS PENAL LAW     13               0.265306  \n",
       "27  MURDER & NON-NEGL. MANSLAUGHTE      1               0.020408  \n",
       "28   OFF. AGNST PUB ORD SENSBLTY &      4               0.081633  \n",
       "29    ASSAULT 3 & RELATED OFFENSES      5               0.277778  \n",
       "30  CRIMINAL MISCHIEF & RELATED OF      6               0.333333  \n",
       "31         MISCELLANEOUS PENAL LAW      5               0.277778  \n",
       "32   OFF. AGNST PUB ORD SENSBLTY &      1               0.055556  \n",
       "33                         ROBBERY      1               0.055556  "
      ]
     },
     "execution_count": 43,
     "metadata": {},
     "output_type": "execute_result"
    }
   ],
   "source": [
    "merge_data = pd.merge(population_2020, hate_crime_combined, on = 'County')\n",
    "merge_data"
   ]
  },
  {
   "cell_type": "code",
   "execution_count": 44,
   "id": "8bad7ac9-eabc-4f4b-827c-9501da548bc5",
   "metadata": {},
   "outputs": [
    {
     "data": {
      "text/html": [
       "<div>\n",
       "<style scoped>\n",
       "    .dataframe tbody tr th:only-of-type {\n",
       "        vertical-align: middle;\n",
       "    }\n",
       "\n",
       "    .dataframe tbody tr th {\n",
       "        vertical-align: top;\n",
       "    }\n",
       "\n",
       "    .dataframe thead th {\n",
       "        text-align: right;\n",
       "    }\n",
       "</style>\n",
       "<table border=\"1\" class=\"dataframe\">\n",
       "  <thead>\n",
       "    <tr style=\"text-align: right;\">\n",
       "      <th></th>\n",
       "      <th>County</th>\n",
       "      <th>2020</th>\n",
       "      <th>2000 - Boro share of NYC total</th>\n",
       "      <th>Offense Description</th>\n",
       "      <th>Count</th>\n",
       "      <th>Crime_Type_Proportion</th>\n",
       "      <th>Crime_proportion_%</th>\n",
       "      <th>Index</th>\n",
       "    </tr>\n",
       "  </thead>\n",
       "  <tbody>\n",
       "    <tr>\n",
       "      <th>0</th>\n",
       "      <td>BRONX</td>\n",
       "      <td>1446.788</td>\n",
       "      <td>16.64</td>\n",
       "      <td>ASSAULT 3 &amp; RELATED OFFENSES</td>\n",
       "      <td>5</td>\n",
       "      <td>0.192308</td>\n",
       "      <td>0.345593</td>\n",
       "      <td>BRONX_ASSAULT 3 &amp; RELATED OFFENSES</td>\n",
       "    </tr>\n",
       "    <tr>\n",
       "      <th>1</th>\n",
       "      <td>BRONX</td>\n",
       "      <td>1446.788</td>\n",
       "      <td>16.64</td>\n",
       "      <td>CRIMINAL MISCHIEF &amp; RELATED OF</td>\n",
       "      <td>4</td>\n",
       "      <td>0.153846</td>\n",
       "      <td>0.276475</td>\n",
       "      <td>BRONX_CRIMINAL MISCHIEF &amp; RELATED OF</td>\n",
       "    </tr>\n",
       "    <tr>\n",
       "      <th>2</th>\n",
       "      <td>BRONX</td>\n",
       "      <td>1446.788</td>\n",
       "      <td>16.64</td>\n",
       "      <td>FELONY ASSAULT</td>\n",
       "      <td>6</td>\n",
       "      <td>0.230769</td>\n",
       "      <td>0.414712</td>\n",
       "      <td>BRONX_FELONY ASSAULT</td>\n",
       "    </tr>\n",
       "    <tr>\n",
       "      <th>3</th>\n",
       "      <td>BRONX</td>\n",
       "      <td>1446.788</td>\n",
       "      <td>16.64</td>\n",
       "      <td>MISCELLANEOUS PENAL LAW</td>\n",
       "      <td>8</td>\n",
       "      <td>0.307692</td>\n",
       "      <td>0.552949</td>\n",
       "      <td>BRONX_MISCELLANEOUS PENAL LAW</td>\n",
       "    </tr>\n",
       "    <tr>\n",
       "      <th>4</th>\n",
       "      <td>BRONX</td>\n",
       "      <td>1446.788</td>\n",
       "      <td>16.64</td>\n",
       "      <td>OFF. AGNST PUB ORD SENSBLTY &amp;</td>\n",
       "      <td>1</td>\n",
       "      <td>0.038462</td>\n",
       "      <td>0.069119</td>\n",
       "      <td>BRONX_OFF. AGNST PUB ORD SENSBLTY &amp;</td>\n",
       "    </tr>\n",
       "    <tr>\n",
       "      <th>5</th>\n",
       "      <td>BRONX</td>\n",
       "      <td>1446.788</td>\n",
       "      <td>16.64</td>\n",
       "      <td>ROBBERY</td>\n",
       "      <td>2</td>\n",
       "      <td>0.076923</td>\n",
       "      <td>0.138237</td>\n",
       "      <td>BRONX_ROBBERY</td>\n",
       "    </tr>\n",
       "    <tr>\n",
       "      <th>6</th>\n",
       "      <td>KINGS</td>\n",
       "      <td>2648.452</td>\n",
       "      <td>30.78</td>\n",
       "      <td>ASSAULT 3 &amp; RELATED OFFENSES</td>\n",
       "      <td>19</td>\n",
       "      <td>0.180952</td>\n",
       "      <td>0.717400</td>\n",
       "      <td>KINGS_ASSAULT 3 &amp; RELATED OFFENSES</td>\n",
       "    </tr>\n",
       "    <tr>\n",
       "      <th>7</th>\n",
       "      <td>KINGS</td>\n",
       "      <td>2648.452</td>\n",
       "      <td>30.78</td>\n",
       "      <td>BURGLARY</td>\n",
       "      <td>4</td>\n",
       "      <td>0.038095</td>\n",
       "      <td>0.151032</td>\n",
       "      <td>KINGS_BURGLARY</td>\n",
       "    </tr>\n",
       "    <tr>\n",
       "      <th>8</th>\n",
       "      <td>KINGS</td>\n",
       "      <td>2648.452</td>\n",
       "      <td>30.78</td>\n",
       "      <td>CRIMINAL MISCHIEF &amp; RELATED OF</td>\n",
       "      <td>18</td>\n",
       "      <td>0.171429</td>\n",
       "      <td>0.679642</td>\n",
       "      <td>KINGS_CRIMINAL MISCHIEF &amp; RELATED OF</td>\n",
       "    </tr>\n",
       "    <tr>\n",
       "      <th>9</th>\n",
       "      <td>KINGS</td>\n",
       "      <td>2648.452</td>\n",
       "      <td>30.78</td>\n",
       "      <td>FELONY ASSAULT</td>\n",
       "      <td>10</td>\n",
       "      <td>0.095238</td>\n",
       "      <td>0.377579</td>\n",
       "      <td>KINGS_FELONY ASSAULT</td>\n",
       "    </tr>\n",
       "    <tr>\n",
       "      <th>10</th>\n",
       "      <td>KINGS</td>\n",
       "      <td>2648.452</td>\n",
       "      <td>30.78</td>\n",
       "      <td>GRAND LARCENY</td>\n",
       "      <td>3</td>\n",
       "      <td>0.028571</td>\n",
       "      <td>0.113274</td>\n",
       "      <td>KINGS_GRAND LARCENY</td>\n",
       "    </tr>\n",
       "    <tr>\n",
       "      <th>11</th>\n",
       "      <td>KINGS</td>\n",
       "      <td>2648.452</td>\n",
       "      <td>30.78</td>\n",
       "      <td>MISCELLANEOUS PENAL LAW</td>\n",
       "      <td>34</td>\n",
       "      <td>0.323810</td>\n",
       "      <td>1.283769</td>\n",
       "      <td>KINGS_MISCELLANEOUS PENAL LAW</td>\n",
       "    </tr>\n",
       "    <tr>\n",
       "      <th>12</th>\n",
       "      <td>KINGS</td>\n",
       "      <td>2648.452</td>\n",
       "      <td>30.78</td>\n",
       "      <td>OFF. AGNST PUB ORD SENSBLTY &amp;</td>\n",
       "      <td>17</td>\n",
       "      <td>0.161905</td>\n",
       "      <td>0.641884</td>\n",
       "      <td>KINGS_OFF. AGNST PUB ORD SENSBLTY &amp;</td>\n",
       "    </tr>\n",
       "    <tr>\n",
       "      <th>13</th>\n",
       "      <td>NEW YORK</td>\n",
       "      <td>1638.281</td>\n",
       "      <td>19.20</td>\n",
       "      <td>ASSAULT 3 &amp; RELATED OFFENSES</td>\n",
       "      <td>10</td>\n",
       "      <td>0.116279</td>\n",
       "      <td>0.610396</td>\n",
       "      <td>NEW YORK_ASSAULT 3 &amp; RELATED OFFENSES</td>\n",
       "    </tr>\n",
       "    <tr>\n",
       "      <th>14</th>\n",
       "      <td>NEW YORK</td>\n",
       "      <td>1638.281</td>\n",
       "      <td>19.20</td>\n",
       "      <td>CRIMINAL MISCHIEF &amp; RELATED OF</td>\n",
       "      <td>27</td>\n",
       "      <td>0.313953</td>\n",
       "      <td>1.648069</td>\n",
       "      <td>NEW YORK_CRIMINAL MISCHIEF &amp; RELATED OF</td>\n",
       "    </tr>\n",
       "    <tr>\n",
       "      <th>15</th>\n",
       "      <td>NEW YORK</td>\n",
       "      <td>1638.281</td>\n",
       "      <td>19.20</td>\n",
       "      <td>FELONY ASSAULT</td>\n",
       "      <td>6</td>\n",
       "      <td>0.069767</td>\n",
       "      <td>0.366238</td>\n",
       "      <td>NEW YORK_FELONY ASSAULT</td>\n",
       "    </tr>\n",
       "    <tr>\n",
       "      <th>16</th>\n",
       "      <td>NEW YORK</td>\n",
       "      <td>1638.281</td>\n",
       "      <td>19.20</td>\n",
       "      <td>MISCELLANEOUS PENAL LAW</td>\n",
       "      <td>23</td>\n",
       "      <td>0.267442</td>\n",
       "      <td>1.403911</td>\n",
       "      <td>NEW YORK_MISCELLANEOUS PENAL LAW</td>\n",
       "    </tr>\n",
       "    <tr>\n",
       "      <th>17</th>\n",
       "      <td>NEW YORK</td>\n",
       "      <td>1638.281</td>\n",
       "      <td>19.20</td>\n",
       "      <td>OFF. AGNST PUB ORD SENSBLTY &amp;</td>\n",
       "      <td>12</td>\n",
       "      <td>0.139535</td>\n",
       "      <td>0.732475</td>\n",
       "      <td>NEW YORK_OFF. AGNST PUB ORD SENSBLTY &amp;</td>\n",
       "    </tr>\n",
       "    <tr>\n",
       "      <th>18</th>\n",
       "      <td>NEW YORK</td>\n",
       "      <td>1638.281</td>\n",
       "      <td>19.20</td>\n",
       "      <td>PETIT LARCENY</td>\n",
       "      <td>2</td>\n",
       "      <td>0.023256</td>\n",
       "      <td>0.122079</td>\n",
       "      <td>NEW YORK_PETIT LARCENY</td>\n",
       "    </tr>\n",
       "    <tr>\n",
       "      <th>19</th>\n",
       "      <td>NEW YORK</td>\n",
       "      <td>1638.281</td>\n",
       "      <td>19.20</td>\n",
       "      <td>ROBBERY</td>\n",
       "      <td>5</td>\n",
       "      <td>0.058140</td>\n",
       "      <td>0.305198</td>\n",
       "      <td>NEW YORK_ROBBERY</td>\n",
       "    </tr>\n",
       "    <tr>\n",
       "      <th>20</th>\n",
       "      <td>NEW YORK</td>\n",
       "      <td>1638.281</td>\n",
       "      <td>19.20</td>\n",
       "      <td>SEX CRIMES</td>\n",
       "      <td>1</td>\n",
       "      <td>0.011628</td>\n",
       "      <td>0.061040</td>\n",
       "      <td>NEW YORK_SEX CRIMES</td>\n",
       "    </tr>\n",
       "    <tr>\n",
       "      <th>21</th>\n",
       "      <td>QUEENS</td>\n",
       "      <td>2330.295</td>\n",
       "      <td>27.84</td>\n",
       "      <td>ASSAULT 3 &amp; RELATED OFFENSES</td>\n",
       "      <td>4</td>\n",
       "      <td>0.081633</td>\n",
       "      <td>0.171652</td>\n",
       "      <td>QUEENS_ASSAULT 3 &amp; RELATED OFFENSES</td>\n",
       "    </tr>\n",
       "    <tr>\n",
       "      <th>22</th>\n",
       "      <td>QUEENS</td>\n",
       "      <td>2330.295</td>\n",
       "      <td>27.84</td>\n",
       "      <td>CRIMINAL MISCHIEF &amp; RELATED OF</td>\n",
       "      <td>18</td>\n",
       "      <td>0.367347</td>\n",
       "      <td>0.772434</td>\n",
       "      <td>QUEENS_CRIMINAL MISCHIEF &amp; RELATED OF</td>\n",
       "    </tr>\n",
       "    <tr>\n",
       "      <th>23</th>\n",
       "      <td>QUEENS</td>\n",
       "      <td>2330.295</td>\n",
       "      <td>27.84</td>\n",
       "      <td>FELONY ASSAULT</td>\n",
       "      <td>5</td>\n",
       "      <td>0.102041</td>\n",
       "      <td>0.214565</td>\n",
       "      <td>QUEENS_FELONY ASSAULT</td>\n",
       "    </tr>\n",
       "    <tr>\n",
       "      <th>24</th>\n",
       "      <td>QUEENS</td>\n",
       "      <td>2330.295</td>\n",
       "      <td>27.84</td>\n",
       "      <td>GRAND LARCENY</td>\n",
       "      <td>1</td>\n",
       "      <td>0.020408</td>\n",
       "      <td>0.042913</td>\n",
       "      <td>QUEENS_GRAND LARCENY</td>\n",
       "    </tr>\n",
       "    <tr>\n",
       "      <th>25</th>\n",
       "      <td>QUEENS</td>\n",
       "      <td>2330.295</td>\n",
       "      <td>27.84</td>\n",
       "      <td>HARRASSMENT 2</td>\n",
       "      <td>3</td>\n",
       "      <td>0.061224</td>\n",
       "      <td>0.128739</td>\n",
       "      <td>QUEENS_HARRASSMENT 2</td>\n",
       "    </tr>\n",
       "    <tr>\n",
       "      <th>26</th>\n",
       "      <td>QUEENS</td>\n",
       "      <td>2330.295</td>\n",
       "      <td>27.84</td>\n",
       "      <td>MISCELLANEOUS PENAL LAW</td>\n",
       "      <td>13</td>\n",
       "      <td>0.265306</td>\n",
       "      <td>0.557869</td>\n",
       "      <td>QUEENS_MISCELLANEOUS PENAL LAW</td>\n",
       "    </tr>\n",
       "    <tr>\n",
       "      <th>27</th>\n",
       "      <td>QUEENS</td>\n",
       "      <td>2330.295</td>\n",
       "      <td>27.84</td>\n",
       "      <td>MURDER &amp; NON-NEGL. MANSLAUGHTE</td>\n",
       "      <td>1</td>\n",
       "      <td>0.020408</td>\n",
       "      <td>0.042913</td>\n",
       "      <td>QUEENS_MURDER &amp; NON-NEGL. MANSLAUGHTE</td>\n",
       "    </tr>\n",
       "    <tr>\n",
       "      <th>28</th>\n",
       "      <td>QUEENS</td>\n",
       "      <td>2330.295</td>\n",
       "      <td>27.84</td>\n",
       "      <td>OFF. AGNST PUB ORD SENSBLTY &amp;</td>\n",
       "      <td>4</td>\n",
       "      <td>0.081633</td>\n",
       "      <td>0.171652</td>\n",
       "      <td>QUEENS_OFF. AGNST PUB ORD SENSBLTY &amp;</td>\n",
       "    </tr>\n",
       "    <tr>\n",
       "      <th>29</th>\n",
       "      <td>RICHMOND</td>\n",
       "      <td>487.155</td>\n",
       "      <td>5.54</td>\n",
       "      <td>ASSAULT 3 &amp; RELATED OFFENSES</td>\n",
       "      <td>5</td>\n",
       "      <td>0.277778</td>\n",
       "      <td>1.026367</td>\n",
       "      <td>RICHMOND_ASSAULT 3 &amp; RELATED OFFENSES</td>\n",
       "    </tr>\n",
       "    <tr>\n",
       "      <th>30</th>\n",
       "      <td>RICHMOND</td>\n",
       "      <td>487.155</td>\n",
       "      <td>5.54</td>\n",
       "      <td>CRIMINAL MISCHIEF &amp; RELATED OF</td>\n",
       "      <td>6</td>\n",
       "      <td>0.333333</td>\n",
       "      <td>1.231641</td>\n",
       "      <td>RICHMOND_CRIMINAL MISCHIEF &amp; RELATED OF</td>\n",
       "    </tr>\n",
       "    <tr>\n",
       "      <th>31</th>\n",
       "      <td>RICHMOND</td>\n",
       "      <td>487.155</td>\n",
       "      <td>5.54</td>\n",
       "      <td>MISCELLANEOUS PENAL LAW</td>\n",
       "      <td>5</td>\n",
       "      <td>0.277778</td>\n",
       "      <td>1.026367</td>\n",
       "      <td>RICHMOND_MISCELLANEOUS PENAL LAW</td>\n",
       "    </tr>\n",
       "    <tr>\n",
       "      <th>32</th>\n",
       "      <td>RICHMOND</td>\n",
       "      <td>487.155</td>\n",
       "      <td>5.54</td>\n",
       "      <td>OFF. AGNST PUB ORD SENSBLTY &amp;</td>\n",
       "      <td>1</td>\n",
       "      <td>0.055556</td>\n",
       "      <td>0.205273</td>\n",
       "      <td>RICHMOND_OFF. AGNST PUB ORD SENSBLTY &amp;</td>\n",
       "    </tr>\n",
       "    <tr>\n",
       "      <th>33</th>\n",
       "      <td>RICHMOND</td>\n",
       "      <td>487.155</td>\n",
       "      <td>5.54</td>\n",
       "      <td>ROBBERY</td>\n",
       "      <td>1</td>\n",
       "      <td>0.055556</td>\n",
       "      <td>0.205273</td>\n",
       "      <td>RICHMOND_ROBBERY</td>\n",
       "    </tr>\n",
       "  </tbody>\n",
       "</table>\n",
       "</div>"
      ],
      "text/plain": [
       "      County      2020  2000 - Boro share of NYC total  \\\n",
       "0      BRONX  1446.788                           16.64   \n",
       "1      BRONX  1446.788                           16.64   \n",
       "2      BRONX  1446.788                           16.64   \n",
       "3      BRONX  1446.788                           16.64   \n",
       "4      BRONX  1446.788                           16.64   \n",
       "5      BRONX  1446.788                           16.64   \n",
       "6      KINGS  2648.452                           30.78   \n",
       "7      KINGS  2648.452                           30.78   \n",
       "8      KINGS  2648.452                           30.78   \n",
       "9      KINGS  2648.452                           30.78   \n",
       "10     KINGS  2648.452                           30.78   \n",
       "11     KINGS  2648.452                           30.78   \n",
       "12     KINGS  2648.452                           30.78   \n",
       "13  NEW YORK  1638.281                           19.20   \n",
       "14  NEW YORK  1638.281                           19.20   \n",
       "15  NEW YORK  1638.281                           19.20   \n",
       "16  NEW YORK  1638.281                           19.20   \n",
       "17  NEW YORK  1638.281                           19.20   \n",
       "18  NEW YORK  1638.281                           19.20   \n",
       "19  NEW YORK  1638.281                           19.20   \n",
       "20  NEW YORK  1638.281                           19.20   \n",
       "21    QUEENS  2330.295                           27.84   \n",
       "22    QUEENS  2330.295                           27.84   \n",
       "23    QUEENS  2330.295                           27.84   \n",
       "24    QUEENS  2330.295                           27.84   \n",
       "25    QUEENS  2330.295                           27.84   \n",
       "26    QUEENS  2330.295                           27.84   \n",
       "27    QUEENS  2330.295                           27.84   \n",
       "28    QUEENS  2330.295                           27.84   \n",
       "29  RICHMOND   487.155                            5.54   \n",
       "30  RICHMOND   487.155                            5.54   \n",
       "31  RICHMOND   487.155                            5.54   \n",
       "32  RICHMOND   487.155                            5.54   \n",
       "33  RICHMOND   487.155                            5.54   \n",
       "\n",
       "               Offense Description  Count  Crime_Type_Proportion  \\\n",
       "0     ASSAULT 3 & RELATED OFFENSES      5               0.192308   \n",
       "1   CRIMINAL MISCHIEF & RELATED OF      4               0.153846   \n",
       "2                   FELONY ASSAULT      6               0.230769   \n",
       "3          MISCELLANEOUS PENAL LAW      8               0.307692   \n",
       "4    OFF. AGNST PUB ORD SENSBLTY &      1               0.038462   \n",
       "5                          ROBBERY      2               0.076923   \n",
       "6     ASSAULT 3 & RELATED OFFENSES     19               0.180952   \n",
       "7                         BURGLARY      4               0.038095   \n",
       "8   CRIMINAL MISCHIEF & RELATED OF     18               0.171429   \n",
       "9                   FELONY ASSAULT     10               0.095238   \n",
       "10                   GRAND LARCENY      3               0.028571   \n",
       "11         MISCELLANEOUS PENAL LAW     34               0.323810   \n",
       "12   OFF. AGNST PUB ORD SENSBLTY &     17               0.161905   \n",
       "13    ASSAULT 3 & RELATED OFFENSES     10               0.116279   \n",
       "14  CRIMINAL MISCHIEF & RELATED OF     27               0.313953   \n",
       "15                  FELONY ASSAULT      6               0.069767   \n",
       "16         MISCELLANEOUS PENAL LAW     23               0.267442   \n",
       "17   OFF. AGNST PUB ORD SENSBLTY &     12               0.139535   \n",
       "18                   PETIT LARCENY      2               0.023256   \n",
       "19                         ROBBERY      5               0.058140   \n",
       "20                      SEX CRIMES      1               0.011628   \n",
       "21    ASSAULT 3 & RELATED OFFENSES      4               0.081633   \n",
       "22  CRIMINAL MISCHIEF & RELATED OF     18               0.367347   \n",
       "23                  FELONY ASSAULT      5               0.102041   \n",
       "24                   GRAND LARCENY      1               0.020408   \n",
       "25                   HARRASSMENT 2      3               0.061224   \n",
       "26         MISCELLANEOUS PENAL LAW     13               0.265306   \n",
       "27  MURDER & NON-NEGL. MANSLAUGHTE      1               0.020408   \n",
       "28   OFF. AGNST PUB ORD SENSBLTY &      4               0.081633   \n",
       "29    ASSAULT 3 & RELATED OFFENSES      5               0.277778   \n",
       "30  CRIMINAL MISCHIEF & RELATED OF      6               0.333333   \n",
       "31         MISCELLANEOUS PENAL LAW      5               0.277778   \n",
       "32   OFF. AGNST PUB ORD SENSBLTY &      1               0.055556   \n",
       "33                         ROBBERY      1               0.055556   \n",
       "\n",
       "    Crime_proportion_%                                    Index  \n",
       "0             0.345593       BRONX_ASSAULT 3 & RELATED OFFENSES  \n",
       "1             0.276475     BRONX_CRIMINAL MISCHIEF & RELATED OF  \n",
       "2             0.414712                     BRONX_FELONY ASSAULT  \n",
       "3             0.552949            BRONX_MISCELLANEOUS PENAL LAW  \n",
       "4             0.069119      BRONX_OFF. AGNST PUB ORD SENSBLTY &  \n",
       "5             0.138237                            BRONX_ROBBERY  \n",
       "6             0.717400       KINGS_ASSAULT 3 & RELATED OFFENSES  \n",
       "7             0.151032                           KINGS_BURGLARY  \n",
       "8             0.679642     KINGS_CRIMINAL MISCHIEF & RELATED OF  \n",
       "9             0.377579                     KINGS_FELONY ASSAULT  \n",
       "10            0.113274                      KINGS_GRAND LARCENY  \n",
       "11            1.283769            KINGS_MISCELLANEOUS PENAL LAW  \n",
       "12            0.641884      KINGS_OFF. AGNST PUB ORD SENSBLTY &  \n",
       "13            0.610396    NEW YORK_ASSAULT 3 & RELATED OFFENSES  \n",
       "14            1.648069  NEW YORK_CRIMINAL MISCHIEF & RELATED OF  \n",
       "15            0.366238                  NEW YORK_FELONY ASSAULT  \n",
       "16            1.403911         NEW YORK_MISCELLANEOUS PENAL LAW  \n",
       "17            0.732475   NEW YORK_OFF. AGNST PUB ORD SENSBLTY &  \n",
       "18            0.122079                   NEW YORK_PETIT LARCENY  \n",
       "19            0.305198                         NEW YORK_ROBBERY  \n",
       "20            0.061040                      NEW YORK_SEX CRIMES  \n",
       "21            0.171652      QUEENS_ASSAULT 3 & RELATED OFFENSES  \n",
       "22            0.772434    QUEENS_CRIMINAL MISCHIEF & RELATED OF  \n",
       "23            0.214565                    QUEENS_FELONY ASSAULT  \n",
       "24            0.042913                     QUEENS_GRAND LARCENY  \n",
       "25            0.128739                     QUEENS_HARRASSMENT 2  \n",
       "26            0.557869           QUEENS_MISCELLANEOUS PENAL LAW  \n",
       "27            0.042913    QUEENS_MURDER & NON-NEGL. MANSLAUGHTE  \n",
       "28            0.171652     QUEENS_OFF. AGNST PUB ORD SENSBLTY &  \n",
       "29            1.026367    RICHMOND_ASSAULT 3 & RELATED OFFENSES  \n",
       "30            1.231641  RICHMOND_CRIMINAL MISCHIEF & RELATED OF  \n",
       "31            1.026367         RICHMOND_MISCELLANEOUS PENAL LAW  \n",
       "32            0.205273   RICHMOND_OFF. AGNST PUB ORD SENSBLTY &  \n",
       "33            0.205273                         RICHMOND_ROBBERY  "
      ]
     },
     "execution_count": 44,
     "metadata": {},
     "output_type": "execute_result"
    }
   ],
   "source": [
    "merge_data['Crime_proportion_%']=merge_data['Count']*100/(merge_data['2020'])\n",
    "merge_data['Index']=merge_data['County']+'_'+merge_data['Offense Description']\n",
    "merge_data"
   ]
  },
  {
   "cell_type": "code",
   "execution_count": 45,
   "id": "bb974d1d-98a4-4c1f-b723-5b96e62a3da7",
   "metadata": {},
   "outputs": [],
   "source": [
    "# Melt the dataset to combine 'Crime_Type_Proportion' and 'Crime_proportion_%' into a single column\n",
    "melted_data = merge_data.melt(\n",
    "    id_vars=['Index'],  # Use 'Index' as the identifier\n",
    "    value_vars=['Crime_Type_Proportion', 'Crime_proportion_%'],  # Columns to melt\n",
    "    var_name='Proportion_Type',  # New column name for the melted columns\n",
    "    value_name='Value')  # New column name for the values\n"
   ]
  },
  {
   "cell_type": "code",
   "execution_count": 46,
   "id": "43b326c4-893f-44b5-9acc-9f9b2e4ccb14",
   "metadata": {},
   "outputs": [
    {
     "data": {
      "application/vnd.plotly.v1+json": {
       "config": {
        "plotlyServerURL": "https://plot.ly"
       },
       "data": [
        {
         "hovertemplate": "Proportion Type=Crime_Type_Proportion<br>County + Offense Description=%{x}<br>Proportion (%)=%{y}<extra></extra>",
         "legendgroup": "Crime_Type_Proportion",
         "line": {
          "color": "#636efa",
          "dash": "solid"
         },
         "marker": {
          "symbol": "circle"
         },
         "mode": "lines",
         "name": "Crime_Type_Proportion",
         "orientation": "v",
         "showlegend": true,
         "type": "scatter",
         "x": [
          "BRONX_ASSAULT 3 & RELATED OFFENSES",
          "BRONX_CRIMINAL MISCHIEF & RELATED OF",
          "BRONX_FELONY ASSAULT",
          "BRONX_MISCELLANEOUS PENAL LAW",
          "BRONX_OFF. AGNST PUB ORD SENSBLTY &",
          "BRONX_ROBBERY",
          "KINGS_ASSAULT 3 & RELATED OFFENSES",
          "KINGS_BURGLARY",
          "KINGS_CRIMINAL MISCHIEF & RELATED OF",
          "KINGS_FELONY ASSAULT",
          "KINGS_GRAND LARCENY",
          "KINGS_MISCELLANEOUS PENAL LAW",
          "KINGS_OFF. AGNST PUB ORD SENSBLTY &",
          "NEW YORK_ASSAULT 3 & RELATED OFFENSES",
          "NEW YORK_CRIMINAL MISCHIEF & RELATED OF",
          "NEW YORK_FELONY ASSAULT",
          "NEW YORK_MISCELLANEOUS PENAL LAW",
          "NEW YORK_OFF. AGNST PUB ORD SENSBLTY &",
          "NEW YORK_PETIT LARCENY",
          "NEW YORK_ROBBERY",
          "NEW YORK_SEX CRIMES",
          "QUEENS_ASSAULT 3 & RELATED OFFENSES",
          "QUEENS_CRIMINAL MISCHIEF & RELATED OF",
          "QUEENS_FELONY ASSAULT",
          "QUEENS_GRAND LARCENY",
          "QUEENS_HARRASSMENT 2",
          "QUEENS_MISCELLANEOUS PENAL LAW",
          "QUEENS_MURDER & NON-NEGL. MANSLAUGHTE",
          "QUEENS_OFF. AGNST PUB ORD SENSBLTY &",
          "RICHMOND_ASSAULT 3 & RELATED OFFENSES",
          "RICHMOND_CRIMINAL MISCHIEF & RELATED OF",
          "RICHMOND_MISCELLANEOUS PENAL LAW",
          "RICHMOND_OFF. AGNST PUB ORD SENSBLTY &",
          "RICHMOND_ROBBERY"
         ],
         "xaxis": "x",
         "y": [
          0.19230769230769232,
          0.15384615384615385,
          0.23076923076923078,
          0.3076923076923077,
          0.038461538461538464,
          0.07692307692307693,
          0.18095238095238095,
          0.0380952380952381,
          0.17142857142857143,
          0.09523809523809523,
          0.02857142857142857,
          0.3238095238095238,
          0.1619047619047619,
          0.11627906976744186,
          0.313953488372093,
          0.06976744186046512,
          0.26744186046511625,
          0.13953488372093023,
          0.023255813953488372,
          0.05813953488372093,
          0.011627906976744186,
          0.08163265306122448,
          0.3673469387755102,
          0.10204081632653061,
          0.02040816326530612,
          0.061224489795918366,
          0.2653061224489796,
          0.02040816326530612,
          0.08163265306122448,
          0.2777777777777778,
          0.3333333333333333,
          0.2777777777777778,
          0.05555555555555555,
          0.05555555555555555
         ],
         "yaxis": "y"
        },
        {
         "hovertemplate": "Proportion Type=Crime_proportion_%<br>County + Offense Description=%{x}<br>Proportion (%)=%{y}<extra></extra>",
         "legendgroup": "Crime_proportion_%",
         "line": {
          "color": "#EF553B",
          "dash": "solid"
         },
         "marker": {
          "symbol": "circle"
         },
         "mode": "lines",
         "name": "Crime_proportion_%",
         "orientation": "v",
         "showlegend": true,
         "type": "scatter",
         "x": [
          "BRONX_ASSAULT 3 & RELATED OFFENSES",
          "BRONX_CRIMINAL MISCHIEF & RELATED OF",
          "BRONX_FELONY ASSAULT",
          "BRONX_MISCELLANEOUS PENAL LAW",
          "BRONX_OFF. AGNST PUB ORD SENSBLTY &",
          "BRONX_ROBBERY",
          "KINGS_ASSAULT 3 & RELATED OFFENSES",
          "KINGS_BURGLARY",
          "KINGS_CRIMINAL MISCHIEF & RELATED OF",
          "KINGS_FELONY ASSAULT",
          "KINGS_GRAND LARCENY",
          "KINGS_MISCELLANEOUS PENAL LAW",
          "KINGS_OFF. AGNST PUB ORD SENSBLTY &",
          "NEW YORK_ASSAULT 3 & RELATED OFFENSES",
          "NEW YORK_CRIMINAL MISCHIEF & RELATED OF",
          "NEW YORK_FELONY ASSAULT",
          "NEW YORK_MISCELLANEOUS PENAL LAW",
          "NEW YORK_OFF. AGNST PUB ORD SENSBLTY &",
          "NEW YORK_PETIT LARCENY",
          "NEW YORK_ROBBERY",
          "NEW YORK_SEX CRIMES",
          "QUEENS_ASSAULT 3 & RELATED OFFENSES",
          "QUEENS_CRIMINAL MISCHIEF & RELATED OF",
          "QUEENS_FELONY ASSAULT",
          "QUEENS_GRAND LARCENY",
          "QUEENS_HARRASSMENT 2",
          "QUEENS_MISCELLANEOUS PENAL LAW",
          "QUEENS_MURDER & NON-NEGL. MANSLAUGHTE",
          "QUEENS_OFF. AGNST PUB ORD SENSBLTY &",
          "RICHMOND_ASSAULT 3 & RELATED OFFENSES",
          "RICHMOND_CRIMINAL MISCHIEF & RELATED OF",
          "RICHMOND_MISCELLANEOUS PENAL LAW",
          "RICHMOND_OFF. AGNST PUB ORD SENSBLTY &",
          "RICHMOND_ROBBERY"
         ],
         "xaxis": "x",
         "y": [
          0.3455931345850256,
          0.27647450766802045,
          0.4147117615020307,
          0.5529490153360409,
          0.06911862691700511,
          0.13823725383401023,
          0.7174002020803095,
          0.15103162149059146,
          0.6796422967076616,
          0.3775790537264787,
          0.11327371611794361,
          1.2837687826700275,
          0.6418843913350137,
          0.6103958966746242,
          1.6480689210214854,
          0.36623753800477454,
          1.4039105623516357,
          0.7324750760095491,
          0.12207917933492485,
          0.3051979483373121,
          0.061039589667462424,
          0.17165208696752984,
          0.7724343913538844,
          0.2145651087094123,
          0.04291302174188246,
          0.1287390652256474,
          0.557869282644472,
          0.04291302174188246,
          0.17165208696752984,
          1.0263673779392597,
          1.2316408535271115,
          1.0263673779392597,
          0.20527347558785192,
          0.20527347558785192
         ],
         "yaxis": "y"
        }
       ],
       "layout": {
        "autosize": true,
        "legend": {
         "title": {
          "text": "Proportion Type"
         },
         "tracegroupgap": 0
        },
        "template": {
         "data": {
          "bar": [
           {
            "error_x": {
             "color": "#2a3f5f"
            },
            "error_y": {
             "color": "#2a3f5f"
            },
            "marker": {
             "line": {
              "color": "#E5ECF6",
              "width": 0.5
             },
             "pattern": {
              "fillmode": "overlay",
              "size": 10,
              "solidity": 0.2
             }
            },
            "type": "bar"
           }
          ],
          "barpolar": [
           {
            "marker": {
             "line": {
              "color": "#E5ECF6",
              "width": 0.5
             },
             "pattern": {
              "fillmode": "overlay",
              "size": 10,
              "solidity": 0.2
             }
            },
            "type": "barpolar"
           }
          ],
          "carpet": [
           {
            "aaxis": {
             "endlinecolor": "#2a3f5f",
             "gridcolor": "white",
             "linecolor": "white",
             "minorgridcolor": "white",
             "startlinecolor": "#2a3f5f"
            },
            "baxis": {
             "endlinecolor": "#2a3f5f",
             "gridcolor": "white",
             "linecolor": "white",
             "minorgridcolor": "white",
             "startlinecolor": "#2a3f5f"
            },
            "type": "carpet"
           }
          ],
          "choropleth": [
           {
            "colorbar": {
             "outlinewidth": 0,
             "ticks": ""
            },
            "type": "choropleth"
           }
          ],
          "contour": [
           {
            "colorbar": {
             "outlinewidth": 0,
             "ticks": ""
            },
            "colorscale": [
             [
              0,
              "#0d0887"
             ],
             [
              0.1111111111111111,
              "#46039f"
             ],
             [
              0.2222222222222222,
              "#7201a8"
             ],
             [
              0.3333333333333333,
              "#9c179e"
             ],
             [
              0.4444444444444444,
              "#bd3786"
             ],
             [
              0.5555555555555556,
              "#d8576b"
             ],
             [
              0.6666666666666666,
              "#ed7953"
             ],
             [
              0.7777777777777778,
              "#fb9f3a"
             ],
             [
              0.8888888888888888,
              "#fdca26"
             ],
             [
              1,
              "#f0f921"
             ]
            ],
            "type": "contour"
           }
          ],
          "contourcarpet": [
           {
            "colorbar": {
             "outlinewidth": 0,
             "ticks": ""
            },
            "type": "contourcarpet"
           }
          ],
          "heatmap": [
           {
            "colorbar": {
             "outlinewidth": 0,
             "ticks": ""
            },
            "colorscale": [
             [
              0,
              "#0d0887"
             ],
             [
              0.1111111111111111,
              "#46039f"
             ],
             [
              0.2222222222222222,
              "#7201a8"
             ],
             [
              0.3333333333333333,
              "#9c179e"
             ],
             [
              0.4444444444444444,
              "#bd3786"
             ],
             [
              0.5555555555555556,
              "#d8576b"
             ],
             [
              0.6666666666666666,
              "#ed7953"
             ],
             [
              0.7777777777777778,
              "#fb9f3a"
             ],
             [
              0.8888888888888888,
              "#fdca26"
             ],
             [
              1,
              "#f0f921"
             ]
            ],
            "type": "heatmap"
           }
          ],
          "heatmapgl": [
           {
            "colorbar": {
             "outlinewidth": 0,
             "ticks": ""
            },
            "colorscale": [
             [
              0,
              "#0d0887"
             ],
             [
              0.1111111111111111,
              "#46039f"
             ],
             [
              0.2222222222222222,
              "#7201a8"
             ],
             [
              0.3333333333333333,
              "#9c179e"
             ],
             [
              0.4444444444444444,
              "#bd3786"
             ],
             [
              0.5555555555555556,
              "#d8576b"
             ],
             [
              0.6666666666666666,
              "#ed7953"
             ],
             [
              0.7777777777777778,
              "#fb9f3a"
             ],
             [
              0.8888888888888888,
              "#fdca26"
             ],
             [
              1,
              "#f0f921"
             ]
            ],
            "type": "heatmapgl"
           }
          ],
          "histogram": [
           {
            "marker": {
             "pattern": {
              "fillmode": "overlay",
              "size": 10,
              "solidity": 0.2
             }
            },
            "type": "histogram"
           }
          ],
          "histogram2d": [
           {
            "colorbar": {
             "outlinewidth": 0,
             "ticks": ""
            },
            "colorscale": [
             [
              0,
              "#0d0887"
             ],
             [
              0.1111111111111111,
              "#46039f"
             ],
             [
              0.2222222222222222,
              "#7201a8"
             ],
             [
              0.3333333333333333,
              "#9c179e"
             ],
             [
              0.4444444444444444,
              "#bd3786"
             ],
             [
              0.5555555555555556,
              "#d8576b"
             ],
             [
              0.6666666666666666,
              "#ed7953"
             ],
             [
              0.7777777777777778,
              "#fb9f3a"
             ],
             [
              0.8888888888888888,
              "#fdca26"
             ],
             [
              1,
              "#f0f921"
             ]
            ],
            "type": "histogram2d"
           }
          ],
          "histogram2dcontour": [
           {
            "colorbar": {
             "outlinewidth": 0,
             "ticks": ""
            },
            "colorscale": [
             [
              0,
              "#0d0887"
             ],
             [
              0.1111111111111111,
              "#46039f"
             ],
             [
              0.2222222222222222,
              "#7201a8"
             ],
             [
              0.3333333333333333,
              "#9c179e"
             ],
             [
              0.4444444444444444,
              "#bd3786"
             ],
             [
              0.5555555555555556,
              "#d8576b"
             ],
             [
              0.6666666666666666,
              "#ed7953"
             ],
             [
              0.7777777777777778,
              "#fb9f3a"
             ],
             [
              0.8888888888888888,
              "#fdca26"
             ],
             [
              1,
              "#f0f921"
             ]
            ],
            "type": "histogram2dcontour"
           }
          ],
          "mesh3d": [
           {
            "colorbar": {
             "outlinewidth": 0,
             "ticks": ""
            },
            "type": "mesh3d"
           }
          ],
          "parcoords": [
           {
            "line": {
             "colorbar": {
              "outlinewidth": 0,
              "ticks": ""
             }
            },
            "type": "parcoords"
           }
          ],
          "pie": [
           {
            "automargin": true,
            "type": "pie"
           }
          ],
          "scatter": [
           {
            "fillpattern": {
             "fillmode": "overlay",
             "size": 10,
             "solidity": 0.2
            },
            "type": "scatter"
           }
          ],
          "scatter3d": [
           {
            "line": {
             "colorbar": {
              "outlinewidth": 0,
              "ticks": ""
             }
            },
            "marker": {
             "colorbar": {
              "outlinewidth": 0,
              "ticks": ""
             }
            },
            "type": "scatter3d"
           }
          ],
          "scattercarpet": [
           {
            "marker": {
             "colorbar": {
              "outlinewidth": 0,
              "ticks": ""
             }
            },
            "type": "scattercarpet"
           }
          ],
          "scattergeo": [
           {
            "marker": {
             "colorbar": {
              "outlinewidth": 0,
              "ticks": ""
             }
            },
            "type": "scattergeo"
           }
          ],
          "scattergl": [
           {
            "marker": {
             "colorbar": {
              "outlinewidth": 0,
              "ticks": ""
             }
            },
            "type": "scattergl"
           }
          ],
          "scattermapbox": [
           {
            "marker": {
             "colorbar": {
              "outlinewidth": 0,
              "ticks": ""
             }
            },
            "type": "scattermapbox"
           }
          ],
          "scatterpolar": [
           {
            "marker": {
             "colorbar": {
              "outlinewidth": 0,
              "ticks": ""
             }
            },
            "type": "scatterpolar"
           }
          ],
          "scatterpolargl": [
           {
            "marker": {
             "colorbar": {
              "outlinewidth": 0,
              "ticks": ""
             }
            },
            "type": "scatterpolargl"
           }
          ],
          "scatterternary": [
           {
            "marker": {
             "colorbar": {
              "outlinewidth": 0,
              "ticks": ""
             }
            },
            "type": "scatterternary"
           }
          ],
          "surface": [
           {
            "colorbar": {
             "outlinewidth": 0,
             "ticks": ""
            },
            "colorscale": [
             [
              0,
              "#0d0887"
             ],
             [
              0.1111111111111111,
              "#46039f"
             ],
             [
              0.2222222222222222,
              "#7201a8"
             ],
             [
              0.3333333333333333,
              "#9c179e"
             ],
             [
              0.4444444444444444,
              "#bd3786"
             ],
             [
              0.5555555555555556,
              "#d8576b"
             ],
             [
              0.6666666666666666,
              "#ed7953"
             ],
             [
              0.7777777777777778,
              "#fb9f3a"
             ],
             [
              0.8888888888888888,
              "#fdca26"
             ],
             [
              1,
              "#f0f921"
             ]
            ],
            "type": "surface"
           }
          ],
          "table": [
           {
            "cells": {
             "fill": {
              "color": "#EBF0F8"
             },
             "line": {
              "color": "white"
             }
            },
            "header": {
             "fill": {
              "color": "#C8D4E3"
             },
             "line": {
              "color": "white"
             }
            },
            "type": "table"
           }
          ]
         },
         "layout": {
          "annotationdefaults": {
           "arrowcolor": "#2a3f5f",
           "arrowhead": 0,
           "arrowwidth": 1
          },
          "autotypenumbers": "strict",
          "coloraxis": {
           "colorbar": {
            "outlinewidth": 0,
            "ticks": ""
           }
          },
          "colorscale": {
           "diverging": [
            [
             0,
             "#8e0152"
            ],
            [
             0.1,
             "#c51b7d"
            ],
            [
             0.2,
             "#de77ae"
            ],
            [
             0.3,
             "#f1b6da"
            ],
            [
             0.4,
             "#fde0ef"
            ],
            [
             0.5,
             "#f7f7f7"
            ],
            [
             0.6,
             "#e6f5d0"
            ],
            [
             0.7,
             "#b8e186"
            ],
            [
             0.8,
             "#7fbc41"
            ],
            [
             0.9,
             "#4d9221"
            ],
            [
             1,
             "#276419"
            ]
           ],
           "sequential": [
            [
             0,
             "#0d0887"
            ],
            [
             0.1111111111111111,
             "#46039f"
            ],
            [
             0.2222222222222222,
             "#7201a8"
            ],
            [
             0.3333333333333333,
             "#9c179e"
            ],
            [
             0.4444444444444444,
             "#bd3786"
            ],
            [
             0.5555555555555556,
             "#d8576b"
            ],
            [
             0.6666666666666666,
             "#ed7953"
            ],
            [
             0.7777777777777778,
             "#fb9f3a"
            ],
            [
             0.8888888888888888,
             "#fdca26"
            ],
            [
             1,
             "#f0f921"
            ]
           ],
           "sequentialminus": [
            [
             0,
             "#0d0887"
            ],
            [
             0.1111111111111111,
             "#46039f"
            ],
            [
             0.2222222222222222,
             "#7201a8"
            ],
            [
             0.3333333333333333,
             "#9c179e"
            ],
            [
             0.4444444444444444,
             "#bd3786"
            ],
            [
             0.5555555555555556,
             "#d8576b"
            ],
            [
             0.6666666666666666,
             "#ed7953"
            ],
            [
             0.7777777777777778,
             "#fb9f3a"
            ],
            [
             0.8888888888888888,
             "#fdca26"
            ],
            [
             1,
             "#f0f921"
            ]
           ]
          },
          "colorway": [
           "#636efa",
           "#EF553B",
           "#00cc96",
           "#ab63fa",
           "#FFA15A",
           "#19d3f3",
           "#FF6692",
           "#B6E880",
           "#FF97FF",
           "#FECB52"
          ],
          "font": {
           "color": "#2a3f5f"
          },
          "geo": {
           "bgcolor": "white",
           "lakecolor": "white",
           "landcolor": "#E5ECF6",
           "showlakes": true,
           "showland": true,
           "subunitcolor": "white"
          },
          "hoverlabel": {
           "align": "left"
          },
          "hovermode": "closest",
          "mapbox": {
           "style": "light"
          },
          "paper_bgcolor": "white",
          "plot_bgcolor": "#E5ECF6",
          "polar": {
           "angularaxis": {
            "gridcolor": "white",
            "linecolor": "white",
            "ticks": ""
           },
           "bgcolor": "#E5ECF6",
           "radialaxis": {
            "gridcolor": "white",
            "linecolor": "white",
            "ticks": ""
           }
          },
          "scene": {
           "xaxis": {
            "backgroundcolor": "#E5ECF6",
            "gridcolor": "white",
            "gridwidth": 2,
            "linecolor": "white",
            "showbackground": true,
            "ticks": "",
            "zerolinecolor": "white"
           },
           "yaxis": {
            "backgroundcolor": "#E5ECF6",
            "gridcolor": "white",
            "gridwidth": 2,
            "linecolor": "white",
            "showbackground": true,
            "ticks": "",
            "zerolinecolor": "white"
           },
           "zaxis": {
            "backgroundcolor": "#E5ECF6",
            "gridcolor": "white",
            "gridwidth": 2,
            "linecolor": "white",
            "showbackground": true,
            "ticks": "",
            "zerolinecolor": "white"
           }
          },
          "shapedefaults": {
           "line": {
            "color": "#2a3f5f"
           }
          },
          "ternary": {
           "aaxis": {
            "gridcolor": "white",
            "linecolor": "white",
            "ticks": ""
           },
           "baxis": {
            "gridcolor": "white",
            "linecolor": "white",
            "ticks": ""
           },
           "bgcolor": "#E5ECF6",
           "caxis": {
            "gridcolor": "white",
            "linecolor": "white",
            "ticks": ""
           }
          },
          "title": {
           "x": 0.05
          },
          "xaxis": {
           "automargin": true,
           "gridcolor": "white",
           "linecolor": "white",
           "ticks": "",
           "title": {
            "standoff": 15
           },
           "zerolinecolor": "white",
           "zerolinewidth": 2
          },
          "yaxis": {
           "automargin": true,
           "gridcolor": "white",
           "linecolor": "white",
           "ticks": "",
           "title": {
            "standoff": 15
           },
           "zerolinecolor": "white",
           "zerolinewidth": 2
          }
         }
        },
        "title": {
         "text": "Comparison of Proportions by Index"
        },
        "xaxis": {
         "anchor": "y",
         "autorange": true,
         "domain": [
          0,
          1
         ],
         "range": [
          0,
          33
         ],
         "title": {
          "text": "County + Offense Description"
         },
         "type": "category"
        },
        "yaxis": {
         "anchor": "x",
         "autorange": true,
         "domain": [
          0,
          1
         ],
         "range": [
          -0.07928548269240812,
          1.7389823106906377
         ],
         "title": {
          "text": "Proportion (%)"
         },
         "type": "linear"
        }
       }
      },
      "image/png": "[encoded data removed]",
      "text/html": [
       "<div>                            <div id=\"620141de-3dc2-4676-9289-11c6e76c477a\" class=\"plotly-graph-div\" style=\"height:525px; width:100%;\"></div>            <script type=\"text/javascript\">                require([\"plotly\"], function(Plotly) {                    window.PLOTLYENV=window.PLOTLYENV || {};                                    if (document.getElementById(\"620141de-3dc2-4676-9289-11c6e76c477a\")) {                    Plotly.newPlot(                        \"620141de-3dc2-4676-9289-11c6e76c477a\",                        [{\"hovertemplate\":\"Proportion Type=Crime_Type_Proportion\\u003cbr\\u003eCounty + Offense Description=%{x}\\u003cbr\\u003eProportion (%)=%{y}\\u003cextra\\u003e\\u003c\\u002fextra\\u003e\",\"legendgroup\":\"Crime_Type_Proportion\",\"line\":{\"color\":\"#636efa\",\"dash\":\"solid\"},\"marker\":{\"symbol\":\"circle\"},\"mode\":\"lines\",\"name\":\"Crime_Type_Proportion\",\"orientation\":\"v\",\"showlegend\":true,\"x\":[\"BRONX_ASSAULT 3 & RELATED OFFENSES\",\"BRONX_CRIMINAL MISCHIEF & RELATED OF\",\"BRONX_FELONY ASSAULT\",\"BRONX_MISCELLANEOUS PENAL LAW\",\"BRONX_OFF. AGNST PUB ORD SENSBLTY &\",\"BRONX_ROBBERY\",\"KINGS_ASSAULT 3 & RELATED OFFENSES\",\"KINGS_BURGLARY\",\"KINGS_CRIMINAL MISCHIEF & RELATED OF\",\"KINGS_FELONY ASSAULT\",\"KINGS_GRAND LARCENY\",\"KINGS_MISCELLANEOUS PENAL LAW\",\"KINGS_OFF. AGNST PUB ORD SENSBLTY &\",\"NEW YORK_ASSAULT 3 & RELATED OFFENSES\",\"NEW YORK_CRIMINAL MISCHIEF & RELATED OF\",\"NEW YORK_FELONY ASSAULT\",\"NEW YORK_MISCELLANEOUS PENAL LAW\",\"NEW YORK_OFF. AGNST PUB ORD SENSBLTY &\",\"NEW YORK_PETIT LARCENY\",\"NEW YORK_ROBBERY\",\"NEW YORK_SEX CRIMES\",\"QUEENS_ASSAULT 3 & RELATED OFFENSES\",\"QUEENS_CRIMINAL MISCHIEF & RELATED OF\",\"QUEENS_FELONY ASSAULT\",\"QUEENS_GRAND LARCENY\",\"QUEENS_HARRASSMENT 2\",\"QUEENS_MISCELLANEOUS PENAL LAW\",\"QUEENS_MURDER & NON-NEGL. MANSLAUGHTE\",\"QUEENS_OFF. AGNST PUB ORD SENSBLTY &\",\"RICHMOND_ASSAULT 3 & RELATED OFFENSES\",\"RICHMOND_CRIMINAL MISCHIEF & RELATED OF\",\"RICHMOND_MISCELLANEOUS PENAL LAW\",\"RICHMOND_OFF. AGNST PUB ORD SENSBLTY &\",\"RICHMOND_ROBBERY\"],\"xaxis\":\"x\",\"y\":[0.19230769230769232,0.15384615384615385,0.23076923076923078,0.3076923076923077,0.038461538461538464,0.07692307692307693,0.18095238095238095,0.0380952380952381,0.17142857142857143,0.09523809523809523,0.02857142857142857,0.3238095238095238,0.1619047619047619,0.11627906976744186,0.313953488372093,0.06976744186046512,0.26744186046511625,0.13953488372093023,0.023255813953488372,0.05813953488372093,0.011627906976744186,0.08163265306122448,0.3673469387755102,0.10204081632653061,0.02040816326530612,0.061224489795918366,0.2653061224489796,0.02040816326530612,0.08163265306122448,0.2777777777777778,0.3333333333333333,0.2777777777777778,0.05555555555555555,0.05555555555555555],\"yaxis\":\"y\",\"type\":\"scatter\"},{\"hovertemplate\":\"Proportion Type=Crime_proportion_%\\u003cbr\\u003eCounty + Offense Description=%{x}\\u003cbr\\u003eProportion (%)=%{y}\\u003cextra\\u003e\\u003c\\u002fextra\\u003e\",\"legendgroup\":\"Crime_proportion_%\",\"line\":{\"color\":\"#EF553B\",\"dash\":\"solid\"},\"marker\":{\"symbol\":\"circle\"},\"mode\":\"lines\",\"name\":\"Crime_proportion_%\",\"orientation\":\"v\",\"showlegend\":true,\"x\":[\"BRONX_ASSAULT 3 & RELATED OFFENSES\",\"BRONX_CRIMINAL MISCHIEF & RELATED OF\",\"BRONX_FELONY ASSAULT\",\"BRONX_MISCELLANEOUS PENAL LAW\",\"BRONX_OFF. AGNST PUB ORD SENSBLTY &\",\"BRONX_ROBBERY\",\"KINGS_ASSAULT 3 & RELATED OFFENSES\",\"KINGS_BURGLARY\",\"KINGS_CRIMINAL MISCHIEF & RELATED OF\",\"KINGS_FELONY ASSAULT\",\"KINGS_GRAND LARCENY\",\"KINGS_MISCELLANEOUS PENAL LAW\",\"KINGS_OFF. AGNST PUB ORD SENSBLTY &\",\"NEW YORK_ASSAULT 3 & RELATED OFFENSES\",\"NEW YORK_CRIMINAL MISCHIEF & RELATED OF\",\"NEW YORK_FELONY ASSAULT\",\"NEW YORK_MISCELLANEOUS PENAL LAW\",\"NEW YORK_OFF. AGNST PUB ORD SENSBLTY &\",\"NEW YORK_PETIT LARCENY\",\"NEW YORK_ROBBERY\",\"NEW YORK_SEX CRIMES\",\"QUEENS_ASSAULT 3 & RELATED OFFENSES\",\"QUEENS_CRIMINAL MISCHIEF & RELATED OF\",\"QUEENS_FELONY ASSAULT\",\"QUEENS_GRAND LARCENY\",\"QUEENS_HARRASSMENT 2\",\"QUEENS_MISCELLANEOUS PENAL LAW\",\"QUEENS_MURDER & NON-NEGL. MANSLAUGHTE\",\"QUEENS_OFF. AGNST PUB ORD SENSBLTY &\",\"RICHMOND_ASSAULT 3 & RELATED OFFENSES\",\"RICHMOND_CRIMINAL MISCHIEF & RELATED OF\",\"RICHMOND_MISCELLANEOUS PENAL LAW\",\"RICHMOND_OFF. AGNST PUB ORD SENSBLTY &\",\"RICHMOND_ROBBERY\"],\"xaxis\":\"x\",\"y\":[0.3455931345850256,0.27647450766802045,0.4147117615020307,0.5529490153360409,0.06911862691700511,0.13823725383401023,0.7174002020803095,0.15103162149059146,0.6796422967076616,0.3775790537264787,0.11327371611794361,1.2837687826700275,0.6418843913350137,0.6103958966746242,1.6480689210214854,0.36623753800477454,1.4039105623516357,0.7324750760095491,0.12207917933492485,0.3051979483373121,0.061039589667462424,0.17165208696752984,0.7724343913538844,0.2145651087094123,0.04291302174188246,0.1287390652256474,0.557869282644472,0.04291302174188246,0.17165208696752984,1.0263673779392597,1.2316408535271115,1.0263673779392597,0.20527347558785192,0.20527347558785192],\"yaxis\":\"y\",\"type\":\"scatter\"}],                        {\"template\":{\"data\":{\"histogram2dcontour\":[{\"type\":\"histogram2dcontour\",\"colorbar\":{\"outlinewidth\":0,\"ticks\":\"\"},\"colorscale\":[[0.0,\"#0d0887\"],[0.1111111111111111,\"#46039f\"],[0.2222222222222222,\"#7201a8\"],[0.3333333333333333,\"#9c179e\"],[0.4444444444444444,\"#bd3786\"],[0.5555555555555556,\"#d8576b\"],[0.6666666666666666,\"#ed7953\"],[0.7777777777777778,\"#fb9f3a\"],[0.8888888888888888,\"#fdca26\"],[1.0,\"#f0f921\"]]}],\"choropleth\":[{\"type\":\"choropleth\",\"colorbar\":{\"outlinewidth\":0,\"ticks\":\"\"}}],\"histogram2d\":[{\"type\":\"histogram2d\",\"colorbar\":{\"outlinewidth\":0,\"ticks\":\"\"},\"colorscale\":[[0.0,\"#0d0887\"],[0.1111111111111111,\"#46039f\"],[0.2222222222222222,\"#7201a8\"],[0.3333333333333333,\"#9c179e\"],[0.4444444444444444,\"#bd3786\"],[0.5555555555555556,\"#d8576b\"],[0.6666666666666666,\"#ed7953\"],[0.7777777777777778,\"#fb9f3a\"],[0.8888888888888888,\"#fdca26\"],[1.0,\"#f0f921\"]]}],\"heatmap\":[{\"type\":\"heatmap\",\"colorbar\":{\"outlinewidth\":0,\"ticks\":\"\"},\"colorscale\":[[0.0,\"#0d0887\"],[0.1111111111111111,\"#46039f\"],[0.2222222222222222,\"#7201a8\"],[0.3333333333333333,\"#9c179e\"],[0.4444444444444444,\"#bd3786\"],[0.5555555555555556,\"#d8576b\"],[0.6666666666666666,\"#ed7953\"],[0.7777777777777778,\"#fb9f3a\"],[0.8888888888888888,\"#fdca26\"],[1.0,\"#f0f921\"]]}],\"heatmapgl\":[{\"type\":\"heatmapgl\",\"colorbar\":{\"outlinewidth\":0,\"ticks\":\"\"},\"colorscale\":[[0.0,\"#0d0887\"],[0.1111111111111111,\"#46039f\"],[0.2222222222222222,\"#7201a8\"],[0.3333333333333333,\"#9c179e\"],[0.4444444444444444,\"#bd3786\"],[0.5555555555555556,\"#d8576b\"],[0.6666666666666666,\"#ed7953\"],[0.7777777777777778,\"#fb9f3a\"],[0.8888888888888888,\"#fdca26\"],[1.0,\"#f0f921\"]]}],\"contourcarpet\":[{\"type\":\"contourcarpet\",\"colorbar\":{\"outlinewidth\":0,\"ticks\":\"\"}}],\"contour\":[{\"type\":\"contour\",\"colorbar\":{\"outlinewidth\":0,\"ticks\":\"\"},\"colorscale\":[[0.0,\"#0d0887\"],[0.1111111111111111,\"#46039f\"],[0.2222222222222222,\"#7201a8\"],[0.3333333333333333,\"#9c179e\"],[0.4444444444444444,\"#bd3786\"],[0.5555555555555556,\"#d8576b\"],[0.6666666666666666,\"#ed7953\"],[0.7777777777777778,\"#fb9f3a\"],[0.8888888888888888,\"#fdca26\"],[1.0,\"#f0f921\"]]}],\"surface\":[{\"type\":\"surface\",\"colorbar\":{\"outlinewidth\":0,\"ticks\":\"\"},\"colorscale\":[[0.0,\"#0d0887\"],[0.1111111111111111,\"#46039f\"],[0.2222222222222222,\"#7201a8\"],[0.3333333333333333,\"#9c179e\"],[0.4444444444444444,\"#bd3786\"],[0.5555555555555556,\"#d8576b\"],[0.6666666666666666,\"#ed7953\"],[0.7777777777777778,\"#fb9f3a\"],[0.8888888888888888,\"#fdca26\"],[1.0,\"#f0f921\"]]}],\"mesh3d\":[{\"type\":\"mesh3d\",\"colorbar\":{\"outlinewidth\":0,\"ticks\":\"\"}}],\"scatter\":[{\"fillpattern\":{\"fillmode\":\"overlay\",\"size\":10,\"solidity\":0.2},\"type\":\"scatter\"}],\"parcoords\":[{\"type\":\"parcoords\",\"line\":{\"colorbar\":{\"outlinewidth\":0,\"ticks\":\"\"}}}],\"scatterpolargl\":[{\"type\":\"scatterpolargl\",\"marker\":{\"colorbar\":{\"outlinewidth\":0,\"ticks\":\"\"}}}],\"bar\":[{\"error_x\":{\"color\":\"#2a3f5f\"},\"error_y\":{\"color\":\"#2a3f5f\"},\"marker\":{\"line\":{\"color\":\"#E5ECF6\",\"width\":0.5},\"pattern\":{\"fillmode\":\"overlay\",\"size\":10,\"solidity\":0.2}},\"type\":\"bar\"}],\"scattergeo\":[{\"type\":\"scattergeo\",\"marker\":{\"colorbar\":{\"outlinewidth\":0,\"ticks\":\"\"}}}],\"scatterpolar\":[{\"type\":\"scatterpolar\",\"marker\":{\"colorbar\":{\"outlinewidth\":0,\"ticks\":\"\"}}}],\"histogram\":[{\"marker\":{\"pattern\":{\"fillmode\":\"overlay\",\"size\":10,\"solidity\":0.2}},\"type\":\"histogram\"}],\"scattergl\":[{\"type\":\"scattergl\",\"marker\":{\"colorbar\":{\"outlinewidth\":0,\"ticks\":\"\"}}}],\"scatter3d\":[{\"type\":\"scatter3d\",\"line\":{\"colorbar\":{\"outlinewidth\":0,\"ticks\":\"\"}},\"marker\":{\"colorbar\":{\"outlinewidth\":0,\"ticks\":\"\"}}}],\"scattermapbox\":[{\"type\":\"scattermapbox\",\"marker\":{\"colorbar\":{\"outlinewidth\":0,\"ticks\":\"\"}}}],\"scatterternary\":[{\"type\":\"scatterternary\",\"marker\":{\"colorbar\":{\"outlinewidth\":0,\"ticks\":\"\"}}}],\"scattercarpet\":[{\"type\":\"scattercarpet\",\"marker\":{\"colorbar\":{\"outlinewidth\":0,\"ticks\":\"\"}}}],\"carpet\":[{\"aaxis\":{\"endlinecolor\":\"#2a3f5f\",\"gridcolor\":\"white\",\"linecolor\":\"white\",\"minorgridcolor\":\"white\",\"startlinecolor\":\"#2a3f5f\"},\"baxis\":{\"endlinecolor\":\"#2a3f5f\",\"gridcolor\":\"white\",\"linecolor\":\"white\",\"minorgridcolor\":\"white\",\"startlinecolor\":\"#2a3f5f\"},\"type\":\"carpet\"}],\"table\":[{\"cells\":{\"fill\":{\"color\":\"#EBF0F8\"},\"line\":{\"color\":\"white\"}},\"header\":{\"fill\":{\"color\":\"#C8D4E3\"},\"line\":{\"color\":\"white\"}},\"type\":\"table\"}],\"barpolar\":[{\"marker\":{\"line\":{\"color\":\"#E5ECF6\",\"width\":0.5},\"pattern\":{\"fillmode\":\"overlay\",\"size\":10,\"solidity\":0.2}},\"type\":\"barpolar\"}],\"pie\":[{\"automargin\":true,\"type\":\"pie\"}]},\"layout\":{\"autotypenumbers\":\"strict\",\"colorway\":[\"#636efa\",\"#EF553B\",\"#00cc96\",\"#ab63fa\",\"#FFA15A\",\"#19d3f3\",\"#FF6692\",\"#B6E880\",\"#FF97FF\",\"#FECB52\"],\"font\":{\"color\":\"#2a3f5f\"},\"hovermode\":\"closest\",\"hoverlabel\":{\"align\":\"left\"},\"paper_bgcolor\":\"white\",\"plot_bgcolor\":\"#E5ECF6\",\"polar\":{\"bgcolor\":\"#E5ECF6\",\"angularaxis\":{\"gridcolor\":\"white\",\"linecolor\":\"white\",\"ticks\":\"\"},\"radialaxis\":{\"gridcolor\":\"white\",\"linecolor\":\"white\",\"ticks\":\"\"}},\"ternary\":{\"bgcolor\":\"#E5ECF6\",\"aaxis\":{\"gridcolor\":\"white\",\"linecolor\":\"white\",\"ticks\":\"\"},\"baxis\":{\"gridcolor\":\"white\",\"linecolor\":\"white\",\"ticks\":\"\"},\"caxis\":{\"gridcolor\":\"white\",\"linecolor\":\"white\",\"ticks\":\"\"}},\"coloraxis\":{\"colorbar\":{\"outlinewidth\":0,\"ticks\":\"\"}},\"colorscale\":{\"sequential\":[[0.0,\"#0d0887\"],[0.1111111111111111,\"#46039f\"],[0.2222222222222222,\"#7201a8\"],[0.3333333333333333,\"#9c179e\"],[0.4444444444444444,\"#bd3786\"],[0.5555555555555556,\"#d8576b\"],[0.6666666666666666,\"#ed7953\"],[0.7777777777777778,\"#fb9f3a\"],[0.8888888888888888,\"#fdca26\"],[1.0,\"#f0f921\"]],\"sequentialminus\":[[0.0,\"#0d0887\"],[0.1111111111111111,\"#46039f\"],[0.2222222222222222,\"#7201a8\"],[0.3333333333333333,\"#9c179e\"],[0.4444444444444444,\"#bd3786\"],[0.5555555555555556,\"#d8576b\"],[0.6666666666666666,\"#ed7953\"],[0.7777777777777778,\"#fb9f3a\"],[0.8888888888888888,\"#fdca26\"],[1.0,\"#f0f921\"]],\"diverging\":[[0,\"#8e0152\"],[0.1,\"#c51b7d\"],[0.2,\"#de77ae\"],[0.3,\"#f1b6da\"],[0.4,\"#fde0ef\"],[0.5,\"#f7f7f7\"],[0.6,\"#e6f5d0\"],[0.7,\"#b8e186\"],[0.8,\"#7fbc41\"],[0.9,\"#4d9221\"],[1,\"#276419\"]]},\"xaxis\":{\"gridcolor\":\"white\",\"linecolor\":\"white\",\"ticks\":\"\",\"title\":{\"standoff\":15},\"zerolinecolor\":\"white\",\"automargin\":true,\"zerolinewidth\":2},\"yaxis\":{\"gridcolor\":\"white\",\"linecolor\":\"white\",\"ticks\":\"\",\"title\":{\"standoff\":15},\"zerolinecolor\":\"white\",\"automargin\":true,\"zerolinewidth\":2},\"scene\":{\"xaxis\":{\"backgroundcolor\":\"#E5ECF6\",\"gridcolor\":\"white\",\"linecolor\":\"white\",\"showbackground\":true,\"ticks\":\"\",\"zerolinecolor\":\"white\",\"gridwidth\":2},\"yaxis\":{\"backgroundcolor\":\"#E5ECF6\",\"gridcolor\":\"white\",\"linecolor\":\"white\",\"showbackground\":true,\"ticks\":\"\",\"zerolinecolor\":\"white\",\"gridwidth\":2},\"zaxis\":{\"backgroundcolor\":\"#E5ECF6\",\"gridcolor\":\"white\",\"linecolor\":\"white\",\"showbackground\":true,\"ticks\":\"\",\"zerolinecolor\":\"white\",\"gridwidth\":2}},\"shapedefaults\":{\"line\":{\"color\":\"#2a3f5f\"}},\"annotationdefaults\":{\"arrowcolor\":\"#2a3f5f\",\"arrowhead\":0,\"arrowwidth\":1},\"geo\":{\"bgcolor\":\"white\",\"landcolor\":\"#E5ECF6\",\"subunitcolor\":\"white\",\"showland\":true,\"showlakes\":true,\"lakecolor\":\"white\"},\"title\":{\"x\":0.05},\"mapbox\":{\"style\":\"light\"}}},\"xaxis\":{\"anchor\":\"y\",\"domain\":[0.0,1.0],\"title\":{\"text\":\"County + Offense Description\"}},\"yaxis\":{\"anchor\":\"x\",\"domain\":[0.0,1.0],\"title\":{\"text\":\"Proportion (%)\"}},\"legend\":{\"title\":{\"text\":\"Proportion Type\"},\"tracegroupgap\":0},\"title\":{\"text\":\"Comparison of Proportions by Index\"}},                        {\"responsive\": true}                    ).then(function(){\n",
       "                            \n",
       "var gd = document.getElementById('620141de-3dc2-4676-9289-11c6e76c477a');\n",
       "var x = new MutationObserver(function (mutations, observer) {{\n",
       "        var display = window.getComputedStyle(gd).display;\n",
       "        if (!display || display === 'none') {{\n",
       "            console.log([gd, 'removed!']);\n",
       "            Plotly.purge(gd);\n",
       "            observer.disconnect();\n",
       "        }}\n",
       "}});\n",
       "\n",
       "// Listen for the removal of the full notebook cells\n",
       "var notebookContainer = gd.closest('#notebook-container');\n",
       "if (notebookContainer) {{\n",
       "    x.observe(notebookContainer, {childList: true});\n",
       "}}\n",
       "\n",
       "// Listen for the clearing of the current output cell\n",
       "var outputEl = gd.closest('.output');\n",
       "if (outputEl) {{\n",
       "    x.observe(outputEl, {childList: true});\n",
       "}}\n",
       "\n",
       "                        })                };                });            </script>        </div>"
      ]
     },
     "metadata": {},
     "output_type": "display_data"
    }
   ],
   "source": [
    "# Create the line plot\n",
    "compare_data = px.line(\n",
    "    melted_data, \n",
    "    x='Index', \n",
    "    y='Value', \n",
    "    color='Proportion_Type',  \n",
    "    title='Comparison of Proportions by Index', \n",
    "    labels={\n",
    "        'Value': 'Proportion (%)',  # Label for the y-axis\n",
    "        'Proportion_Type': 'Proportion Type',  # Label for the color legend\n",
    "        'Index': 'County + Offense Description'  # Label for the x-axis\n",
    "    }\n",
    ")\n",
    "\n",
    "# Show the plot\n",
    "compare_data.show()\n"
   ]
  },
  {
   "cell_type": "markdown",
   "id": "025308a2-8b20-4070-b7d5-bfb2be4067e8",
   "metadata": {},
   "source": [
    "# CONCLUSIONS FROM DATA¶\n",
    "## Conclusion:\n",
    "### Relationship Observed:\n",
    "\n",
    "By merging the two datasets, we derived two key measures: Crime_Type_Proportion (specific crime type's share of total crimes in a district) and Crime_proportion_% (total crimes normalized by population in a district). The visualization demonstrates a lack of consistent correlation between the two metrics, indicating they measure different aspects of crime patterns.\n",
    "\n",
    "### Insights from Derived Measures:\n",
    "\n",
    "Crime_Type_Proportion highlights the dominance of certain crime types in each district. For example, in some districts, specific crimes like \"FELONY ASSAULT\" have a disproportionately high share of total crimes, even if the overall crime rate in the district is low.\n",
    "\n",
    "Crime_proportion_% is influenced more by the district population and total crime count. Smaller districts or those with unusually high crime counts relative to population show spikes in this measure.\n",
    "Value of Visualization:\n",
    "\n",
    "Plotting both measures in a single chart allows a side-by-side comparison, making it clear that while some patterns overlap, these two proportions are largely independent. This highlights the importance of analyzing crime data through multiple lenses to derive actionable insights for crime prevention and resource allocation."
   ]
  },
  {
   "cell_type": "code",
   "execution_count": null,
   "id": "44171bd2-0d7c-4b7e-9971-a074d3a1351e",
   "metadata": {},
   "outputs": [],
   "source": []
  }
 ],
 "metadata": {
  "kernelspec": {
   "display_name": "Python 3 (ipykernel)",
   "language": "python",
   "name": "python3"
  },
  "language_info": {
   "codemirror_mode": {
    "name": "ipython",
    "version": 3
   },
   "file_extension": ".py",
   "mimetype": "text/x-python",
   "name": "python",
   "nbconvert_exporter": "python",
   "pygments_lexer": "ipython3",
   "version": "3.12.4"
  }
 },
 "nbformat": 4,
 "nbformat_minor": 5
}
